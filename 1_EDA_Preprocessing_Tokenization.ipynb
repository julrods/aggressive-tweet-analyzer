{
  "nbformat": 4,
  "nbformat_minor": 0,
  "metadata": {
    "colab": {
      "name": "1_EDA-Preprocessing-Tokenization.ipynb",
      "provenance": [],
      "include_colab_link": true
    },
    "kernelspec": {
      "display_name": "Python 3",
      "language": "python",
      "name": "python3"
    },
    "language_info": {
      "codemirror_mode": {
        "name": "ipython",
        "version": 3
      },
      "file_extension": ".py",
      "mimetype": "text/x-python",
      "name": "python",
      "nbconvert_exporter": "python",
      "pygments_lexer": "ipython3",
      "version": "3.9.1"
    },
    "toc": {
      "base_numbering": 1,
      "nav_menu": {},
      "number_sections": true,
      "sideBar": true,
      "skip_h1_title": true,
      "title_cell": "Table of Contents",
      "title_sidebar": "Contents",
      "toc_cell": true,
      "toc_position": {},
      "toc_section_display": true,
      "toc_window_display": true
    },
    "varInspector": {
      "cols": {
        "lenName": 16,
        "lenType": 16,
        "lenVar": 40
      },
      "kernels_config": {
        "python": {
          "delete_cmd_postfix": "",
          "delete_cmd_prefix": "del ",
          "library": "var_list.py",
          "varRefreshCmd": "print(var_dic_list())"
        },
        "r": {
          "delete_cmd_postfix": ") ",
          "delete_cmd_prefix": "rm(",
          "library": "var_list.r",
          "varRefreshCmd": "cat(var_dic_list()) "
        }
      },
      "types_to_exclude": [
        "module",
        "function",
        "builtin_function_or_method",
        "instance",
        "_Feature"
      ],
      "window_display": false
    }
  },
  "cells": [
    {
      "cell_type": "markdown",
      "metadata": {
        "id": "view-in-github",
        "colab_type": "text"
      },
      "source": [
        "<a href=\"https://colab.research.google.com/github/julrods/aggressive-tweet-analyzer/blob/main/1_EDA_Preprocessing_Tokenization.ipynb\" target=\"_parent\"><img src=\"https://colab.research.google.com/assets/colab-badge.svg\" alt=\"Open In Colab\"/></a>"
      ]
    },
    {
      "cell_type": "markdown",
      "metadata": {
        "toc": true,
        "id": "8emvS1sla-kP"
      },
      "source": [
        "<h1>Table of Contents<span class=\"tocSkip\"></span></h1>\n",
        "<div class=\"toc\"><ul class=\"toc-item\"><li><span><a href=\"#Environment\" data-toc-modified-id=\"Environment-1\"><span class=\"toc-item-num\">1&nbsp;&nbsp;</span>Environment</a></span><ul class=\"toc-item\"><li><span><a href=\"#Libraries\" data-toc-modified-id=\"Libraries-1.1\"><span class=\"toc-item-num\">1.1&nbsp;&nbsp;</span>Libraries</a></span></li><li><span><a href=\"#Functions\" data-toc-modified-id=\"Functions-1.2\"><span class=\"toc-item-num\">1.2&nbsp;&nbsp;</span>Functions</a></span></li></ul></li><li><span><a href=\"#Training-datasets\" data-toc-modified-id=\"Training-datasets-2\"><span class=\"toc-item-num\">2&nbsp;&nbsp;</span>Training datasets</a></span><ul class=\"toc-item\"><li><span><a href=\"#Importing-the-data\" data-toc-modified-id=\"Importing-the-data-2.1\"><span class=\"toc-item-num\">2.1&nbsp;&nbsp;</span>Importing the data</a></span></li><li><span><a href=\"#EDA\" data-toc-modified-id=\"EDA-2.2\"><span class=\"toc-item-num\">2.2&nbsp;&nbsp;</span>EDA</a></span><ul class=\"toc-item\"><li><span><a href=\"#Head-and-tail-of-each-dataset\" data-toc-modified-id=\"Head-and-tail-of-each-dataset-2.2.1\"><span class=\"toc-item-num\">2.2.1&nbsp;&nbsp;</span>Head and tail of each dataset</a></span></li><li><span><a href=\"#Target-class-imbalances\" data-toc-modified-id=\"Target-class-imbalances-2.2.2\"><span class=\"toc-item-num\">2.2.2&nbsp;&nbsp;</span>Target class imbalances</a></span></li><li><span><a href=\"#Null-values\" data-toc-modified-id=\"Null-values-2.2.3\"><span class=\"toc-item-num\">2.2.3&nbsp;&nbsp;</span>Null values</a></span></li></ul></li><li><span><a href=\"#Preprocessing\" data-toc-modified-id=\"Preprocessing-2.3\"><span class=\"toc-item-num\">2.3&nbsp;&nbsp;</span>Preprocessing</a></span></li><li><span><a href=\"#Tokenization\" data-toc-modified-id=\"Tokenization-2.4\"><span class=\"toc-item-num\">2.4&nbsp;&nbsp;</span>Tokenization</a></span></li></ul></li><li><span><a href=\"#Evaluation-dataset\" data-toc-modified-id=\"Evaluation-dataset-3\"><span class=\"toc-item-num\">3&nbsp;&nbsp;</span>Evaluation dataset</a></span><ul class=\"toc-item\"><li><span><a href=\"#Loading-the-files\" data-toc-modified-id=\"Loading-the-files-3.1\"><span class=\"toc-item-num\">3.1&nbsp;&nbsp;</span>Loading the files</a></span></li><li><span><a href=\"#EDA\" data-toc-modified-id=\"EDA-3.2\"><span class=\"toc-item-num\">3.2&nbsp;&nbsp;</span>EDA</a></span></li><li><span><a href=\"#Preprocessing\" data-toc-modified-id=\"Preprocessing-3.3\"><span class=\"toc-item-num\">3.3&nbsp;&nbsp;</span>Preprocessing</a></span></li><li><span><a href=\"#Tokenization\" data-toc-modified-id=\"Tokenization-3.4\"><span class=\"toc-item-num\">3.4&nbsp;&nbsp;</span>Tokenization</a></span></li></ul></li></ul></div>"
      ]
    },
    {
      "cell_type": "markdown",
      "metadata": {
        "id": "3vRX1i6WPD7Z"
      },
      "source": [
        "# EDA, Preprocessing and Tokenization"
      ]
    },
    {
      "cell_type": "markdown",
      "metadata": {
        "id": "LTg4jlOxbAQE"
      },
      "source": [
        "In the first part of this notebook I did the Exploratory Data Analysis, preprocessing and tokenization of the 8 datasets that I intended to use for training. The data comes from different social media platforms like Kaggle, Twitter, Wikipedia Talk pages and YouTube. It contains comments labeled as bullying or not. There are different types of cyber-bullying like hate speech,  aggression, insults and toxicity. \n",
        "\n",
        "In the second part, I did the same process with the evaluation data. I scraped this data myself from Instagram with the Instaloader library. I chose to scrape the comments on Kevin Spacey's account because since he was involved in several sexual assault scandals, I figured he would be receiving aggressive comments. I scraped the last 3 posts only, as they have a total of 22k+ comments, which is enough for the evaluation of the model. \n",
        "\n",
        "After tokenization, I saved all the vectors as pickle files to be able to use them later for training. \n",
        "\n",
        "[Source](https://data.mendeley.com/datasets/jf4pzyvnpj/1) of the training datasets."
      ]
    },
    {
      "cell_type": "markdown",
      "metadata": {
        "id": "YHWpsRFPa-kU"
      },
      "source": [
        "## Environment"
      ]
    },
    {
      "cell_type": "markdown",
      "metadata": {
        "id": "yymChyEhPccH"
      },
      "source": [
        "### Libraries"
      ]
    },
    {
      "cell_type": "code",
      "metadata": {
        "id": "Ve-k93qpjh50"
      },
      "source": [
        "pip install transformers"
      ],
      "execution_count": null,
      "outputs": []
    },
    {
      "cell_type": "code",
      "metadata": {
        "id": "zSCmn831Pesa"
      },
      "source": [
        "# Base libraries\n",
        "import os\n",
        "import pandas as pd\n",
        "import numpy as np\n",
        "import matplotlib.pyplot as plt\n",
        "import seaborn as sns\n",
        "import json\n",
        "import pickle\n",
        "from IPython.display import display\n",
        "from sklearn.utils import shuffle\n",
        "\n",
        "# Text-processing libraries\n",
        "import re\n",
        "import unicodedata\n",
        "import nltk\n",
        "from nltk.corpus import stopwords\n",
        "import itertools\n",
        "from tqdm import tqdm\n",
        "from transformers import BertTokenizer"
      ],
      "execution_count": null,
      "outputs": []
    },
    {
      "cell_type": "code",
      "metadata": {
        "colab": {
          "base_uri": "https://localhost:8080/"
        },
        "id": "Y-et2JwZDfAK",
        "outputId": "2f4fc579-aeae-47c4-db51-a8ca506aa03b"
      },
      "source": [
        "# Downloading the stopwords package \n",
        "nltk.download('stopwords')"
      ],
      "execution_count": null,
      "outputs": [
        {
          "output_type": "stream",
          "text": [
            "[nltk_data] Downloading package stopwords to /root/nltk_data...\n",
            "[nltk_data]   Unzipping corpora/stopwords.zip.\n"
          ],
          "name": "stdout"
        },
        {
          "output_type": "execute_result",
          "data": {
            "text/plain": [
              "True"
            ]
          },
          "metadata": {
            "tags": []
          },
          "execution_count": 3
        }
      ]
    },
    {
      "cell_type": "code",
      "metadata": {
        "colab": {
          "base_uri": "https://localhost:8080/"
        },
        "id": "JZvvUxu0b-mD",
        "outputId": "280eedbe-cf46-411d-8295-4cc9a9ce6fee"
      },
      "source": [
        "# Connecting to google drive to be able to use files that are stored there\n",
        "from google.colab import drive\n",
        "drive.mount('/content/gdrive')"
      ],
      "execution_count": null,
      "outputs": [
        {
          "output_type": "stream",
          "text": [
            "Mounted at /content/gdrive\n"
          ],
          "name": "stdout"
        }
      ]
    },
    {
      "cell_type": "markdown",
      "metadata": {
        "id": "C2I7D0SMPi6l"
      },
      "source": [
        "### Functions"
      ]
    },
    {
      "cell_type": "code",
      "metadata": {
        "id": "8-_SqNYqQF4-"
      },
      "source": [
        "def column_cleaner(df):\n",
        "    \"\"\" \n",
        "    Input: a DataFrame with many columns, including 'Text' and 'oh_label'\n",
        "    Output: a DataFrame with only two columns, 'text' and 'label', without null values\n",
        "    \"\"\"\n",
        "    new_df = df[['Text', 'oh_label']].rename(columns={'Text':'text', 'oh_label':'label'})\n",
        "    new_df = new_df.dropna()\n",
        "    new_df['label'] = new_df['label'].astype(int)\n",
        "    return new_df\n",
        "\n",
        "def unicode_to_ascii(sentence):\n",
        "    \"\"\" \n",
        "    Input: a string (one sentence) in Unicode character encoding\n",
        "    Output: a string (one sentence) in ASCII character encoding\n",
        "    \"\"\"\n",
        "    return ''.join(character for character in unicodedata.normalize('NFD', sentence) if unicodedata.category(character) != 'Mn')\n",
        "\n",
        "def clean_stopwords_shortwords(sentence):\n",
        "    \"\"\" \n",
        "    Input: a string (one sentence)\n",
        "    Output: a string (one sentence) without stop words and words shorter than 2 characters\n",
        "    \"\"\"\n",
        "    stopwords_list = stopwords.words('english')\n",
        "    words = sentence.split() \n",
        "    clean_words = [word for word in words if (word not in stopwords_list) and len(word) > 2]\n",
        "    return \" \".join(clean_words) \n",
        "\n",
        "def preprocess_sentence(sentence):\n",
        "    \"\"\"\n",
        "    Input: a raw sentence\n",
        "    Output: a clean sentence ready to be passed to a tokenizer\n",
        "    \"\"\"\n",
        "    sentence = unicode_to_ascii(sentence.lower().strip())\n",
        "    sentence = re.sub(r\"([?.!,¿])\", r\" \", sentence)\n",
        "    sentence = re.sub(r'[\" \"]+', \" \", sentence)\n",
        "    sentence = re.sub(r\"[^a-zA-Z?.!,¿]+\", \" \", sentence)\n",
        "    sentence = clean_stopwords_shortwords(sentence)\n",
        "    sentence = re.sub(r'@\\w+', '', sentence)\n",
        "    return sentence"
      ],
      "execution_count": null,
      "outputs": []
    },
    {
      "cell_type": "markdown",
      "metadata": {
        "id": "ie0eSJav-HIA"
      },
      "source": [
        "## Training datasets"
      ]
    },
    {
      "cell_type": "markdown",
      "metadata": {
        "id": "bOCIIAsSI-fJ"
      },
      "source": [
        "We are going to work with 8 cyber-bullying datasets. All the data for this project can be found [here](https://drive.google.com/drive/u/1/folders/1v_0Qsvn43zcv3dMFjdeg-st1C0-qMAgK)."
      ]
    },
    {
      "cell_type": "markdown",
      "metadata": {
        "id": "7gLxlGbUQNAY"
      },
      "source": [
        "### Importing the data"
      ]
    },
    {
      "cell_type": "code",
      "metadata": {
        "id": "6Pym4YASQfeP"
      },
      "source": [
        "filepath = '/content/gdrive/MyDrive/Cyber-bullying-project/data/1_raw_data/'"
      ],
      "execution_count": null,
      "outputs": []
    },
    {
      "cell_type": "code",
      "metadata": {
        "id": "DKcwdUYiEsnW"
      },
      "source": [
        "aggression_original = pd.read_csv(filepath + 'aggression_parsed_dataset.csv')\n",
        "attack_original = pd.read_csv(filepath + 'attack_parsed_dataset.csv')\n",
        "kaggle_original = pd.read_csv(filepath + 'kaggle_parsed_dataset.csv')\n",
        "toxicity_original = pd.read_csv(filepath + 'toxicity_parsed_dataset.csv')\n",
        "twitter_original = pd.read_csv(filepath + 'twitter_parsed_dataset.csv')\n",
        "racism_original = pd.read_csv(filepath + 'twitter_racism_parsed_dataset.csv')\n",
        "sexism_original = pd.read_csv(filepath + 'twitter_sexism_parsed_dataset.csv')\n",
        "youtube_original = pd.read_csv(filepath + 'youtube_parsed_dataset.csv')"
      ],
      "execution_count": null,
      "outputs": []
    },
    {
      "cell_type": "code",
      "metadata": {
        "id": "L0NNMzfHKFiw"
      },
      "source": [
        "# Make copies to keep the original version of each dataset\n",
        "aggression = aggression_original.copy()\n",
        "attack = attack_original.copy()\n",
        "kaggle = kaggle_original.copy()\n",
        "toxicity = toxicity_original.copy()\n",
        "twitter = twitter_original.copy()\n",
        "racism = racism_original.copy()\n",
        "sexism = sexism_original.copy()\n",
        "youtube = youtube_original.copy()"
      ],
      "execution_count": null,
      "outputs": []
    },
    {
      "cell_type": "code",
      "metadata": {
        "id": "dr7aY5YVIcm3"
      },
      "source": [
        "# Create a list of Dataframes and a list of their names to be able to iterate through them\n",
        "df_list = [aggression, attack, kaggle, toxicity, twitter, racism, sexism, youtube]\n",
        "df_names = ['Aggression', 'Attack', 'Kaggle', 'Toxicity', 'Twitter', 'Racism', 'Sexism', 'Youtube']"
      ],
      "execution_count": null,
      "outputs": []
    },
    {
      "cell_type": "markdown",
      "metadata": {
        "id": "nK8hkoizKa1p"
      },
      "source": [
        "### EDA "
      ]
    },
    {
      "cell_type": "markdown",
      "metadata": {
        "id": "ISZYinbDKkA7"
      },
      "source": [
        "#### Head and tail of each dataset"
      ]
    },
    {
      "cell_type": "code",
      "metadata": {
        "colab": {
          "base_uri": "https://localhost:8080/",
          "height": 1000
        },
        "id": "zkxjw8NYGMpM",
        "outputId": "35496610-2df0-415f-e24c-1a9ea9cd3376"
      },
      "source": [
        "# Explore the first and last 3 rows of each dataset: \n",
        "for df_name, df in zip(df_names, df_list):\n",
        "  print(f'\\n {df_name}:')\n",
        "  display(df.head(3))\n",
        "  display(df.tail(3))"
      ],
      "execution_count": null,
      "outputs": [
        {
          "output_type": "stream",
          "text": [
            "\n",
            " Aggression:\n"
          ],
          "name": "stdout"
        },
        {
          "output_type": "display_data",
          "data": {
            "text/html": [
              "<div>\n",
              "<style scoped>\n",
              "    .dataframe tbody tr th:only-of-type {\n",
              "        vertical-align: middle;\n",
              "    }\n",
              "\n",
              "    .dataframe tbody tr th {\n",
              "        vertical-align: top;\n",
              "    }\n",
              "\n",
              "    .dataframe thead th {\n",
              "        text-align: right;\n",
              "    }\n",
              "</style>\n",
              "<table border=\"1\" class=\"dataframe\">\n",
              "  <thead>\n",
              "    <tr style=\"text-align: right;\">\n",
              "      <th></th>\n",
              "      <th>index</th>\n",
              "      <th>Text</th>\n",
              "      <th>ed_label_0</th>\n",
              "      <th>ed_label_1</th>\n",
              "      <th>oh_label</th>\n",
              "    </tr>\n",
              "  </thead>\n",
              "  <tbody>\n",
              "    <tr>\n",
              "      <th>0</th>\n",
              "      <td>0</td>\n",
              "      <td>`- This is not ``creative``.  Those are the di...</td>\n",
              "      <td>0.9</td>\n",
              "      <td>0.1</td>\n",
              "      <td>0</td>\n",
              "    </tr>\n",
              "    <tr>\n",
              "      <th>1</th>\n",
              "      <td>1</td>\n",
              "      <td>`  :: the term ``standard model`` is itself le...</td>\n",
              "      <td>1.0</td>\n",
              "      <td>0.0</td>\n",
              "      <td>0</td>\n",
              "    </tr>\n",
              "    <tr>\n",
              "      <th>2</th>\n",
              "      <td>2</td>\n",
              "      <td>True or false, the situation as of March 200...</td>\n",
              "      <td>1.0</td>\n",
              "      <td>0.0</td>\n",
              "      <td>0</td>\n",
              "    </tr>\n",
              "  </tbody>\n",
              "</table>\n",
              "</div>"
            ],
            "text/plain": [
              "   index  ... oh_label\n",
              "0      0  ...        0\n",
              "1      1  ...        0\n",
              "2      2  ...        0\n",
              "\n",
              "[3 rows x 5 columns]"
            ]
          },
          "metadata": {
            "tags": []
          }
        },
        {
          "output_type": "display_data",
          "data": {
            "text/html": [
              "<div>\n",
              "<style scoped>\n",
              "    .dataframe tbody tr th:only-of-type {\n",
              "        vertical-align: middle;\n",
              "    }\n",
              "\n",
              "    .dataframe tbody tr th {\n",
              "        vertical-align: top;\n",
              "    }\n",
              "\n",
              "    .dataframe thead th {\n",
              "        text-align: right;\n",
              "    }\n",
              "</style>\n",
              "<table border=\"1\" class=\"dataframe\">\n",
              "  <thead>\n",
              "    <tr style=\"text-align: right;\">\n",
              "      <th></th>\n",
              "      <th>index</th>\n",
              "      <th>Text</th>\n",
              "      <th>ed_label_0</th>\n",
              "      <th>ed_label_1</th>\n",
              "      <th>oh_label</th>\n",
              "    </tr>\n",
              "  </thead>\n",
              "  <tbody>\n",
              "    <tr>\n",
              "      <th>115861</th>\n",
              "      <td>115861</td>\n",
              "      <td>:The way you're trying to describe it in this...</td>\n",
              "      <td>1.0</td>\n",
              "      <td>0.0</td>\n",
              "      <td>0</td>\n",
              "    </tr>\n",
              "    <tr>\n",
              "      <th>115862</th>\n",
              "      <td>115862</td>\n",
              "      <td>== Warning ==  There is clearly a protection...</td>\n",
              "      <td>0.5</td>\n",
              "      <td>0.5</td>\n",
              "      <td>0</td>\n",
              "    </tr>\n",
              "    <tr>\n",
              "      <th>115863</th>\n",
              "      <td>115863</td>\n",
              "      <td>Alternate option=== Is there perhaps enough ne...</td>\n",
              "      <td>1.0</td>\n",
              "      <td>0.0</td>\n",
              "      <td>0</td>\n",
              "    </tr>\n",
              "  </tbody>\n",
              "</table>\n",
              "</div>"
            ],
            "text/plain": [
              "         index  ... oh_label\n",
              "115861  115861  ...        0\n",
              "115862  115862  ...        0\n",
              "115863  115863  ...        0\n",
              "\n",
              "[3 rows x 5 columns]"
            ]
          },
          "metadata": {
            "tags": []
          }
        },
        {
          "output_type": "stream",
          "text": [
            "\n",
            " Attack:\n"
          ],
          "name": "stdout"
        },
        {
          "output_type": "display_data",
          "data": {
            "text/html": [
              "<div>\n",
              "<style scoped>\n",
              "    .dataframe tbody tr th:only-of-type {\n",
              "        vertical-align: middle;\n",
              "    }\n",
              "\n",
              "    .dataframe tbody tr th {\n",
              "        vertical-align: top;\n",
              "    }\n",
              "\n",
              "    .dataframe thead th {\n",
              "        text-align: right;\n",
              "    }\n",
              "</style>\n",
              "<table border=\"1\" class=\"dataframe\">\n",
              "  <thead>\n",
              "    <tr style=\"text-align: right;\">\n",
              "      <th></th>\n",
              "      <th>index</th>\n",
              "      <th>Text</th>\n",
              "      <th>ed_label_0</th>\n",
              "      <th>ed_label_1</th>\n",
              "      <th>oh_label</th>\n",
              "    </tr>\n",
              "  </thead>\n",
              "  <tbody>\n",
              "    <tr>\n",
              "      <th>0</th>\n",
              "      <td>0</td>\n",
              "      <td>`- This is not ``creative``.  Those are the di...</td>\n",
              "      <td>1.0</td>\n",
              "      <td>0.0</td>\n",
              "      <td>0</td>\n",
              "    </tr>\n",
              "    <tr>\n",
              "      <th>1</th>\n",
              "      <td>1</td>\n",
              "      <td>`  :: the term ``standard model`` is itself le...</td>\n",
              "      <td>1.0</td>\n",
              "      <td>0.0</td>\n",
              "      <td>0</td>\n",
              "    </tr>\n",
              "    <tr>\n",
              "      <th>2</th>\n",
              "      <td>2</td>\n",
              "      <td>True or false, the situation as of March 200...</td>\n",
              "      <td>1.0</td>\n",
              "      <td>0.0</td>\n",
              "      <td>0</td>\n",
              "    </tr>\n",
              "  </tbody>\n",
              "</table>\n",
              "</div>"
            ],
            "text/plain": [
              "   index  ... oh_label\n",
              "0      0  ...        0\n",
              "1      1  ...        0\n",
              "2      2  ...        0\n",
              "\n",
              "[3 rows x 5 columns]"
            ]
          },
          "metadata": {
            "tags": []
          }
        },
        {
          "output_type": "display_data",
          "data": {
            "text/html": [
              "<div>\n",
              "<style scoped>\n",
              "    .dataframe tbody tr th:only-of-type {\n",
              "        vertical-align: middle;\n",
              "    }\n",
              "\n",
              "    .dataframe tbody tr th {\n",
              "        vertical-align: top;\n",
              "    }\n",
              "\n",
              "    .dataframe thead th {\n",
              "        text-align: right;\n",
              "    }\n",
              "</style>\n",
              "<table border=\"1\" class=\"dataframe\">\n",
              "  <thead>\n",
              "    <tr style=\"text-align: right;\">\n",
              "      <th></th>\n",
              "      <th>index</th>\n",
              "      <th>Text</th>\n",
              "      <th>ed_label_0</th>\n",
              "      <th>ed_label_1</th>\n",
              "      <th>oh_label</th>\n",
              "    </tr>\n",
              "  </thead>\n",
              "  <tbody>\n",
              "    <tr>\n",
              "      <th>115861</th>\n",
              "      <td>115861</td>\n",
              "      <td>:The way you're trying to describe it in this...</td>\n",
              "      <td>1.0</td>\n",
              "      <td>0.0</td>\n",
              "      <td>0</td>\n",
              "    </tr>\n",
              "    <tr>\n",
              "      <th>115862</th>\n",
              "      <td>115862</td>\n",
              "      <td>== Warning ==  There is clearly a protection...</td>\n",
              "      <td>0.8</td>\n",
              "      <td>0.2</td>\n",
              "      <td>0</td>\n",
              "    </tr>\n",
              "    <tr>\n",
              "      <th>115863</th>\n",
              "      <td>115863</td>\n",
              "      <td>Alternate option=== Is there perhaps enough ne...</td>\n",
              "      <td>1.0</td>\n",
              "      <td>0.0</td>\n",
              "      <td>0</td>\n",
              "    </tr>\n",
              "  </tbody>\n",
              "</table>\n",
              "</div>"
            ],
            "text/plain": [
              "         index  ... oh_label\n",
              "115861  115861  ...        0\n",
              "115862  115862  ...        0\n",
              "115863  115863  ...        0\n",
              "\n",
              "[3 rows x 5 columns]"
            ]
          },
          "metadata": {
            "tags": []
          }
        },
        {
          "output_type": "stream",
          "text": [
            "\n",
            " Kaggle:\n"
          ],
          "name": "stdout"
        },
        {
          "output_type": "display_data",
          "data": {
            "text/html": [
              "<div>\n",
              "<style scoped>\n",
              "    .dataframe tbody tr th:only-of-type {\n",
              "        vertical-align: middle;\n",
              "    }\n",
              "\n",
              "    .dataframe tbody tr th {\n",
              "        vertical-align: top;\n",
              "    }\n",
              "\n",
              "    .dataframe thead th {\n",
              "        text-align: right;\n",
              "    }\n",
              "</style>\n",
              "<table border=\"1\" class=\"dataframe\">\n",
              "  <thead>\n",
              "    <tr style=\"text-align: right;\">\n",
              "      <th></th>\n",
              "      <th>index</th>\n",
              "      <th>oh_label</th>\n",
              "      <th>Date</th>\n",
              "      <th>Text</th>\n",
              "    </tr>\n",
              "  </thead>\n",
              "  <tbody>\n",
              "    <tr>\n",
              "      <th>0</th>\n",
              "      <td>0</td>\n",
              "      <td>1</td>\n",
              "      <td>20120618192155Z</td>\n",
              "      <td>\"You fuck your dad.\"</td>\n",
              "    </tr>\n",
              "    <tr>\n",
              "      <th>1</th>\n",
              "      <td>1</td>\n",
              "      <td>0</td>\n",
              "      <td>20120528192215Z</td>\n",
              "      <td>\"i really don't understand your point.\\xa0 It ...</td>\n",
              "    </tr>\n",
              "    <tr>\n",
              "      <th>2</th>\n",
              "      <td>2</td>\n",
              "      <td>0</td>\n",
              "      <td>NaN</td>\n",
              "      <td>\"A\\\\xc2\\\\xa0majority of Canadians can and has ...</td>\n",
              "    </tr>\n",
              "  </tbody>\n",
              "</table>\n",
              "</div>"
            ],
            "text/plain": [
              "   index  ...                                               Text\n",
              "0      0  ...                               \"You fuck your dad.\"\n",
              "1      1  ...  \"i really don't understand your point.\\xa0 It ...\n",
              "2      2  ...  \"A\\\\xc2\\\\xa0majority of Canadians can and has ...\n",
              "\n",
              "[3 rows x 4 columns]"
            ]
          },
          "metadata": {
            "tags": []
          }
        },
        {
          "output_type": "display_data",
          "data": {
            "text/html": [
              "<div>\n",
              "<style scoped>\n",
              "    .dataframe tbody tr th:only-of-type {\n",
              "        vertical-align: middle;\n",
              "    }\n",
              "\n",
              "    .dataframe tbody tr th {\n",
              "        vertical-align: top;\n",
              "    }\n",
              "\n",
              "    .dataframe thead th {\n",
              "        text-align: right;\n",
              "    }\n",
              "</style>\n",
              "<table border=\"1\" class=\"dataframe\">\n",
              "  <thead>\n",
              "    <tr style=\"text-align: right;\">\n",
              "      <th></th>\n",
              "      <th>index</th>\n",
              "      <th>oh_label</th>\n",
              "      <th>Date</th>\n",
              "      <th>Text</th>\n",
              "    </tr>\n",
              "  </thead>\n",
              "  <tbody>\n",
              "    <tr>\n",
              "      <th>8796</th>\n",
              "      <td>8796</td>\n",
              "      <td>0</td>\n",
              "      <td>20120528234613Z</td>\n",
              "      <td>\"Question: Are you a boy or a girl?\"</td>\n",
              "    </tr>\n",
              "    <tr>\n",
              "      <th>8797</th>\n",
              "      <td>8797</td>\n",
              "      <td>1</td>\n",
              "      <td>20120619153537Z</td>\n",
              "      <td>\"Leave your email or phone number and maybe yo...</td>\n",
              "    </tr>\n",
              "    <tr>\n",
              "      <th>8798</th>\n",
              "      <td>8798</td>\n",
              "      <td>0</td>\n",
              "      <td>20120620000237Z</td>\n",
              "      <td>\"From the scenarios you present, I see you bel...</td>\n",
              "    </tr>\n",
              "  </tbody>\n",
              "</table>\n",
              "</div>"
            ],
            "text/plain": [
              "      index  ...                                               Text\n",
              "8796   8796  ...               \"Question: Are you a boy or a girl?\"\n",
              "8797   8797  ...  \"Leave your email or phone number and maybe yo...\n",
              "8798   8798  ...  \"From the scenarios you present, I see you bel...\n",
              "\n",
              "[3 rows x 4 columns]"
            ]
          },
          "metadata": {
            "tags": []
          }
        },
        {
          "output_type": "stream",
          "text": [
            "\n",
            " Toxicity:\n"
          ],
          "name": "stdout"
        },
        {
          "output_type": "display_data",
          "data": {
            "text/html": [
              "<div>\n",
              "<style scoped>\n",
              "    .dataframe tbody tr th:only-of-type {\n",
              "        vertical-align: middle;\n",
              "    }\n",
              "\n",
              "    .dataframe tbody tr th {\n",
              "        vertical-align: top;\n",
              "    }\n",
              "\n",
              "    .dataframe thead th {\n",
              "        text-align: right;\n",
              "    }\n",
              "</style>\n",
              "<table border=\"1\" class=\"dataframe\">\n",
              "  <thead>\n",
              "    <tr style=\"text-align: right;\">\n",
              "      <th></th>\n",
              "      <th>index</th>\n",
              "      <th>Text</th>\n",
              "      <th>ed_label_0</th>\n",
              "      <th>ed_label_1</th>\n",
              "      <th>oh_label</th>\n",
              "    </tr>\n",
              "  </thead>\n",
              "  <tbody>\n",
              "    <tr>\n",
              "      <th>0</th>\n",
              "      <td>0</td>\n",
              "      <td>This: :One can make an analogy in mathematical...</td>\n",
              "      <td>0.9</td>\n",
              "      <td>0.1</td>\n",
              "      <td>0</td>\n",
              "    </tr>\n",
              "    <tr>\n",
              "      <th>1</th>\n",
              "      <td>1</td>\n",
              "      <td>`  :Clarification for you  (and Zundark's righ...</td>\n",
              "      <td>1.0</td>\n",
              "      <td>0.0</td>\n",
              "      <td>0</td>\n",
              "    </tr>\n",
              "    <tr>\n",
              "      <th>2</th>\n",
              "      <td>2</td>\n",
              "      <td>Elected or Electoral? JHK</td>\n",
              "      <td>1.0</td>\n",
              "      <td>0.0</td>\n",
              "      <td>0</td>\n",
              "    </tr>\n",
              "  </tbody>\n",
              "</table>\n",
              "</div>"
            ],
            "text/plain": [
              "   index  ... oh_label\n",
              "0      0  ...        0\n",
              "1      1  ...        0\n",
              "2      2  ...        0\n",
              "\n",
              "[3 rows x 5 columns]"
            ]
          },
          "metadata": {
            "tags": []
          }
        },
        {
          "output_type": "display_data",
          "data": {
            "text/html": [
              "<div>\n",
              "<style scoped>\n",
              "    .dataframe tbody tr th:only-of-type {\n",
              "        vertical-align: middle;\n",
              "    }\n",
              "\n",
              "    .dataframe tbody tr th {\n",
              "        vertical-align: top;\n",
              "    }\n",
              "\n",
              "    .dataframe thead th {\n",
              "        text-align: right;\n",
              "    }\n",
              "</style>\n",
              "<table border=\"1\" class=\"dataframe\">\n",
              "  <thead>\n",
              "    <tr style=\"text-align: right;\">\n",
              "      <th></th>\n",
              "      <th>index</th>\n",
              "      <th>Text</th>\n",
              "      <th>ed_label_0</th>\n",
              "      <th>ed_label_1</th>\n",
              "      <th>oh_label</th>\n",
              "    </tr>\n",
              "  </thead>\n",
              "  <tbody>\n",
              "    <tr>\n",
              "      <th>159683</th>\n",
              "      <td>159683</td>\n",
              "      <td>:The way you're trying to describe it in this...</td>\n",
              "      <td>1.0</td>\n",
              "      <td>0.0</td>\n",
              "      <td>0</td>\n",
              "    </tr>\n",
              "    <tr>\n",
              "      <th>159684</th>\n",
              "      <td>159684</td>\n",
              "      <td>== Warning ==  There is clearly a protection...</td>\n",
              "      <td>0.6</td>\n",
              "      <td>0.4</td>\n",
              "      <td>0</td>\n",
              "    </tr>\n",
              "    <tr>\n",
              "      <th>159685</th>\n",
              "      <td>159685</td>\n",
              "      <td>Alternate option=== Is there perhaps enough ne...</td>\n",
              "      <td>1.0</td>\n",
              "      <td>0.0</td>\n",
              "      <td>0</td>\n",
              "    </tr>\n",
              "  </tbody>\n",
              "</table>\n",
              "</div>"
            ],
            "text/plain": [
              "         index  ... oh_label\n",
              "159683  159683  ...        0\n",
              "159684  159684  ...        0\n",
              "159685  159685  ...        0\n",
              "\n",
              "[3 rows x 5 columns]"
            ]
          },
          "metadata": {
            "tags": []
          }
        },
        {
          "output_type": "stream",
          "text": [
            "\n",
            " Twitter:\n"
          ],
          "name": "stdout"
        },
        {
          "output_type": "display_data",
          "data": {
            "text/html": [
              "<div>\n",
              "<style scoped>\n",
              "    .dataframe tbody tr th:only-of-type {\n",
              "        vertical-align: middle;\n",
              "    }\n",
              "\n",
              "    .dataframe tbody tr th {\n",
              "        vertical-align: top;\n",
              "    }\n",
              "\n",
              "    .dataframe thead th {\n",
              "        text-align: right;\n",
              "    }\n",
              "</style>\n",
              "<table border=\"1\" class=\"dataframe\">\n",
              "  <thead>\n",
              "    <tr style=\"text-align: right;\">\n",
              "      <th></th>\n",
              "      <th>index</th>\n",
              "      <th>id</th>\n",
              "      <th>Text</th>\n",
              "      <th>Annotation</th>\n",
              "      <th>oh_label</th>\n",
              "    </tr>\n",
              "  </thead>\n",
              "  <tbody>\n",
              "    <tr>\n",
              "      <th>0</th>\n",
              "      <td>5.74948705591165E+017</td>\n",
              "      <td>5.74948705591165E+017</td>\n",
              "      <td>@halalflaws @biebervalue @greenlinerzjm I read...</td>\n",
              "      <td>none</td>\n",
              "      <td>0.0</td>\n",
              "    </tr>\n",
              "    <tr>\n",
              "      <th>1</th>\n",
              "      <td>5.71917888690393E+017</td>\n",
              "      <td>5.71917888690393E+017</td>\n",
              "      <td>@ShreyaBafna3 Now you idiots claim that people...</td>\n",
              "      <td>none</td>\n",
              "      <td>0.0</td>\n",
              "    </tr>\n",
              "    <tr>\n",
              "      <th>2</th>\n",
              "      <td>3.90255841338601E+017</td>\n",
              "      <td>3.90255841338601E+017</td>\n",
              "      <td>RT @Mooseoftorment Call me sexist, but when I ...</td>\n",
              "      <td>sexism</td>\n",
              "      <td>1.0</td>\n",
              "    </tr>\n",
              "  </tbody>\n",
              "</table>\n",
              "</div>"
            ],
            "text/plain": [
              "                   index                     id  ... Annotation oh_label\n",
              "0  5.74948705591165E+017  5.74948705591165E+017  ...       none      0.0\n",
              "1  5.71917888690393E+017  5.71917888690393E+017  ...       none      0.0\n",
              "2  3.90255841338601E+017  3.90255841338601E+017  ...     sexism      1.0\n",
              "\n",
              "[3 rows x 5 columns]"
            ]
          },
          "metadata": {
            "tags": []
          }
        },
        {
          "output_type": "display_data",
          "data": {
            "text/html": [
              "<div>\n",
              "<style scoped>\n",
              "    .dataframe tbody tr th:only-of-type {\n",
              "        vertical-align: middle;\n",
              "    }\n",
              "\n",
              "    .dataframe tbody tr th {\n",
              "        vertical-align: top;\n",
              "    }\n",
              "\n",
              "    .dataframe thead th {\n",
              "        text-align: right;\n",
              "    }\n",
              "</style>\n",
              "<table border=\"1\" class=\"dataframe\">\n",
              "  <thead>\n",
              "    <tr style=\"text-align: right;\">\n",
              "      <th></th>\n",
              "      <th>index</th>\n",
              "      <th>id</th>\n",
              "      <th>Text</th>\n",
              "      <th>Annotation</th>\n",
              "      <th>oh_label</th>\n",
              "    </tr>\n",
              "  </thead>\n",
              "  <tbody>\n",
              "    <tr>\n",
              "      <th>16848</th>\n",
              "      <td>5.72326950057845E+017</td>\n",
              "      <td>5.72326950057845E+017</td>\n",
              "      <td>RT @colonelkickhead: Deconstructed lemon tart!...</td>\n",
              "      <td>none</td>\n",
              "      <td>0.0</td>\n",
              "    </tr>\n",
              "    <tr>\n",
              "      <th>16849</th>\n",
              "      <td>5.74799612642357E+017</td>\n",
              "      <td>5.74799612642357E+017</td>\n",
              "      <td>@versacezaynx @nyazpolitics @greenlinerzjm You...</td>\n",
              "      <td>none</td>\n",
              "      <td>0.0</td>\n",
              "    </tr>\n",
              "    <tr>\n",
              "      <th>16850</th>\n",
              "      <td>5.68826121153684E+017</td>\n",
              "      <td>5.68826121153684E+017</td>\n",
              "      <td>And before you protest that you're *not* mad, ...</td>\n",
              "      <td>none</td>\n",
              "      <td>0.0</td>\n",
              "    </tr>\n",
              "  </tbody>\n",
              "</table>\n",
              "</div>"
            ],
            "text/plain": [
              "                       index                     id  ... Annotation oh_label\n",
              "16848  5.72326950057845E+017  5.72326950057845E+017  ...       none      0.0\n",
              "16849  5.74799612642357E+017  5.74799612642357E+017  ...       none      0.0\n",
              "16850  5.68826121153684E+017  5.68826121153684E+017  ...       none      0.0\n",
              "\n",
              "[3 rows x 5 columns]"
            ]
          },
          "metadata": {
            "tags": []
          }
        },
        {
          "output_type": "stream",
          "text": [
            "\n",
            " Racism:\n"
          ],
          "name": "stdout"
        },
        {
          "output_type": "display_data",
          "data": {
            "text/html": [
              "<div>\n",
              "<style scoped>\n",
              "    .dataframe tbody tr th:only-of-type {\n",
              "        vertical-align: middle;\n",
              "    }\n",
              "\n",
              "    .dataframe tbody tr th {\n",
              "        vertical-align: top;\n",
              "    }\n",
              "\n",
              "    .dataframe thead th {\n",
              "        text-align: right;\n",
              "    }\n",
              "</style>\n",
              "<table border=\"1\" class=\"dataframe\">\n",
              "  <thead>\n",
              "    <tr style=\"text-align: right;\">\n",
              "      <th></th>\n",
              "      <th>index</th>\n",
              "      <th>id</th>\n",
              "      <th>Text</th>\n",
              "      <th>Annotation</th>\n",
              "      <th>oh_label</th>\n",
              "    </tr>\n",
              "  </thead>\n",
              "  <tbody>\n",
              "    <tr>\n",
              "      <th>0</th>\n",
              "      <td>5.767493e+17</td>\n",
              "      <td>5.767493e+17</td>\n",
              "      <td>@AAlwuhaib1977 Muslim mob violence against Hin...</td>\n",
              "      <td>racism</td>\n",
              "      <td>1</td>\n",
              "    </tr>\n",
              "    <tr>\n",
              "      <th>1</th>\n",
              "      <td>5.408905e+17</td>\n",
              "      <td>5.408905e+17</td>\n",
              "      <td>@Te4m_NiGhtM4Re http://t.co/5Ih7MkDbQG</td>\n",
              "      <td>none</td>\n",
              "      <td>0</td>\n",
              "    </tr>\n",
              "    <tr>\n",
              "      <th>2</th>\n",
              "      <td>5.678433e+17</td>\n",
              "      <td>5.678433e+17</td>\n",
              "      <td>@jncatron @isra_jourisra @AMPalestine Islamoph...</td>\n",
              "      <td>racism</td>\n",
              "      <td>1</td>\n",
              "    </tr>\n",
              "  </tbody>\n",
              "</table>\n",
              "</div>"
            ],
            "text/plain": [
              "          index            id  ... Annotation oh_label\n",
              "0  5.767493e+17  5.767493e+17  ...     racism        1\n",
              "1  5.408905e+17  5.408905e+17  ...       none        0\n",
              "2  5.678433e+17  5.678433e+17  ...     racism        1\n",
              "\n",
              "[3 rows x 5 columns]"
            ]
          },
          "metadata": {
            "tags": []
          }
        },
        {
          "output_type": "display_data",
          "data": {
            "text/html": [
              "<div>\n",
              "<style scoped>\n",
              "    .dataframe tbody tr th:only-of-type {\n",
              "        vertical-align: middle;\n",
              "    }\n",
              "\n",
              "    .dataframe tbody tr th {\n",
              "        vertical-align: top;\n",
              "    }\n",
              "\n",
              "    .dataframe thead th {\n",
              "        text-align: right;\n",
              "    }\n",
              "</style>\n",
              "<table border=\"1\" class=\"dataframe\">\n",
              "  <thead>\n",
              "    <tr style=\"text-align: right;\">\n",
              "      <th></th>\n",
              "      <th>index</th>\n",
              "      <th>id</th>\n",
              "      <th>Text</th>\n",
              "      <th>Annotation</th>\n",
              "      <th>oh_label</th>\n",
              "    </tr>\n",
              "  </thead>\n",
              "  <tbody>\n",
              "    <tr>\n",
              "      <th>13468</th>\n",
              "      <td>5.755969e+17</td>\n",
              "      <td>5.755969e+17</td>\n",
              "      <td>Glad the proper competition is starting and ev...</td>\n",
              "      <td>none</td>\n",
              "      <td>0</td>\n",
              "    </tr>\n",
              "    <tr>\n",
              "      <th>13469</th>\n",
              "      <td>5.755990e+17</td>\n",
              "      <td>5.755990e+17</td>\n",
              "      <td>No worries Pete and Manu, take all the time of...</td>\n",
              "      <td>none</td>\n",
              "      <td>0</td>\n",
              "    </tr>\n",
              "    <tr>\n",
              "      <th>13470</th>\n",
              "      <td>5.755977e+17</td>\n",
              "      <td>5.755977e+17</td>\n",
              "      <td>@mykitchenrules #mkr please kick off that lady...</td>\n",
              "      <td>none</td>\n",
              "      <td>0</td>\n",
              "    </tr>\n",
              "  </tbody>\n",
              "</table>\n",
              "</div>"
            ],
            "text/plain": [
              "              index            id  ... Annotation oh_label\n",
              "13468  5.755969e+17  5.755969e+17  ...       none        0\n",
              "13469  5.755990e+17  5.755990e+17  ...       none        0\n",
              "13470  5.755977e+17  5.755977e+17  ...       none        0\n",
              "\n",
              "[3 rows x 5 columns]"
            ]
          },
          "metadata": {
            "tags": []
          }
        },
        {
          "output_type": "stream",
          "text": [
            "\n",
            " Sexism:\n"
          ],
          "name": "stdout"
        },
        {
          "output_type": "display_data",
          "data": {
            "text/html": [
              "<div>\n",
              "<style scoped>\n",
              "    .dataframe tbody tr th:only-of-type {\n",
              "        vertical-align: middle;\n",
              "    }\n",
              "\n",
              "    .dataframe tbody tr th {\n",
              "        vertical-align: top;\n",
              "    }\n",
              "\n",
              "    .dataframe thead th {\n",
              "        text-align: right;\n",
              "    }\n",
              "</style>\n",
              "<table border=\"1\" class=\"dataframe\">\n",
              "  <thead>\n",
              "    <tr style=\"text-align: right;\">\n",
              "      <th></th>\n",
              "      <th>index</th>\n",
              "      <th>id</th>\n",
              "      <th>Text</th>\n",
              "      <th>Annotation</th>\n",
              "      <th>oh_label</th>\n",
              "    </tr>\n",
              "  </thead>\n",
              "  <tbody>\n",
              "    <tr>\n",
              "      <th>0</th>\n",
              "      <td>5.35198627292254E+017</td>\n",
              "      <td>5.35198627292254E+017</td>\n",
              "      <td>RT @BeepsS: @senna1 @BeepsS: I'm not sexist bu...</td>\n",
              "      <td>sexism</td>\n",
              "      <td>1.0</td>\n",
              "    </tr>\n",
              "    <tr>\n",
              "      <th>1</th>\n",
              "      <td>5.75984924030714E+017</td>\n",
              "      <td>5.75984924030714E+017</td>\n",
              "      <td>There's some very hate able teams this year #MKR</td>\n",
              "      <td>none</td>\n",
              "      <td>0.0</td>\n",
              "    </tr>\n",
              "    <tr>\n",
              "      <th>2</th>\n",
              "      <td>5.7233536016588E+017</td>\n",
              "      <td>5.7233536016588E+017</td>\n",
              "      <td>RT @The_Eccles: \"Everyone underestimated us\" \\...</td>\n",
              "      <td>none</td>\n",
              "      <td>0.0</td>\n",
              "    </tr>\n",
              "  </tbody>\n",
              "</table>\n",
              "</div>"
            ],
            "text/plain": [
              "                   index                     id  ... Annotation oh_label\n",
              "0  5.35198627292254E+017  5.35198627292254E+017  ...     sexism      1.0\n",
              "1  5.75984924030714E+017  5.75984924030714E+017  ...       none      0.0\n",
              "2   5.7233536016588E+017   5.7233536016588E+017  ...       none      0.0\n",
              "\n",
              "[3 rows x 5 columns]"
            ]
          },
          "metadata": {
            "tags": []
          }
        },
        {
          "output_type": "display_data",
          "data": {
            "text/html": [
              "<div>\n",
              "<style scoped>\n",
              "    .dataframe tbody tr th:only-of-type {\n",
              "        vertical-align: middle;\n",
              "    }\n",
              "\n",
              "    .dataframe tbody tr th {\n",
              "        vertical-align: top;\n",
              "    }\n",
              "\n",
              "    .dataframe thead th {\n",
              "        text-align: right;\n",
              "    }\n",
              "</style>\n",
              "<table border=\"1\" class=\"dataframe\">\n",
              "  <thead>\n",
              "    <tr style=\"text-align: right;\">\n",
              "      <th></th>\n",
              "      <th>index</th>\n",
              "      <th>id</th>\n",
              "      <th>Text</th>\n",
              "      <th>Annotation</th>\n",
              "      <th>oh_label</th>\n",
              "    </tr>\n",
              "  </thead>\n",
              "  <tbody>\n",
              "    <tr>\n",
              "      <th>14878</th>\n",
              "      <td>5.54705698508919E+017</td>\n",
              "      <td>5.54705698508919E+017</td>\n",
              "      <td>@Dartanveerahmad @Janx53 @geehall1 We want ISI...</td>\n",
              "      <td>none</td>\n",
              "      <td>0.0</td>\n",
              "    </tr>\n",
              "    <tr>\n",
              "      <th>14879</th>\n",
              "      <td>5.7560079584598E+017</td>\n",
              "      <td>5.7560079584598E+017</td>\n",
              "      <td>#mkr  Unbelievable how low Kat &amp;amp; Andre wil...</td>\n",
              "      <td>none</td>\n",
              "      <td>0.0</td>\n",
              "    </tr>\n",
              "    <tr>\n",
              "      <th>14880</th>\n",
              "      <td>5.67826532711862E+017</td>\n",
              "      <td>5.67826532711862E+017</td>\n",
              "      <td>RT @JamesMakienko: @omeisy @yemenrightsmon Peo...</td>\n",
              "      <td>none</td>\n",
              "      <td>0.0</td>\n",
              "    </tr>\n",
              "  </tbody>\n",
              "</table>\n",
              "</div>"
            ],
            "text/plain": [
              "                       index                     id  ... Annotation oh_label\n",
              "14878  5.54705698508919E+017  5.54705698508919E+017  ...       none      0.0\n",
              "14879   5.7560079584598E+017   5.7560079584598E+017  ...       none      0.0\n",
              "14880  5.67826532711862E+017  5.67826532711862E+017  ...       none      0.0\n",
              "\n",
              "[3 rows x 5 columns]"
            ]
          },
          "metadata": {
            "tags": []
          }
        },
        {
          "output_type": "stream",
          "text": [
            "\n",
            " Youtube:\n"
          ],
          "name": "stdout"
        },
        {
          "output_type": "display_data",
          "data": {
            "text/html": [
              "<div>\n",
              "<style scoped>\n",
              "    .dataframe tbody tr th:only-of-type {\n",
              "        vertical-align: middle;\n",
              "    }\n",
              "\n",
              "    .dataframe tbody tr th {\n",
              "        vertical-align: top;\n",
              "    }\n",
              "\n",
              "    .dataframe thead th {\n",
              "        text-align: right;\n",
              "    }\n",
              "</style>\n",
              "<table border=\"1\" class=\"dataframe\">\n",
              "  <thead>\n",
              "    <tr style=\"text-align: right;\">\n",
              "      <th></th>\n",
              "      <th>index</th>\n",
              "      <th>UserIndex</th>\n",
              "      <th>Text</th>\n",
              "      <th>Number of Comments</th>\n",
              "      <th>Number of Subscribers</th>\n",
              "      <th>Membership Duration</th>\n",
              "      <th>Number of Uploads</th>\n",
              "      <th>Profanity in UserID</th>\n",
              "      <th>Age</th>\n",
              "      <th>oh_label</th>\n",
              "    </tr>\n",
              "  </thead>\n",
              "  <tbody>\n",
              "    <tr>\n",
              "      <th>0</th>\n",
              "      <td>0</td>\n",
              "      <td>X1</td>\n",
              "      <td>Does N.e.bodyelse Hear her Crazy ass Screamin ...</td>\n",
              "      <td>10</td>\n",
              "      <td>1</td>\n",
              "      <td>3</td>\n",
              "      <td>3</td>\n",
              "      <td>0</td>\n",
              "      <td>15</td>\n",
              "      <td>0</td>\n",
              "    </tr>\n",
              "    <tr>\n",
              "      <th>1</th>\n",
              "      <td>1</td>\n",
              "      <td>X2</td>\n",
              "      <td>There are so many things that are incorrect wi...</td>\n",
              "      <td>3</td>\n",
              "      <td>0</td>\n",
              "      <td>6</td>\n",
              "      <td>5</td>\n",
              "      <td>0</td>\n",
              "      <td>31</td>\n",
              "      <td>0</td>\n",
              "    </tr>\n",
              "    <tr>\n",
              "      <th>2</th>\n",
              "      <td>2</td>\n",
              "      <td>X3</td>\n",
              "      <td>3:26 hahah my boyfriend showed this song to me...</td>\n",
              "      <td>7</td>\n",
              "      <td>0</td>\n",
              "      <td>3</td>\n",
              "      <td>5</td>\n",
              "      <td>0</td>\n",
              "      <td>43</td>\n",
              "      <td>1</td>\n",
              "    </tr>\n",
              "  </tbody>\n",
              "</table>\n",
              "</div>"
            ],
            "text/plain": [
              "   index UserIndex  ... Age  oh_label\n",
              "0      0        X1  ...  15         0\n",
              "1      1        X2  ...  31         0\n",
              "2      2        X3  ...  43         1\n",
              "\n",
              "[3 rows x 10 columns]"
            ]
          },
          "metadata": {
            "tags": []
          }
        },
        {
          "output_type": "display_data",
          "data": {
            "text/html": [
              "<div>\n",
              "<style scoped>\n",
              "    .dataframe tbody tr th:only-of-type {\n",
              "        vertical-align: middle;\n",
              "    }\n",
              "\n",
              "    .dataframe tbody tr th {\n",
              "        vertical-align: top;\n",
              "    }\n",
              "\n",
              "    .dataframe thead th {\n",
              "        text-align: right;\n",
              "    }\n",
              "</style>\n",
              "<table border=\"1\" class=\"dataframe\">\n",
              "  <thead>\n",
              "    <tr style=\"text-align: right;\">\n",
              "      <th></th>\n",
              "      <th>index</th>\n",
              "      <th>UserIndex</th>\n",
              "      <th>Text</th>\n",
              "      <th>Number of Comments</th>\n",
              "      <th>Number of Subscribers</th>\n",
              "      <th>Membership Duration</th>\n",
              "      <th>Number of Uploads</th>\n",
              "      <th>Profanity in UserID</th>\n",
              "      <th>Age</th>\n",
              "      <th>oh_label</th>\n",
              "    </tr>\n",
              "  </thead>\n",
              "  <tbody>\n",
              "    <tr>\n",
              "      <th>3461</th>\n",
              "      <td>3466</td>\n",
              "      <td>X3467</td>\n",
              "      <td>JR so cute EXO M Better I agree like yeah yeah...</td>\n",
              "      <td>23</td>\n",
              "      <td>0</td>\n",
              "      <td>5</td>\n",
              "      <td>3</td>\n",
              "      <td>0</td>\n",
              "      <td>33</td>\n",
              "      <td>0</td>\n",
              "    </tr>\n",
              "    <tr>\n",
              "      <th>3462</th>\n",
              "      <td>3467</td>\n",
              "      <td>X3468</td>\n",
              "      <td>! !</td>\n",
              "      <td>5</td>\n",
              "      <td>0</td>\n",
              "      <td>6</td>\n",
              "      <td>5</td>\n",
              "      <td>0</td>\n",
              "      <td>38</td>\n",
              "      <td>0</td>\n",
              "    </tr>\n",
              "    <tr>\n",
              "      <th>3463</th>\n",
              "      <td>3468</td>\n",
              "      <td>X3469</td>\n",
              "      <td>great video and MERRY CHRISTMAS from greece :*...</td>\n",
              "      <td>27</td>\n",
              "      <td>220</td>\n",
              "      <td>4</td>\n",
              "      <td>30</td>\n",
              "      <td>0</td>\n",
              "      <td>18</td>\n",
              "      <td>0</td>\n",
              "    </tr>\n",
              "  </tbody>\n",
              "</table>\n",
              "</div>"
            ],
            "text/plain": [
              "      index UserIndex  ... Age  oh_label\n",
              "3461   3466     X3467  ...  33         0\n",
              "3462   3467     X3468  ...  38         0\n",
              "3463   3468     X3469  ...  18         0\n",
              "\n",
              "[3 rows x 10 columns]"
            ]
          },
          "metadata": {
            "tags": []
          }
        }
      ]
    },
    {
      "cell_type": "code",
      "metadata": {
        "colab": {
          "base_uri": "https://localhost:8080/"
        },
        "id": "Kn8CKgovMGR5",
        "outputId": "51a3f9e1-fa7e-4abd-a60d-9f4b9b05e5bb"
      },
      "source": [
        "# Print the number of rows in each dataset: \n",
        "for df_name, df in zip(df_names, df_list):\n",
        "  print(f'The {df_name} dataset has {len(df)} instances')"
      ],
      "execution_count": null,
      "outputs": [
        {
          "output_type": "stream",
          "text": [
            "The Aggression dataset has 115864 instances\n",
            "The Attack dataset has 115864 instances\n",
            "The Kaggle dataset has 8799 instances\n",
            "The Toxicity dataset has 159686 instances\n",
            "The Twitter dataset has 16851 instances\n",
            "The Racism dataset has 13471 instances\n",
            "The Sexism dataset has 14881 instances\n",
            "The Youtube dataset has 3464 instances\n"
          ],
          "name": "stdout"
        }
      ]
    },
    {
      "cell_type": "markdown",
      "metadata": {
        "id": "YeKHTdRnGMdA"
      },
      "source": [
        "Insights: \n",
        "- We can see that all the datasets have two columns in common: Text and oh_label. We will keep these columns only. \n",
        "- We can also see that aggression and attack have the same instances, but with different values in the labels."
      ]
    },
    {
      "cell_type": "markdown",
      "metadata": {
        "id": "ABRaSx1YXRpz"
      },
      "source": [
        "#### Target class imbalances"
      ]
    },
    {
      "cell_type": "code",
      "metadata": {
        "id": "w7SqcYaiTHjQ"
      },
      "source": [
        "plt.rcParams[\"figure.figsize\"] = (13, 18)"
      ],
      "execution_count": null,
      "outputs": []
    },
    {
      "cell_type": "code",
      "metadata": {
        "colab": {
          "base_uri": "https://localhost:8080/",
          "height": 1000
        },
        "id": "rmEGTjGGPm-u",
        "outputId": "b1f2957a-73ce-4e92-f3d6-d52e33a20425"
      },
      "source": [
        "# Create a plot to compare the number of instances of each class in each dataset\n",
        "fig, axes = plt.subplots(4, 2)\n",
        "fig.tight_layout(pad=6)\n",
        "for ax, df, df_name in zip(axes.flatten(), df_list, df_names):\n",
        "    sns.countplot(data=df, x='oh_label', ax=ax)\n",
        "    ax.set(title=df_name)"
      ],
      "execution_count": null,
      "outputs": [
        {
          "output_type": "display_data",
          "data": {
            "image/png": "[encoded data removed]",
            "text/plain": [
              "<Figure size 936x1296 with 8 Axes>"
            ]
          },
          "metadata": {
            "tags": [],
            "needs_background": "light"
          }
        }
      ]
    },
    {
      "cell_type": "markdown",
      "metadata": {
        "id": "AhYfWcv8K7GR"
      },
      "source": [
        "Insights: all the datasets have class imbalance. The Twitter and Kaggle datasets are less imbalanced than the others"
      ]
    },
    {
      "cell_type": "markdown",
      "metadata": {
        "id": "IAfqsc2IXNmd"
      },
      "source": [
        "#### Null values"
      ]
    },
    {
      "cell_type": "code",
      "metadata": {
        "colab": {
          "base_uri": "https://localhost:8080/"
        },
        "id": "URYg-39YK7OD",
        "outputId": "f30b53e6-dd75-46d1-f7a0-0d4cce4d3d1d"
      },
      "source": [
        "for df_name, df in zip(df_names, df_list):\n",
        "  null_values = df[['Text', 'oh_label']].isna().sum()\n",
        "  print(f'{df_name} has {null_values[0]} null values in Text and {null_values[1]} null values in oh_label')"
      ],
      "execution_count": null,
      "outputs": [
        {
          "output_type": "stream",
          "text": [
            "Aggression has 0 null values in Text and 0 null values in oh_label\n",
            "Attack has 0 null values in Text and 0 null values in oh_label\n",
            "Kaggle has 0 null values in Text and 0 null values in oh_label\n",
            "Toxicity has 0 null values in Text and 0 null values in oh_label\n",
            "Twitter has 1 null values in Text and 3 null values in oh_label\n",
            "Racism has 0 null values in Text and 0 null values in oh_label\n",
            "Sexism has 1 null values in Text and 3 null values in oh_label\n",
            "Youtube has 0 null values in Text and 0 null values in oh_label\n"
          ],
          "name": "stdout"
        }
      ]
    },
    {
      "cell_type": "markdown",
      "metadata": {
        "id": "IM7v_JjBK7Vw"
      },
      "source": [
        "Insight: there are very few null values, we can drop the instances without losing a lot of data"
      ]
    },
    {
      "cell_type": "markdown",
      "metadata": {
        "id": "FzyWkydNK3XT"
      },
      "source": [
        "### Preprocessing"
      ]
    },
    {
      "cell_type": "code",
      "metadata": {
        "id": "iFkmSTLpGMBi"
      },
      "source": [
        "# Remove unnecessary columns, drop null values, rename columns\n",
        "\n",
        "aggression = column_cleaner(aggression)\n",
        "attack = column_cleaner(attack)\n",
        "kaggle = column_cleaner(kaggle)\n",
        "toxicity = column_cleaner(toxicity)\n",
        "twitter = column_cleaner(twitter)\n",
        "racism = column_cleaner(racism)\n",
        "sexism = column_cleaner(sexism)\n",
        "youtube = column_cleaner(youtube)"
      ],
      "execution_count": null,
      "outputs": []
    },
    {
      "cell_type": "code",
      "metadata": {
        "colab": {
          "base_uri": "https://localhost:8080/",
          "height": 204
        },
        "id": "iH6H5F3za8ZN",
        "outputId": "636c9542-c054-4c2c-cb92-6222119ceab2"
      },
      "source": [
        "aggression.head()"
      ],
      "execution_count": null,
      "outputs": [
        {
          "output_type": "execute_result",
          "data": {
            "text/html": [
              "<div>\n",
              "<style scoped>\n",
              "    .dataframe tbody tr th:only-of-type {\n",
              "        vertical-align: middle;\n",
              "    }\n",
              "\n",
              "    .dataframe tbody tr th {\n",
              "        vertical-align: top;\n",
              "    }\n",
              "\n",
              "    .dataframe thead th {\n",
              "        text-align: right;\n",
              "    }\n",
              "</style>\n",
              "<table border=\"1\" class=\"dataframe\">\n",
              "  <thead>\n",
              "    <tr style=\"text-align: right;\">\n",
              "      <th></th>\n",
              "      <th>text</th>\n",
              "      <th>label</th>\n",
              "    </tr>\n",
              "  </thead>\n",
              "  <tbody>\n",
              "    <tr>\n",
              "      <th>0</th>\n",
              "      <td>`- This is not ``creative``.  Those are the di...</td>\n",
              "      <td>0</td>\n",
              "    </tr>\n",
              "    <tr>\n",
              "      <th>1</th>\n",
              "      <td>`  :: the term ``standard model`` is itself le...</td>\n",
              "      <td>0</td>\n",
              "    </tr>\n",
              "    <tr>\n",
              "      <th>2</th>\n",
              "      <td>True or false, the situation as of March 200...</td>\n",
              "      <td>0</td>\n",
              "    </tr>\n",
              "    <tr>\n",
              "      <th>3</th>\n",
              "      <td>Next, maybe you could work on being less cond...</td>\n",
              "      <td>0</td>\n",
              "    </tr>\n",
              "    <tr>\n",
              "      <th>4</th>\n",
              "      <td>This page will need disambiguation.</td>\n",
              "      <td>0</td>\n",
              "    </tr>\n",
              "  </tbody>\n",
              "</table>\n",
              "</div>"
            ],
            "text/plain": [
              "                                                text  label\n",
              "0  `- This is not ``creative``.  Those are the di...      0\n",
              "1  `  :: the term ``standard model`` is itself le...      0\n",
              "2    True or false, the situation as of March 200...      0\n",
              "3   Next, maybe you could work on being less cond...      0\n",
              "4               This page will need disambiguation.       0"
            ]
          },
          "metadata": {
            "tags": []
          },
          "execution_count": 53
        }
      ]
    },
    {
      "cell_type": "code",
      "metadata": {
        "id": "LgXE1f44GLhi"
      },
      "source": [
        "# Text preprocessing\n",
        "\n",
        "df_list = [aggression, attack, kaggle, toxicity, twitter, racism, sexism, youtube]\n",
        "\n",
        "for df in df_list: \n",
        "  df['text'] = df['text'].map(preprocess_sentence)"
      ],
      "execution_count": null,
      "outputs": []
    },
    {
      "cell_type": "code",
      "metadata": {
        "colab": {
          "base_uri": "https://localhost:8080/",
          "height": 1000
        },
        "id": "m-bHRzNZGLVz",
        "outputId": "6b62366c-f757-4341-8aa3-7ab3f0a1399d"
      },
      "source": [
        "# Check the first 3 rows again to see the result of the preprocessing:\n",
        "for df_name, df in zip(df_names, df_list):\n",
        "  print(f'\\n {df_name}:')\n",
        "  display(df.head(3))"
      ],
      "execution_count": null,
      "outputs": [
        {
          "output_type": "stream",
          "text": [
            "\n",
            " Aggression:\n"
          ],
          "name": "stdout"
        },
        {
          "output_type": "display_data",
          "data": {
            "text/html": [
              "<div>\n",
              "<style scoped>\n",
              "    .dataframe tbody tr th:only-of-type {\n",
              "        vertical-align: middle;\n",
              "    }\n",
              "\n",
              "    .dataframe tbody tr th {\n",
              "        vertical-align: top;\n",
              "    }\n",
              "\n",
              "    .dataframe thead th {\n",
              "        text-align: right;\n",
              "    }\n",
              "</style>\n",
              "<table border=\"1\" class=\"dataframe\">\n",
              "  <thead>\n",
              "    <tr style=\"text-align: right;\">\n",
              "      <th></th>\n",
              "      <th>text</th>\n",
              "      <th>label</th>\n",
              "    </tr>\n",
              "  </thead>\n",
              "  <tbody>\n",
              "    <tr>\n",
              "      <th>0</th>\n",
              "      <td>creative dictionary definitions terms insuranc...</td>\n",
              "      <td>0</td>\n",
              "    </tr>\n",
              "    <tr>\n",
              "      <th>1</th>\n",
              "      <td>term standard model less npov think prefer new...</td>\n",
              "      <td>0</td>\n",
              "    </tr>\n",
              "    <tr>\n",
              "      <th>2</th>\n",
              "      <td>true false situation march saudi proposal land...</td>\n",
              "      <td>0</td>\n",
              "    </tr>\n",
              "  </tbody>\n",
              "</table>\n",
              "</div>"
            ],
            "text/plain": [
              "                                                text  label\n",
              "0  creative dictionary definitions terms insuranc...      0\n",
              "1  term standard model less npov think prefer new...      0\n",
              "2  true false situation march saudi proposal land...      0"
            ]
          },
          "metadata": {
            "tags": []
          }
        },
        {
          "output_type": "stream",
          "text": [
            "\n",
            " Attack:\n"
          ],
          "name": "stdout"
        },
        {
          "output_type": "display_data",
          "data": {
            "text/html": [
              "<div>\n",
              "<style scoped>\n",
              "    .dataframe tbody tr th:only-of-type {\n",
              "        vertical-align: middle;\n",
              "    }\n",
              "\n",
              "    .dataframe tbody tr th {\n",
              "        vertical-align: top;\n",
              "    }\n",
              "\n",
              "    .dataframe thead th {\n",
              "        text-align: right;\n",
              "    }\n",
              "</style>\n",
              "<table border=\"1\" class=\"dataframe\">\n",
              "  <thead>\n",
              "    <tr style=\"text-align: right;\">\n",
              "      <th></th>\n",
              "      <th>text</th>\n",
              "      <th>label</th>\n",
              "    </tr>\n",
              "  </thead>\n",
              "  <tbody>\n",
              "    <tr>\n",
              "      <th>0</th>\n",
              "      <td>creative dictionary definitions terms insuranc...</td>\n",
              "      <td>0</td>\n",
              "    </tr>\n",
              "    <tr>\n",
              "      <th>1</th>\n",
              "      <td>term standard model less npov think prefer new...</td>\n",
              "      <td>0</td>\n",
              "    </tr>\n",
              "    <tr>\n",
              "      <th>2</th>\n",
              "      <td>true false situation march saudi proposal land...</td>\n",
              "      <td>0</td>\n",
              "    </tr>\n",
              "  </tbody>\n",
              "</table>\n",
              "</div>"
            ],
            "text/plain": [
              "                                                text  label\n",
              "0  creative dictionary definitions terms insuranc...      0\n",
              "1  term standard model less npov think prefer new...      0\n",
              "2  true false situation march saudi proposal land...      0"
            ]
          },
          "metadata": {
            "tags": []
          }
        },
        {
          "output_type": "stream",
          "text": [
            "\n",
            " Kaggle:\n"
          ],
          "name": "stdout"
        },
        {
          "output_type": "display_data",
          "data": {
            "text/html": [
              "<div>\n",
              "<style scoped>\n",
              "    .dataframe tbody tr th:only-of-type {\n",
              "        vertical-align: middle;\n",
              "    }\n",
              "\n",
              "    .dataframe tbody tr th {\n",
              "        vertical-align: top;\n",
              "    }\n",
              "\n",
              "    .dataframe thead th {\n",
              "        text-align: right;\n",
              "    }\n",
              "</style>\n",
              "<table border=\"1\" class=\"dataframe\">\n",
              "  <thead>\n",
              "    <tr style=\"text-align: right;\">\n",
              "      <th></th>\n",
              "      <th>text</th>\n",
              "      <th>label</th>\n",
              "    </tr>\n",
              "  </thead>\n",
              "  <tbody>\n",
              "    <tr>\n",
              "      <th>0</th>\n",
              "      <td>fuck dad</td>\n",
              "      <td>1</td>\n",
              "    </tr>\n",
              "    <tr>\n",
              "      <th>1</th>\n",
              "      <td>really understand point seems mixing apples or...</td>\n",
              "      <td>0</td>\n",
              "    </tr>\n",
              "    <tr>\n",
              "      <th>2</th>\n",
              "      <td>majority canadians wrong nunless supportive id...</td>\n",
              "      <td>0</td>\n",
              "    </tr>\n",
              "  </tbody>\n",
              "</table>\n",
              "</div>"
            ],
            "text/plain": [
              "                                                text  label\n",
              "0                                           fuck dad      1\n",
              "1  really understand point seems mixing apples or...      0\n",
              "2  majority canadians wrong nunless supportive id...      0"
            ]
          },
          "metadata": {
            "tags": []
          }
        },
        {
          "output_type": "stream",
          "text": [
            "\n",
            " Toxicity:\n"
          ],
          "name": "stdout"
        },
        {
          "output_type": "display_data",
          "data": {
            "text/html": [
              "<div>\n",
              "<style scoped>\n",
              "    .dataframe tbody tr th:only-of-type {\n",
              "        vertical-align: middle;\n",
              "    }\n",
              "\n",
              "    .dataframe tbody tr th {\n",
              "        vertical-align: top;\n",
              "    }\n",
              "\n",
              "    .dataframe thead th {\n",
              "        text-align: right;\n",
              "    }\n",
              "</style>\n",
              "<table border=\"1\" class=\"dataframe\">\n",
              "  <thead>\n",
              "    <tr style=\"text-align: right;\">\n",
              "      <th></th>\n",
              "      <th>text</th>\n",
              "      <th>label</th>\n",
              "    </tr>\n",
              "  </thead>\n",
              "  <tbody>\n",
              "    <tr>\n",
              "      <th>0</th>\n",
              "      <td>one make analogy mathematical terms envisionin...</td>\n",
              "      <td>0</td>\n",
              "    </tr>\n",
              "    <tr>\n",
              "      <th>1</th>\n",
              "      <td>clarification zundark right checked wikipedia ...</td>\n",
              "      <td>0</td>\n",
              "    </tr>\n",
              "    <tr>\n",
              "      <th>2</th>\n",
              "      <td>elected electoral jhk</td>\n",
              "      <td>0</td>\n",
              "    </tr>\n",
              "  </tbody>\n",
              "</table>\n",
              "</div>"
            ],
            "text/plain": [
              "                                                text  label\n",
              "0  one make analogy mathematical terms envisionin...      0\n",
              "1  clarification zundark right checked wikipedia ...      0\n",
              "2                              elected electoral jhk      0"
            ]
          },
          "metadata": {
            "tags": []
          }
        },
        {
          "output_type": "stream",
          "text": [
            "\n",
            " Twitter:\n"
          ],
          "name": "stdout"
        },
        {
          "output_type": "display_data",
          "data": {
            "text/html": [
              "<div>\n",
              "<style scoped>\n",
              "    .dataframe tbody tr th:only-of-type {\n",
              "        vertical-align: middle;\n",
              "    }\n",
              "\n",
              "    .dataframe tbody tr th {\n",
              "        vertical-align: top;\n",
              "    }\n",
              "\n",
              "    .dataframe thead th {\n",
              "        text-align: right;\n",
              "    }\n",
              "</style>\n",
              "<table border=\"1\" class=\"dataframe\">\n",
              "  <thead>\n",
              "    <tr style=\"text-align: right;\">\n",
              "      <th></th>\n",
              "      <th>text</th>\n",
              "      <th>label</th>\n",
              "    </tr>\n",
              "  </thead>\n",
              "  <tbody>\n",
              "    <tr>\n",
              "      <th>0</th>\n",
              "      <td>halalflaws biebervalue greenlinerzjm read cont...</td>\n",
              "      <td>0</td>\n",
              "    </tr>\n",
              "    <tr>\n",
              "      <th>1</th>\n",
              "      <td>shreyabafna idiots claim people tried stop bec...</td>\n",
              "      <td>0</td>\n",
              "    </tr>\n",
              "    <tr>\n",
              "      <th>2</th>\n",
              "      <td>mooseoftorment call sexist auto place rather t...</td>\n",
              "      <td>1</td>\n",
              "    </tr>\n",
              "  </tbody>\n",
              "</table>\n",
              "</div>"
            ],
            "text/plain": [
              "                                                text  label\n",
              "0  halalflaws biebervalue greenlinerzjm read cont...      0\n",
              "1  shreyabafna idiots claim people tried stop bec...      0\n",
              "2  mooseoftorment call sexist auto place rather t...      1"
            ]
          },
          "metadata": {
            "tags": []
          }
        },
        {
          "output_type": "stream",
          "text": [
            "\n",
            " Racism:\n"
          ],
          "name": "stdout"
        },
        {
          "output_type": "display_data",
          "data": {
            "text/html": [
              "<div>\n",
              "<style scoped>\n",
              "    .dataframe tbody tr th:only-of-type {\n",
              "        vertical-align: middle;\n",
              "    }\n",
              "\n",
              "    .dataframe tbody tr th {\n",
              "        vertical-align: top;\n",
              "    }\n",
              "\n",
              "    .dataframe thead th {\n",
              "        text-align: right;\n",
              "    }\n",
              "</style>\n",
              "<table border=\"1\" class=\"dataframe\">\n",
              "  <thead>\n",
              "    <tr style=\"text-align: right;\">\n",
              "      <th></th>\n",
              "      <th>text</th>\n",
              "      <th>label</th>\n",
              "    </tr>\n",
              "  </thead>\n",
              "  <tbody>\n",
              "    <tr>\n",
              "      <th>0</th>\n",
              "      <td>aalwuhaib muslim mob violence hindus banglades...</td>\n",
              "      <td>1</td>\n",
              "    </tr>\n",
              "    <tr>\n",
              "      <th>1</th>\n",
              "      <td>nightm http mkdbqg</td>\n",
              "      <td>0</td>\n",
              "    </tr>\n",
              "    <tr>\n",
              "      <th>2</th>\n",
              "      <td>jncatron isra jourisra ampalestine islamophobi...</td>\n",
              "      <td>1</td>\n",
              "    </tr>\n",
              "  </tbody>\n",
              "</table>\n",
              "</div>"
            ],
            "text/plain": [
              "                                                text  label\n",
              "0  aalwuhaib muslim mob violence hindus banglades...      1\n",
              "1                                 nightm http mkdbqg      0\n",
              "2  jncatron isra jourisra ampalestine islamophobi...      1"
            ]
          },
          "metadata": {
            "tags": []
          }
        },
        {
          "output_type": "stream",
          "text": [
            "\n",
            " Sexism:\n"
          ],
          "name": "stdout"
        },
        {
          "output_type": "display_data",
          "data": {
            "text/html": [
              "<div>\n",
              "<style scoped>\n",
              "    .dataframe tbody tr th:only-of-type {\n",
              "        vertical-align: middle;\n",
              "    }\n",
              "\n",
              "    .dataframe tbody tr th {\n",
              "        vertical-align: top;\n",
              "    }\n",
              "\n",
              "    .dataframe thead th {\n",
              "        text-align: right;\n",
              "    }\n",
              "</style>\n",
              "<table border=\"1\" class=\"dataframe\">\n",
              "  <thead>\n",
              "    <tr style=\"text-align: right;\">\n",
              "      <th></th>\n",
              "      <th>text</th>\n",
              "      <th>label</th>\n",
              "    </tr>\n",
              "  </thead>\n",
              "  <tbody>\n",
              "    <tr>\n",
              "      <th>0</th>\n",
              "      <td>beepss senna beepss sexist fuck woman cook get...</td>\n",
              "      <td>1</td>\n",
              "    </tr>\n",
              "    <tr>\n",
              "      <th>1</th>\n",
              "      <td>hate able teams year mkr</td>\n",
              "      <td>0</td>\n",
              "    </tr>\n",
              "    <tr>\n",
              "      <th>2</th>\n",
              "      <td>eccles everyone underestimated still well unde...</td>\n",
              "      <td>0</td>\n",
              "    </tr>\n",
              "  </tbody>\n",
              "</table>\n",
              "</div>"
            ],
            "text/plain": [
              "                                                text  label\n",
              "0  beepss senna beepss sexist fuck woman cook get...      1\n",
              "1                           hate able teams year mkr      0\n",
              "2  eccles everyone underestimated still well unde...      0"
            ]
          },
          "metadata": {
            "tags": []
          }
        },
        {
          "output_type": "stream",
          "text": [
            "\n",
            " Youtube:\n"
          ],
          "name": "stdout"
        },
        {
          "output_type": "display_data",
          "data": {
            "text/html": [
              "<div>\n",
              "<style scoped>\n",
              "    .dataframe tbody tr th:only-of-type {\n",
              "        vertical-align: middle;\n",
              "    }\n",
              "\n",
              "    .dataframe tbody tr th {\n",
              "        vertical-align: top;\n",
              "    }\n",
              "\n",
              "    .dataframe thead th {\n",
              "        text-align: right;\n",
              "    }\n",
              "</style>\n",
              "<table border=\"1\" class=\"dataframe\">\n",
              "  <thead>\n",
              "    <tr style=\"text-align: right;\">\n",
              "      <th></th>\n",
              "      <th>text</th>\n",
              "      <th>label</th>\n",
              "    </tr>\n",
              "  </thead>\n",
              "  <tbody>\n",
              "    <tr>\n",
              "      <th>0</th>\n",
              "      <td>bodyelse hear crazy ass screamin hoe everytime...</td>\n",
              "      <td>0</td>\n",
              "    </tr>\n",
              "    <tr>\n",
              "      <th>1</th>\n",
              "      <td>many things incorrect comment unbelievable gun...</td>\n",
              "      <td>0</td>\n",
              "    </tr>\n",
              "    <tr>\n",
              "      <th>2</th>\n",
              "      <td>hahah boyfriend showed song love tooo seizure ...</td>\n",
              "      <td>1</td>\n",
              "    </tr>\n",
              "  </tbody>\n",
              "</table>\n",
              "</div>"
            ],
            "text/plain": [
              "                                                text  label\n",
              "0  bodyelse hear crazy ass screamin hoe everytime...      0\n",
              "1  many things incorrect comment unbelievable gun...      0\n",
              "2  hahah boyfriend showed song love tooo seizure ...      1"
            ]
          },
          "metadata": {
            "tags": []
          }
        }
      ]
    },
    {
      "cell_type": "code",
      "metadata": {
        "id": "fyWNcST6c9fB"
      },
      "source": [
        "# Save the clean files\n",
        "\n",
        "for df, df_name in zip(df_list, df_names):\n",
        "  df_shuffled = shuffle(df)\n",
        "  df_shuffled.to_csv(f'/content/gdrive/MyDrive/Cyber-bullying-project/data/2_clean_data/{df_name.lower()}.csv', index=False)"
      ],
      "execution_count": null,
      "outputs": []
    },
    {
      "cell_type": "markdown",
      "metadata": {
        "id": "5chm0t-yhhKj"
      },
      "source": [
        "### Tokenization"
      ]
    },
    {
      "cell_type": "code",
      "metadata": {
        "id": "UB0qF-vbjvIU"
      },
      "source": [
        "# Set up BERT Tokenizer\n",
        "bert_tokenizer = BertTokenizer.from_pretrained(\"bert-base-uncased\")"
      ],
      "execution_count": null,
      "outputs": []
    },
    {
      "cell_type": "code",
      "metadata": {
        "id": "nKqLfNsvhpDs"
      },
      "source": [
        "# Loop through all the dataframes\n",
        "for df, df_name in zip(df_list, df_names):\n",
        "  sentences = df['text']\n",
        "  labels = df['label']\n",
        "  input_ids = []\n",
        "  attention_masks = []\n",
        "\n",
        "  # Tokenize every sentence in each dataframe\n",
        "  for sentence in sentences:\n",
        "      bert_inp = bert_tokenizer.encode_plus(sentence,\n",
        "                                            add_special_tokens = True,\n",
        "                                            max_length = 100,\n",
        "                                            truncation = True,\n",
        "                                            padding = 'max_length',\n",
        "                                            return_attention_mask = True)\n",
        "      # Append every sentence vector to a list\n",
        "      input_ids.append(bert_inp['input_ids'])\n",
        "      attention_masks.append(bert_inp['attention_mask'])\n",
        "  \n",
        "  # Convert the lists to arrays so that we can input them into the model\n",
        "  input_ids = np.asarray(input_ids)\n",
        "  attention_masks = np.array(attention_masks)\n",
        "  labels = np.array(labels)\n",
        "\n",
        "  ### Save the vectors with pickle\n",
        "  # Set the path and filename\n",
        "  pickle_inp_path = f'/content/gdrive/MyDrive/Cyber-bullying-project/data/3_tokenized_data/bert_inp_{df_name.lower()}.pkl'\n",
        "  pickle_mask_path = f'/content/gdrive/MyDrive/Cyber-bullying-project/data/3_tokenized_data/bert_mask_{df_name.lower()}.pkl'\n",
        "  pickle_label_path = f'/content/gdrive/MyDrive/Cyber-bullying-project/data/3_tokenized_data/bert_label_{df_name.lower()}.pkl'\n",
        "\n",
        "  # Save the pickle files\n",
        "  pickle.dump((input_ids), open(pickle_inp_path,'wb'))\n",
        "  pickle.dump((attention_masks), open(pickle_mask_path,'wb'))\n",
        "  pickle.dump((labels), open(pickle_label_path,'wb'))"
      ],
      "execution_count": null,
      "outputs": []
    },
    {
      "cell_type": "markdown",
      "metadata": {
        "id": "x0A88baX8Ovp"
      },
      "source": [
        "## Evaluation dataset"
      ]
    },
    {
      "cell_type": "markdown",
      "metadata": {
        "id": "vUMWhxid8byM"
      },
      "source": [
        "These files were obtained by scraping Kevin Spacey's Instagram account with the Instaloader library. I scraped his last 3 posts only, as they had 22k+ comments in total, which is enough for the evaluation. The comments of each post were saved in a separate json file. To scrape them, I used the following code on the terminal:\n",
        "\n",
        "`instaloader profile kevinspacey --login my_username --comments`"
      ]
    },
    {
      "cell_type": "markdown",
      "metadata": {
        "id": "4q50_HpI8NHd"
      },
      "source": [
        "### Loading the files"
      ]
    },
    {
      "cell_type": "code",
      "metadata": {
        "colab": {
          "base_uri": "https://localhost:8080/"
        },
        "id": "kiKiX3en-x4v",
        "outputId": "46a12eb4-bbcc-41bb-d2e0-ca6caa49903b"
      },
      "source": [
        "path_eval_data = '/content/gdrive/MyDrive/Cyber-bullying-project/data/4_evaluation_data/raw_comments'\n",
        "json_files = [file for file in os.listdir(path_eval_data)]\n",
        "print(json_files)"
      ],
      "execution_count": null,
      "outputs": [
        {
          "output_type": "stream",
          "text": [
            "['2018-12-24_18-09-51_UTC_comments.json', '2020-12-24_18-02-58_UTC_comments.json', '2019-12-24_16-50-14_UTC_comments.json']\n"
          ],
          "name": "stdout"
        }
      ]
    },
    {
      "cell_type": "code",
      "metadata": {
        "id": "WzH6yttO_JfK"
      },
      "source": [
        "# Read json files and save them all in a single DataFrame\n",
        "eval_data = pd.DataFrame()\n",
        "for file in json_files: \n",
        "  with open(path_eval_data + file) as json_file:\n",
        "    data = json.load(json_file)\n",
        "    eval_data = pd.concat([eval_data, pd.DataFrame(data)])"
      ],
      "execution_count": null,
      "outputs": []
    },
    {
      "cell_type": "code",
      "metadata": {
        "id": "LTNA0avPAd0K"
      },
      "source": [
        "eval_data.reset_index(inplace=True, drop=True)"
      ],
      "execution_count": null,
      "outputs": []
    },
    {
      "cell_type": "markdown",
      "metadata": {
        "id": "_Z7_YC2BAuQV"
      },
      "source": [
        "### EDA"
      ]
    },
    {
      "cell_type": "code",
      "metadata": {
        "colab": {
          "base_uri": "https://localhost:8080/",
          "height": 204
        },
        "id": "zAGN8wCJ_lRP",
        "outputId": "c23333e9-d487-4e67-ece6-b13b5fb92edd"
      },
      "source": [
        "eval_data.head()"
      ],
      "execution_count": null,
      "outputs": [
        {
          "output_type": "execute_result",
          "data": {
            "text/html": [
              "<div>\n",
              "<style scoped>\n",
              "    .dataframe tbody tr th:only-of-type {\n",
              "        vertical-align: middle;\n",
              "    }\n",
              "\n",
              "    .dataframe tbody tr th {\n",
              "        vertical-align: top;\n",
              "    }\n",
              "\n",
              "    .dataframe thead th {\n",
              "        text-align: right;\n",
              "    }\n",
              "</style>\n",
              "<table border=\"1\" class=\"dataframe\">\n",
              "  <thead>\n",
              "    <tr style=\"text-align: right;\">\n",
              "      <th></th>\n",
              "      <th>id</th>\n",
              "      <th>created_at</th>\n",
              "      <th>text</th>\n",
              "      <th>owner</th>\n",
              "      <th>likes_count</th>\n",
              "      <th>answers</th>\n",
              "    </tr>\n",
              "  </thead>\n",
              "  <tbody>\n",
              "    <tr>\n",
              "      <th>0</th>\n",
              "      <td>17875427138446700</td>\n",
              "      <td>1627378729</td>\n",
              "      <td>HaP Birthday Dearest 💋💜</td>\n",
              "      <td>{'id': '4125351039', 'is_verified': False, 'pr...</td>\n",
              "      <td>0</td>\n",
              "      <td>[]</td>\n",
              "    </tr>\n",
              "    <tr>\n",
              "      <th>1</th>\n",
              "      <td>17905589084044186</td>\n",
              "      <td>1627377144</td>\n",
              "      <td>The king 👑 i love you so much ❤️</td>\n",
              "      <td>{'id': '17784338570', 'is_verified': False, 'p...</td>\n",
              "      <td>1</td>\n",
              "      <td>[]</td>\n",
              "    </tr>\n",
              "    <tr>\n",
              "      <th>2</th>\n",
              "      <td>17849306483621406</td>\n",
              "      <td>1627372513</td>\n",
              "      <td>Happy Birthday, i hope you have the best time ...</td>\n",
              "      <td>{'id': '47642297991', 'is_verified': False, 'p...</td>\n",
              "      <td>0</td>\n",
              "      <td>[]</td>\n",
              "    </tr>\n",
              "    <tr>\n",
              "      <th>3</th>\n",
              "      <td>17882985866411568</td>\n",
              "      <td>1627370833</td>\n",
              "      <td>Happy birthday dear @kevinspacey love you!!</td>\n",
              "      <td>{'id': '199812859', 'is_verified': False, 'pro...</td>\n",
              "      <td>0</td>\n",
              "      <td>[]</td>\n",
              "    </tr>\n",
              "    <tr>\n",
              "      <th>4</th>\n",
              "      <td>17899769894128303</td>\n",
              "      <td>1627367577</td>\n",
              "      <td>Happy Belated Birthday @kevinspacey !!!!</td>\n",
              "      <td>{'id': '46757557', 'is_verified': False, 'prof...</td>\n",
              "      <td>0</td>\n",
              "      <td>[]</td>\n",
              "    </tr>\n",
              "  </tbody>\n",
              "</table>\n",
              "</div>"
            ],
            "text/plain": [
              "                  id  created_at  ... likes_count answers\n",
              "0  17875427138446700  1627378729  ...           0      []\n",
              "1  17905589084044186  1627377144  ...           1      []\n",
              "2  17849306483621406  1627372513  ...           0      []\n",
              "3  17882985866411568  1627370833  ...           0      []\n",
              "4  17899769894128303  1627367577  ...           0      []\n",
              "\n",
              "[5 rows x 6 columns]"
            ]
          },
          "metadata": {
            "tags": []
          },
          "execution_count": 138
        }
      ]
    },
    {
      "cell_type": "code",
      "metadata": {
        "colab": {
          "base_uri": "https://localhost:8080/",
          "height": 204
        },
        "id": "BbDDNuJNAVjt",
        "outputId": "8b2d4ee6-0561-45ca-a04b-42a9f2723a35"
      },
      "source": [
        "eval_data.tail()"
      ],
      "execution_count": null,
      "outputs": [
        {
          "output_type": "execute_result",
          "data": {
            "text/html": [
              "<div>\n",
              "<style scoped>\n",
              "    .dataframe tbody tr th:only-of-type {\n",
              "        vertical-align: middle;\n",
              "    }\n",
              "\n",
              "    .dataframe tbody tr th {\n",
              "        vertical-align: top;\n",
              "    }\n",
              "\n",
              "    .dataframe thead th {\n",
              "        text-align: right;\n",
              "    }\n",
              "</style>\n",
              "<table border=\"1\" class=\"dataframe\">\n",
              "  <thead>\n",
              "    <tr style=\"text-align: right;\">\n",
              "      <th></th>\n",
              "      <th>id</th>\n",
              "      <th>created_at</th>\n",
              "      <th>text</th>\n",
              "      <th>owner</th>\n",
              "      <th>likes_count</th>\n",
              "      <th>answers</th>\n",
              "    </tr>\n",
              "  </thead>\n",
              "  <tbody>\n",
              "    <tr>\n",
              "      <th>22726</th>\n",
              "      <td>17922947536248582</td>\n",
              "      <td>1545675028</td>\n",
              "      <td>Welcome back</td>\n",
              "      <td>{'id': '2236619845', 'is_verified': False, 'pr...</td>\n",
              "      <td>2</td>\n",
              "      <td>[]</td>\n",
              "    </tr>\n",
              "    <tr>\n",
              "      <th>22727</th>\n",
              "      <td>17923740298250598</td>\n",
              "      <td>1545675023</td>\n",
              "      <td>♥♥♥</td>\n",
              "      <td>{'id': '2057906816', 'is_verified': False, 'pr...</td>\n",
              "      <td>2</td>\n",
              "      <td>[]</td>\n",
              "    </tr>\n",
              "    <tr>\n",
              "      <th>22728</th>\n",
              "      <td>17893699225287739</td>\n",
              "      <td>1545675022</td>\n",
              "      <td>👍</td>\n",
              "      <td>{'id': '1096419929', 'is_verified': False, 'pr...</td>\n",
              "      <td>1</td>\n",
              "      <td>[]</td>\n",
              "    </tr>\n",
              "    <tr>\n",
              "      <th>22729</th>\n",
              "      <td>17988600178189879</td>\n",
              "      <td>1545675018</td>\n",
              "      <td>😍</td>\n",
              "      <td>{'id': '43643802', 'is_verified': False, 'prof...</td>\n",
              "      <td>4</td>\n",
              "      <td>[]</td>\n",
              "    </tr>\n",
              "    <tr>\n",
              "      <th>22730</th>\n",
              "      <td>18010496329071098</td>\n",
              "      <td>1545675012</td>\n",
              "      <td>Amazing as always!</td>\n",
              "      <td>{'id': '3191454488', 'is_verified': False, 'pr...</td>\n",
              "      <td>6</td>\n",
              "      <td>[]</td>\n",
              "    </tr>\n",
              "  </tbody>\n",
              "</table>\n",
              "</div>"
            ],
            "text/plain": [
              "                      id  created_at  ... likes_count answers\n",
              "22726  17922947536248582  1545675028  ...           2      []\n",
              "22727  17923740298250598  1545675023  ...           2      []\n",
              "22728  17893699225287739  1545675022  ...           1      []\n",
              "22729  17988600178189879  1545675018  ...           4      []\n",
              "22730  18010496329071098  1545675012  ...           6      []\n",
              "\n",
              "[5 rows x 6 columns]"
            ]
          },
          "metadata": {
            "tags": []
          },
          "execution_count": 139
        }
      ]
    },
    {
      "cell_type": "code",
      "metadata": {
        "colab": {
          "base_uri": "https://localhost:8080/"
        },
        "id": "9hkqvCFfAQDU",
        "outputId": "e2f3303d-862a-4c71-e03d-ccef31f3c452"
      },
      "source": [
        "eval_data.shape"
      ],
      "execution_count": null,
      "outputs": [
        {
          "output_type": "execute_result",
          "data": {
            "text/plain": [
              "(22731, 6)"
            ]
          },
          "metadata": {
            "tags": []
          },
          "execution_count": 140
        }
      ]
    },
    {
      "cell_type": "code",
      "metadata": {
        "colab": {
          "base_uri": "https://localhost:8080/"
        },
        "id": "2PdDxoJ3ArDU",
        "outputId": "b45508ca-751d-40b5-e110-4d893496b428"
      },
      "source": [
        "eval_data.info()"
      ],
      "execution_count": null,
      "outputs": [
        {
          "output_type": "stream",
          "text": [
            "<class 'pandas.core.frame.DataFrame'>\n",
            "RangeIndex: 22731 entries, 0 to 22730\n",
            "Data columns (total 6 columns):\n",
            " #   Column       Non-Null Count  Dtype \n",
            "---  ------       --------------  ----- \n",
            " 0   id           22731 non-null  int64 \n",
            " 1   created_at   22731 non-null  int64 \n",
            " 2   text         22731 non-null  object\n",
            " 3   owner        22731 non-null  object\n",
            " 4   likes_count  22731 non-null  int64 \n",
            " 5   answers      22731 non-null  object\n",
            "dtypes: int64(3), object(3)\n",
            "memory usage: 1.0+ MB\n"
          ],
          "name": "stdout"
        }
      ]
    },
    {
      "cell_type": "code",
      "metadata": {
        "colab": {
          "base_uri": "https://localhost:8080/"
        },
        "id": "_deXKvrmA5GQ",
        "outputId": "23baf757-9b14-48fc-eb3e-582eab06eadb"
      },
      "source": [
        "eval_data.isna().sum()"
      ],
      "execution_count": null,
      "outputs": [
        {
          "output_type": "execute_result",
          "data": {
            "text/plain": [
              "id             0\n",
              "created_at     0\n",
              "text           0\n",
              "owner          0\n",
              "likes_count    0\n",
              "answers        0\n",
              "dtype: int64"
            ]
          },
          "metadata": {
            "tags": []
          },
          "execution_count": 142
        }
      ]
    },
    {
      "cell_type": "markdown",
      "metadata": {
        "id": "a0N-SylNOvrZ"
      },
      "source": [
        "Insights:\n",
        "*   There are 22731 comments\n",
        "*   There are no null values, however some comments contain emojis only, so they won't be useful for our evaluation. \n",
        "\n"
      ]
    },
    {
      "cell_type": "markdown",
      "metadata": {
        "id": "Dktpfx-kBJ40"
      },
      "source": [
        "### Preprocessing"
      ]
    },
    {
      "cell_type": "code",
      "metadata": {
        "id": "ZpXz-CbqDNNH"
      },
      "source": [
        "# Shuffle the comments and reset the index\n",
        "eval_data = shuffle(eval_data).reset_index(drop=True)"
      ],
      "execution_count": null,
      "outputs": []
    },
    {
      "cell_type": "code",
      "metadata": {
        "id": "0IWPgWT3IYX8"
      },
      "source": [
        "# Preprocess the text column an save it in a new column\n",
        "eval_data['clean_text'] = eval_data['text'].map(preprocess_sentence)"
      ],
      "execution_count": null,
      "outputs": []
    },
    {
      "cell_type": "code",
      "metadata": {
        "colab": {
          "base_uri": "https://localhost:8080/",
          "height": 290
        },
        "id": "xEEhOHTmIbiW",
        "outputId": "3a3b7240-0ec5-4e05-f09e-fb500e2b30ad"
      },
      "source": [
        "eval_data.head()"
      ],
      "execution_count": null,
      "outputs": [
        {
          "output_type": "execute_result",
          "data": {
            "text/html": [
              "<div>\n",
              "<style scoped>\n",
              "    .dataframe tbody tr th:only-of-type {\n",
              "        vertical-align: middle;\n",
              "    }\n",
              "\n",
              "    .dataframe tbody tr th {\n",
              "        vertical-align: top;\n",
              "    }\n",
              "\n",
              "    .dataframe thead th {\n",
              "        text-align: right;\n",
              "    }\n",
              "</style>\n",
              "<table border=\"1\" class=\"dataframe\">\n",
              "  <thead>\n",
              "    <tr style=\"text-align: right;\">\n",
              "      <th></th>\n",
              "      <th>id</th>\n",
              "      <th>created_at</th>\n",
              "      <th>text</th>\n",
              "      <th>owner</th>\n",
              "      <th>likes_count</th>\n",
              "      <th>answers</th>\n",
              "      <th>clean_text</th>\n",
              "    </tr>\n",
              "  </thead>\n",
              "  <tbody>\n",
              "    <tr>\n",
              "      <th>0</th>\n",
              "      <td>17916298003463538</td>\n",
              "      <td>1599494497</td>\n",
              "      <td>We want you Back</td>\n",
              "      <td>{'id': '2047340812', 'is_verified': False, 'pr...</td>\n",
              "      <td>0</td>\n",
              "      <td>[]</td>\n",
              "      <td>want back</td>\n",
              "    </tr>\n",
              "    <tr>\n",
              "      <th>1</th>\n",
              "      <td>17865878573352424</td>\n",
              "      <td>1616998709</td>\n",
              "      <td>We love and miss you so much 🙌🔥 You have all m...</td>\n",
              "      <td>{'id': '7415950725', 'is_verified': False, 'pr...</td>\n",
              "      <td>0</td>\n",
              "      <td>[]</td>\n",
              "      <td>love miss much respect france love</td>\n",
              "    </tr>\n",
              "    <tr>\n",
              "      <th>2</th>\n",
              "      <td>17856068005684559</td>\n",
              "      <td>1577428392</td>\n",
              "      <td>@lupismojica  @rossanayandee  @rigom83</td>\n",
              "      <td>{'id': '338884047', 'is_verified': False, 'pro...</td>\n",
              "      <td>0</td>\n",
              "      <td>[]</td>\n",
              "      <td>lupismojica rossanayandee rigom</td>\n",
              "    </tr>\n",
              "    <tr>\n",
              "      <th>3</th>\n",
              "      <td>17867073136573609</td>\n",
              "      <td>1577208381</td>\n",
              "      <td>Hi mel proffitt 👌🤩</td>\n",
              "      <td>{'id': '208907570', 'is_verified': False, 'pro...</td>\n",
              "      <td>0</td>\n",
              "      <td>[]</td>\n",
              "      <td>mel proffitt</td>\n",
              "    </tr>\n",
              "    <tr>\n",
              "      <th>4</th>\n",
              "      <td>17864742964898589</td>\n",
              "      <td>1593960135</td>\n",
              "      <td>🍕</td>\n",
              "      <td>{'id': '460986590', 'is_verified': False, 'pro...</td>\n",
              "      <td>5</td>\n",
              "      <td>[]</td>\n",
              "      <td></td>\n",
              "    </tr>\n",
              "  </tbody>\n",
              "</table>\n",
              "</div>"
            ],
            "text/plain": [
              "                  id  created_at  ... answers                          clean_text\n",
              "0  17916298003463538  1599494497  ...      []                           want back\n",
              "1  17865878573352424  1616998709  ...      []  love miss much respect france love\n",
              "2  17856068005684559  1577428392  ...      []     lupismojica rossanayandee rigom\n",
              "3  17867073136573609  1577208381  ...      []                        mel proffitt\n",
              "4  17864742964898589  1593960135  ...      []                                    \n",
              "\n",
              "[5 rows x 7 columns]"
            ]
          },
          "metadata": {
            "tags": []
          },
          "execution_count": 149
        }
      ]
    },
    {
      "cell_type": "markdown",
      "metadata": {
        "id": "LiVELwguIbZa"
      },
      "source": [
        "As expected, there are some empty strings because some comments contained only emojis, so we have to check for null values again and drop them."
      ]
    },
    {
      "cell_type": "code",
      "metadata": {
        "id": "OTnd0U-REYMI"
      },
      "source": [
        "# Keep the instances that have text in the 'clean_text' column\n",
        "eval_data = eval_data[eval_data['clean_text'] != '']"
      ],
      "execution_count": null,
      "outputs": []
    },
    {
      "cell_type": "code",
      "metadata": {
        "colab": {
          "base_uri": "https://localhost:8080/"
        },
        "id": "9E1dpzpKKGZR",
        "outputId": "cc35412e-52ae-4891-f3c9-4130ff43fcfb"
      },
      "source": [
        "eval_data.shape"
      ],
      "execution_count": null,
      "outputs": [
        {
          "output_type": "execute_result",
          "data": {
            "text/plain": [
              "(17749, 2)"
            ]
          },
          "metadata": {
            "tags": []
          },
          "execution_count": 157
        }
      ]
    },
    {
      "cell_type": "markdown",
      "metadata": {
        "id": "sebpIHpbPk5u"
      },
      "source": [
        "We are left with 17749 comments. "
      ]
    },
    {
      "cell_type": "code",
      "metadata": {
        "id": "O_XaiurGJzow"
      },
      "source": [
        "# Keep the text and clean_text columns only and reset the index \n",
        "eval_data = eval_data[['text', 'clean_text']].reset_index(drop=True)"
      ],
      "execution_count": null,
      "outputs": []
    },
    {
      "cell_type": "code",
      "metadata": {
        "id": "q3r55ePCKKVl"
      },
      "source": [
        "# Save the clean file\n",
        "eval_data.to_csv(path_eval_data + 'clean_evaluation_data.csv', index=False)"
      ],
      "execution_count": null,
      "outputs": []
    },
    {
      "cell_type": "markdown",
      "metadata": {
        "id": "YChezRlx8NHh"
      },
      "source": [
        "### Tokenization"
      ]
    },
    {
      "cell_type": "code",
      "metadata": {
        "id": "55NHxnjB8NHi"
      },
      "source": [
        "sentences = eval_data['clean_text']\n",
        "input_ids = []\n",
        "attention_masks = []\n",
        "\n",
        "# Tokenize every sentence\n",
        "for sentence in sentences:\n",
        "    bert_inp = bert_tokenizer.encode_plus(sentence,\n",
        "                                          add_special_tokens = True,\n",
        "                                          max_length = 100,\n",
        "                                          truncation = True,\n",
        "                                          padding = 'max_length',\n",
        "                                          return_attention_mask = True)\n",
        "    # Append every sentence vector to a list\n",
        "    input_ids.append(bert_inp['input_ids'])\n",
        "    attention_masks.append(bert_inp['attention_mask'])\n",
        "\n",
        "# Convert the lists to arrays so that we can input them into the model\n",
        "input_ids = np.asarray(input_ids)\n",
        "attention_masks = np.array(attention_masks)\n",
        "\n",
        "### Save the vectors with pickle\n",
        "# Set the path and filename\n",
        "pickle_inp_path = '/content/gdrive/MyDrive/Cyber-bullying-project/data/3_tokenized_data/bert_inp_eval_data.pkl'\n",
        "pickle_mask_path = '/content/gdrive/MyDrive/Cyber-bullying-project/data/3_tokenized_data/bert_mask_eval_data.pkl'\n",
        "\n",
        "# Save the pickle files\n",
        "pickle.dump((input_ids), open(pickle_inp_path,'wb'))\n",
        "pickle.dump((attention_masks), open(pickle_mask_path,'wb'))"
      ],
      "execution_count": null,
      "outputs": []
    }
  ]
}