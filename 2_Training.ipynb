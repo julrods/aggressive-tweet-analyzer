{
  "nbformat": 4,
  "nbformat_minor": 0,
  "metadata": {
    "colab": {
      "name": "2_Training.ipynb",
      "provenance": [],
      "collapsed_sections": [],
      "toc_visible": true,
      "include_colab_link": true
    },
    "kernelspec": {
      "display_name": "Python 3",
      "name": "python3"
    },
    "language_info": {
      "name": "python"
    },
    "accelerator": "GPU",
    "widgets": {
      "application/vnd.jupyter.widget-state+json": {
        "340b4563e5ee478c81280d79575e57b4": {
          "model_module": "@jupyter-widgets/controls",
          "model_name": "HBoxModel",
          "state": {
            "_view_name": "HBoxView",
            "_dom_classes": [],
            "_model_name": "HBoxModel",
            "_view_module": "@jupyter-widgets/controls",
            "_model_module_version": "1.5.0",
            "_view_count": null,
            "_view_module_version": "1.5.0",
            "box_style": "",
            "layout": "IPY_MODEL_76de4f3fbfba47239005b90353848c6c",
            "_model_module": "@jupyter-widgets/controls",
            "children": [
              "IPY_MODEL_21a291d8ab9a47f19210a32312aa63e1",
              "IPY_MODEL_e619e68022a54013b14ace9d8544ed96"
            ]
          }
        },
        "76de4f3fbfba47239005b90353848c6c": {
          "model_module": "@jupyter-widgets/base",
          "model_name": "LayoutModel",
          "state": {
            "_view_name": "LayoutView",
            "grid_template_rows": null,
            "right": null,
            "justify_content": null,
            "_view_module": "@jupyter-widgets/base",
            "overflow": null,
            "_model_module_version": "1.2.0",
            "_view_count": null,
            "flex_flow": null,
            "width": null,
            "min_width": null,
            "border": null,
            "align_items": null,
            "bottom": null,
            "_model_module": "@jupyter-widgets/base",
            "top": null,
            "grid_column": null,
            "overflow_y": null,
            "overflow_x": null,
            "grid_auto_flow": null,
            "grid_area": null,
            "grid_template_columns": null,
            "flex": null,
            "_model_name": "LayoutModel",
            "justify_items": null,
            "grid_row": null,
            "max_height": null,
            "align_content": null,
            "visibility": null,
            "align_self": null,
            "height": null,
            "min_height": null,
            "padding": null,
            "grid_auto_rows": null,
            "grid_gap": null,
            "max_width": null,
            "order": null,
            "_view_module_version": "1.2.0",
            "grid_template_areas": null,
            "object_position": null,
            "object_fit": null,
            "grid_auto_columns": null,
            "margin": null,
            "display": null,
            "left": null
          }
        },
        "21a291d8ab9a47f19210a32312aa63e1": {
          "model_module": "@jupyter-widgets/controls",
          "model_name": "FloatProgressModel",
          "state": {
            "_view_name": "ProgressView",
            "style": "IPY_MODEL_60e63032b5744fd5a9278d03561f8695",
            "_dom_classes": [],
            "description": "Downloading: 100%",
            "_model_name": "FloatProgressModel",
            "bar_style": "success",
            "max": 570,
            "_view_module": "@jupyter-widgets/controls",
            "_model_module_version": "1.5.0",
            "value": 570,
            "_view_count": null,
            "_view_module_version": "1.5.0",
            "orientation": "horizontal",
            "min": 0,
            "description_tooltip": null,
            "_model_module": "@jupyter-widgets/controls",
            "layout": "IPY_MODEL_2ba8d7a6d1774bdb823db497902aaaa8"
          }
        },
        "e619e68022a54013b14ace9d8544ed96": {
          "model_module": "@jupyter-widgets/controls",
          "model_name": "HTMLModel",
          "state": {
            "_view_name": "HTMLView",
            "style": "IPY_MODEL_b10afc035f364f04bbdcc67c408d3d78",
            "_dom_classes": [],
            "description": "",
            "_model_name": "HTMLModel",
            "placeholder": "​",
            "_view_module": "@jupyter-widgets/controls",
            "_model_module_version": "1.5.0",
            "value": " 570/570 [00:21&lt;00:00, 27.1B/s]",
            "_view_count": null,
            "_view_module_version": "1.5.0",
            "description_tooltip": null,
            "_model_module": "@jupyter-widgets/controls",
            "layout": "IPY_MODEL_541285b099b34140b68a8a556bbde72c"
          }
        },
        "60e63032b5744fd5a9278d03561f8695": {
          "model_module": "@jupyter-widgets/controls",
          "model_name": "ProgressStyleModel",
          "state": {
            "_view_name": "StyleView",
            "_model_name": "ProgressStyleModel",
            "description_width": "initial",
            "_view_module": "@jupyter-widgets/base",
            "_model_module_version": "1.5.0",
            "_view_count": null,
            "_view_module_version": "1.2.0",
            "bar_color": null,
            "_model_module": "@jupyter-widgets/controls"
          }
        },
        "2ba8d7a6d1774bdb823db497902aaaa8": {
          "model_module": "@jupyter-widgets/base",
          "model_name": "LayoutModel",
          "state": {
            "_view_name": "LayoutView",
            "grid_template_rows": null,
            "right": null,
            "justify_content": null,
            "_view_module": "@jupyter-widgets/base",
            "overflow": null,
            "_model_module_version": "1.2.0",
            "_view_count": null,
            "flex_flow": null,
            "width": null,
            "min_width": null,
            "border": null,
            "align_items": null,
            "bottom": null,
            "_model_module": "@jupyter-widgets/base",
            "top": null,
            "grid_column": null,
            "overflow_y": null,
            "overflow_x": null,
            "grid_auto_flow": null,
            "grid_area": null,
            "grid_template_columns": null,
            "flex": null,
            "_model_name": "LayoutModel",
            "justify_items": null,
            "grid_row": null,
            "max_height": null,
            "align_content": null,
            "visibility": null,
            "align_self": null,
            "height": null,
            "min_height": null,
            "padding": null,
            "grid_auto_rows": null,
            "grid_gap": null,
            "max_width": null,
            "order": null,
            "_view_module_version": "1.2.0",
            "grid_template_areas": null,
            "object_position": null,
            "object_fit": null,
            "grid_auto_columns": null,
            "margin": null,
            "display": null,
            "left": null
          }
        },
        "b10afc035f364f04bbdcc67c408d3d78": {
          "model_module": "@jupyter-widgets/controls",
          "model_name": "DescriptionStyleModel",
          "state": {
            "_view_name": "StyleView",
            "_model_name": "DescriptionStyleModel",
            "description_width": "",
            "_view_module": "@jupyter-widgets/base",
            "_model_module_version": "1.5.0",
            "_view_count": null,
            "_view_module_version": "1.2.0",
            "_model_module": "@jupyter-widgets/controls"
          }
        },
        "541285b099b34140b68a8a556bbde72c": {
          "model_module": "@jupyter-widgets/base",
          "model_name": "LayoutModel",
          "state": {
            "_view_name": "LayoutView",
            "grid_template_rows": null,
            "right": null,
            "justify_content": null,
            "_view_module": "@jupyter-widgets/base",
            "overflow": null,
            "_model_module_version": "1.2.0",
            "_view_count": null,
            "flex_flow": null,
            "width": null,
            "min_width": null,
            "border": null,
            "align_items": null,
            "bottom": null,
            "_model_module": "@jupyter-widgets/base",
            "top": null,
            "grid_column": null,
            "overflow_y": null,
            "overflow_x": null,
            "grid_auto_flow": null,
            "grid_area": null,
            "grid_template_columns": null,
            "flex": null,
            "_model_name": "LayoutModel",
            "justify_items": null,
            "grid_row": null,
            "max_height": null,
            "align_content": null,
            "visibility": null,
            "align_self": null,
            "height": null,
            "min_height": null,
            "padding": null,
            "grid_auto_rows": null,
            "grid_gap": null,
            "max_width": null,
            "order": null,
            "_view_module_version": "1.2.0",
            "grid_template_areas": null,
            "object_position": null,
            "object_fit": null,
            "grid_auto_columns": null,
            "margin": null,
            "display": null,
            "left": null
          }
        },
        "88075fdb0d8045ebab6e8513835f64e4": {
          "model_module": "@jupyter-widgets/controls",
          "model_name": "HBoxModel",
          "state": {
            "_view_name": "HBoxView",
            "_dom_classes": [],
            "_model_name": "HBoxModel",
            "_view_module": "@jupyter-widgets/controls",
            "_model_module_version": "1.5.0",
            "_view_count": null,
            "_view_module_version": "1.5.0",
            "box_style": "",
            "layout": "IPY_MODEL_452a60388b91427abef6c8e942e8736c",
            "_model_module": "@jupyter-widgets/controls",
            "children": [
              "IPY_MODEL_55935e840c384e2ab72f1a0199df6d64",
              "IPY_MODEL_e7bf66c8b6884d74b1b7f5f06e6dd004"
            ]
          }
        },
        "452a60388b91427abef6c8e942e8736c": {
          "model_module": "@jupyter-widgets/base",
          "model_name": "LayoutModel",
          "state": {
            "_view_name": "LayoutView",
            "grid_template_rows": null,
            "right": null,
            "justify_content": null,
            "_view_module": "@jupyter-widgets/base",
            "overflow": null,
            "_model_module_version": "1.2.0",
            "_view_count": null,
            "flex_flow": null,
            "width": null,
            "min_width": null,
            "border": null,
            "align_items": null,
            "bottom": null,
            "_model_module": "@jupyter-widgets/base",
            "top": null,
            "grid_column": null,
            "overflow_y": null,
            "overflow_x": null,
            "grid_auto_flow": null,
            "grid_area": null,
            "grid_template_columns": null,
            "flex": null,
            "_model_name": "LayoutModel",
            "justify_items": null,
            "grid_row": null,
            "max_height": null,
            "align_content": null,
            "visibility": null,
            "align_self": null,
            "height": null,
            "min_height": null,
            "padding": null,
            "grid_auto_rows": null,
            "grid_gap": null,
            "max_width": null,
            "order": null,
            "_view_module_version": "1.2.0",
            "grid_template_areas": null,
            "object_position": null,
            "object_fit": null,
            "grid_auto_columns": null,
            "margin": null,
            "display": null,
            "left": null
          }
        },
        "55935e840c384e2ab72f1a0199df6d64": {
          "model_module": "@jupyter-widgets/controls",
          "model_name": "FloatProgressModel",
          "state": {
            "_view_name": "ProgressView",
            "style": "IPY_MODEL_69dccd60a33448cf953bd7dc971de2a1",
            "_dom_classes": [],
            "description": "Downloading: 100%",
            "_model_name": "FloatProgressModel",
            "bar_style": "success",
            "max": 536063208,
            "_view_module": "@jupyter-widgets/controls",
            "_model_module_version": "1.5.0",
            "value": 536063208,
            "_view_count": null,
            "_view_module_version": "1.5.0",
            "orientation": "horizontal",
            "min": 0,
            "description_tooltip": null,
            "_model_module": "@jupyter-widgets/controls",
            "layout": "IPY_MODEL_c8ab77a51e6b44e691ba9b737e2509c5"
          }
        },
        "e7bf66c8b6884d74b1b7f5f06e6dd004": {
          "model_module": "@jupyter-widgets/controls",
          "model_name": "HTMLModel",
          "state": {
            "_view_name": "HTMLView",
            "style": "IPY_MODEL_f7aa62517f334834a60f6367ac93bf48",
            "_dom_classes": [],
            "description": "",
            "_model_name": "HTMLModel",
            "placeholder": "​",
            "_view_module": "@jupyter-widgets/controls",
            "_model_module_version": "1.5.0",
            "value": " 536M/536M [00:20&lt;00:00, 26.2MB/s]",
            "_view_count": null,
            "_view_module_version": "1.5.0",
            "description_tooltip": null,
            "_model_module": "@jupyter-widgets/controls",
            "layout": "IPY_MODEL_48bf20f3be0642e1987013b633dfc8a3"
          }
        },
        "69dccd60a33448cf953bd7dc971de2a1": {
          "model_module": "@jupyter-widgets/controls",
          "model_name": "ProgressStyleModel",
          "state": {
            "_view_name": "StyleView",
            "_model_name": "ProgressStyleModel",
            "description_width": "initial",
            "_view_module": "@jupyter-widgets/base",
            "_model_module_version": "1.5.0",
            "_view_count": null,
            "_view_module_version": "1.2.0",
            "bar_color": null,
            "_model_module": "@jupyter-widgets/controls"
          }
        },
        "c8ab77a51e6b44e691ba9b737e2509c5": {
          "model_module": "@jupyter-widgets/base",
          "model_name": "LayoutModel",
          "state": {
            "_view_name": "LayoutView",
            "grid_template_rows": null,
            "right": null,
            "justify_content": null,
            "_view_module": "@jupyter-widgets/base",
            "overflow": null,
            "_model_module_version": "1.2.0",
            "_view_count": null,
            "flex_flow": null,
            "width": null,
            "min_width": null,
            "border": null,
            "align_items": null,
            "bottom": null,
            "_model_module": "@jupyter-widgets/base",
            "top": null,
            "grid_column": null,
            "overflow_y": null,
            "overflow_x": null,
            "grid_auto_flow": null,
            "grid_area": null,
            "grid_template_columns": null,
            "flex": null,
            "_model_name": "LayoutModel",
            "justify_items": null,
            "grid_row": null,
            "max_height": null,
            "align_content": null,
            "visibility": null,
            "align_self": null,
            "height": null,
            "min_height": null,
            "padding": null,
            "grid_auto_rows": null,
            "grid_gap": null,
            "max_width": null,
            "order": null,
            "_view_module_version": "1.2.0",
            "grid_template_areas": null,
            "object_position": null,
            "object_fit": null,
            "grid_auto_columns": null,
            "margin": null,
            "display": null,
            "left": null
          }
        },
        "f7aa62517f334834a60f6367ac93bf48": {
          "model_module": "@jupyter-widgets/controls",
          "model_name": "DescriptionStyleModel",
          "state": {
            "_view_name": "StyleView",
            "_model_name": "DescriptionStyleModel",
            "description_width": "",
            "_view_module": "@jupyter-widgets/base",
            "_model_module_version": "1.5.0",
            "_view_count": null,
            "_view_module_version": "1.2.0",
            "_model_module": "@jupyter-widgets/controls"
          }
        },
        "48bf20f3be0642e1987013b633dfc8a3": {
          "model_module": "@jupyter-widgets/base",
          "model_name": "LayoutModel",
          "state": {
            "_view_name": "LayoutView",
            "grid_template_rows": null,
            "right": null,
            "justify_content": null,
            "_view_module": "@jupyter-widgets/base",
            "overflow": null,
            "_model_module_version": "1.2.0",
            "_view_count": null,
            "flex_flow": null,
            "width": null,
            "min_width": null,
            "border": null,
            "align_items": null,
            "bottom": null,
            "_model_module": "@jupyter-widgets/base",
            "top": null,
            "grid_column": null,
            "overflow_y": null,
            "overflow_x": null,
            "grid_auto_flow": null,
            "grid_area": null,
            "grid_template_columns": null,
            "flex": null,
            "_model_name": "LayoutModel",
            "justify_items": null,
            "grid_row": null,
            "max_height": null,
            "align_content": null,
            "visibility": null,
            "align_self": null,
            "height": null,
            "min_height": null,
            "padding": null,
            "grid_auto_rows": null,
            "grid_gap": null,
            "max_width": null,
            "order": null,
            "_view_module_version": "1.2.0",
            "grid_template_areas": null,
            "object_position": null,
            "object_fit": null,
            "grid_auto_columns": null,
            "margin": null,
            "display": null,
            "left": null
          }
        }
      }
    }
  },
  "cells": [
    {
      "cell_type": "markdown",
      "metadata": {
        "id": "view-in-github",
        "colab_type": "text"
      },
      "source": [
        "<a href=\"https://colab.research.google.com/github/julrods/cyber-bullying-detector/blob/main/2_Training.ipynb\" target=\"_parent\"><img src=\"https://colab.research.google.com/assets/colab-badge.svg\" alt=\"Open In Colab\"/></a>"
      ]
    },
    {
      "cell_type": "markdown",
      "metadata": {
        "id": "mWpayLDyjKBQ"
      },
      "source": [
        "REFERENCIA: https://swatimeena989.medium.com/bert-text-classification-using-keras-903671e0207d#011a\n",
        "\n",
        "- Javi: preguntar GCP\n",
        "- Probar binaria de nuevo, debería ir mejor\n",
        "- Este modelo es diferente al del ejemplo porque hay una Red densa metida en TFBErt for seq classification, no la ponemos manual. Por eso también le pasamos la máscara y el validation data de manera diferente al hacer fit\n",
        "\n",
        "\n",
        "Next steps:\n",
        "- 0. Conectar Jupyter a VM de GCP. \n",
        "- 0. Hacer predict con train para ver si hay overfitting\n",
        "- 1. Reentrenar con los mismo datos (aggression): Ver vector de losses (guardar) y añadir al nuevo vector cuando reentrene. \n",
        "- 2. Hacer epochs hasta que converja (llegue al mínimo). El modelo tiene un vector de losses y otro de accuracy. Buscar el mínimo de validation. \n",
        "- 3. Probar con todos los datos: usar los pesos que tengo y volverlo a entrenar con nuevos datos (cargar pesos antes de entrenar).\n",
        "- (4? Según cómo lo vea hacer resampling. )\n",
        "- 5. Productizarlo: Coger datos reales y clasificarlos. Buscar usuario de twitter con tweets ofensivos + usuario no ofensivo. Spider para scrappear IG. Dataset del https://projecte-equal.com/#dades\n",
        "\n",
        "Dudas: \n",
        "- Mirar el tema de la transformación al castellano\n",
        "- Pasa algo por haber cogido el código de la chica?\n",
        "\n",
        "VMs: \n",
        "- https://towardsdatascience.com/running-jupyter-notebook-in-google-cloud-platform-in-15-min-61e16da34d52\n",
        "- https://medium.com/swlh/how-to-use-google-cloud-and-gpu-build-simple-deep-learning-environment-c6eadff2a569"
      ]
    },
    {
      "cell_type": "markdown",
      "metadata": {
        "id": "3vRX1i6WPD7Z"
      },
      "source": [
        "# Environment"
      ]
    },
    {
      "cell_type": "markdown",
      "metadata": {
        "id": "yymChyEhPccH"
      },
      "source": [
        "## Libraries"
      ]
    },
    {
      "cell_type": "code",
      "metadata": {
        "id": "d-4PXEPEPnkn"
      },
      "source": [
        "!pip install transformers"
      ],
      "execution_count": null,
      "outputs": []
    },
    {
      "cell_type": "code",
      "metadata": {
        "id": "zSCmn831Pesa"
      },
      "source": [
        "import os\n",
        "import tensorflow as tf\n",
        "import tensorflow_hub as hub\n",
        "import pandas as pd\n",
        "from sklearn.model_selection import train_test_split\n",
        "import numpy as np\n",
        "import keras\n",
        "import pickle\n",
        "from keras.models import Model\n",
        "import keras.backend as K\n",
        "from sklearn.metrics import confusion_matrix,f1_score,classification_report\n",
        "import matplotlib.pyplot as plt\n",
        "from keras.callbacks import ModelCheckpoint\n",
        "from keras.models import load_model\n",
        "from sklearn.utils import shuffle\n",
        "from transformers import BertTokenizer, TFBertModel, BertConfig, TFBertForSequenceClassification"
      ],
      "execution_count": null,
      "outputs": []
    },
    {
      "cell_type": "code",
      "metadata": {
        "id": "WIesWUJsKtKg"
      },
      "source": [
        "os.environ['TF_CPP_MIN_LOG_LEVEL'] = '3'"
      ],
      "execution_count": null,
      "outputs": []
    },
    {
      "cell_type": "code",
      "metadata": {
        "colab": {
          "base_uri": "https://localhost:8080/"
        },
        "id": "JZvvUxu0b-mD",
        "outputId": "bc650613-cce8-45a2-f311-58c86bb0bd52"
      },
      "source": [
        "from google.colab import drive\n",
        "drive.mount('/content/gdrive')"
      ],
      "execution_count": null,
      "outputs": [
        {
          "output_type": "stream",
          "text": [
            "Mounted at /content/gdrive\n"
          ],
          "name": "stdout"
        }
      ]
    },
    {
      "cell_type": "markdown",
      "metadata": {
        "id": "yL1eRChsCCse"
      },
      "source": [
        "## Functions"
      ]
    },
    {
      "cell_type": "code",
      "metadata": {
        "id": "2GJtH0GuCEnB"
      },
      "source": [
        "def load_vectors(dataset_name):\n",
        "  pickle_inp_path = f'/content/gdrive/MyDrive/Cyber-bullying-project/data/3_tokenized_data/bert_inp_{dataset_name}.pkl'\n",
        "  pickle_mask_path = f'/content/gdrive/MyDrive/Cyber-bullying-project/data/3_tokenized_data/bert_mask_{dataset_name}.pkl'\n",
        "  pickle_label_path = f'/content/gdrive/MyDrive/Cyber-bullying-project/data/3_tokenized_data/bert_label_{dataset_name}.pkl'\n",
        "\n",
        "  input_ids = pickle.load(open(pickle_inp_path, 'rb'))\n",
        "  attention_masks = pickle.load(open(pickle_mask_path, 'rb'))\n",
        "  labels = pickle.load(open(pickle_label_path, 'rb'))\n",
        "\n",
        "  return input_ids, attention_masks, labels"
      ],
      "execution_count": null,
      "outputs": []
    },
    {
      "cell_type": "code",
      "metadata": {
        "id": "Uy1nMl5SD_aU"
      },
      "source": [
        "def train_test_val(input_ids, attention_masks, labels):\n",
        "  train_inp, test_inp, train_mask, test_mask, train_label, test_label = train_test_split(input_ids,\n",
        "                                                                                         attention_masks,\n",
        "                                                                                         labels,\n",
        "                                                                                         test_size = 0.2,\n",
        "                                                                                         random_state = 42,\n",
        "                                                                                         stratify = labels)\n",
        "  \n",
        "  train_inp, val_inp, train_mask, val_mask, train_label, val_label = train_test_split(train_inp,\n",
        "                                                                                      train_mask,\n",
        "                                                                                      train_label,\n",
        "                                                                                      test_size = 0.2,\n",
        "                                                                                      random_state = 42,\n",
        "                                                                                      stratify = train_label)\n",
        "  \n",
        "  return train_inp, val_inp, test_inp, train_mask, val_mask, test_mask, train_label, val_label, test_label"
      ],
      "execution_count": null,
      "outputs": []
    },
    {
      "cell_type": "code",
      "metadata": {
        "id": "RDCrMzkjSoBK"
      },
      "source": [
        "def bert_setup():\n",
        "  base_model = TFBertForSequenceClassification.from_pretrained('bert-base-uncased', num_labels=2)\n",
        "  \n",
        "  loss = tf.keras.losses.SparseCategoricalCrossentropy(from_logits=True)\n",
        "  metric = tf.keras.metrics.SparseCategoricalAccuracy('accuracy')\n",
        "  optimizer = tf.keras.optimizers.Adam(learning_rate=2e-5,\n",
        "                                       epsilon=1e-08)\n",
        "  \n",
        "  base_model.compile(loss = loss, optimizer = optimizer, metrics = [metric])\n",
        "  \n",
        "  return base_model"
      ],
      "execution_count": null,
      "outputs": []
    },
    {
      "cell_type": "code",
      "metadata": {
        "id": "LnXYEXIlSoBL"
      },
      "source": [
        "def train_model(base_model, new_model_name, old_model_name=None, batch_size=32, epochs=4):\n",
        "\n",
        "  new_model = base_model\n",
        "  new_model_save_path = f'/content/gdrive/MyDrive/Cyber-bullying-project/models/{new_model_name}.h5'\n",
        "  print(f'\\nNew model will be saved at {new_model_save_path}')\n",
        "\n",
        "  callbacks = [tf.keras.callbacks.ModelCheckpoint(filepath = new_model_save_path,\n",
        "                                                  save_weights_only = True,\n",
        "                                                  monitor = 'val_loss',\n",
        "                                                  mode = 'min',\n",
        "                                                  save_best_only = True)]\n",
        "\n",
        "  if old_model_name: \n",
        "    old_model_save_path = f'/content/gdrive/MyDrive/Cyber-bullying-project/models/{old_model_name}.h5'\n",
        "    new_model.load_weights(old_model_save_path)\n",
        "    print(f'\\nTraining on previous model {old_model_name}')\n",
        "  else:\n",
        "    print('\\nTraining new model')\n",
        "  \n",
        "  print('\\nTraining starting...\\n\\n')\n",
        "  history = new_model.fit(x = [train_inp, train_mask],\n",
        "                           y = train_label,\n",
        "                           batch_size = batch_size,\n",
        "                           epochs = epochs,\n",
        "                           validation_data = ([val_inp, val_mask], val_label), \n",
        "                           callbacks = callbacks)\n",
        "  return new_model"
      ],
      "execution_count": null,
      "outputs": []
    },
    {
      "cell_type": "code",
      "metadata": {
        "id": "kyPH_-OxSwmo"
      },
      "source": [
        "def evaluate_model(model_name, inputs, mask, labels, base_model=None):\n",
        "  if type(model_name) == str:\n",
        "    model_save_path = f'/content/gdrive/MyDrive/Cyber-bullying-project/models/{model_name}.h5'\n",
        "    trained_model = base_model.load_weights(model_save_path)\n",
        "  \n",
        "  else:\n",
        "    trained_model = model_name\n",
        "  \n",
        "  preds = trained_model.predict([inputs, mask],\n",
        "                                batch_size=32)\n",
        "  \n",
        "  pred_labels = [np.argmax(pred) for pred in preds[0]]\n",
        "  f1 = f1_score(labels, pred_labels)\n",
        "  class_report = classification_report(labels, pred_labels)\n",
        "  conf_matrix = confusion_matrix(labels, pred_labels)\n",
        "\n",
        "  return preds, pred_labels, f1, class_report, conf_matrix"
      ],
      "execution_count": null,
      "outputs": []
    },
    {
      "cell_type": "code",
      "metadata": {
        "id": "E-BclTlh3mXt"
      },
      "source": [
        "def print_eval(f1, class_report, conf_matrix):\n",
        "  print('F1 score:', f1)\n",
        "  print('Classification Report:')\n",
        "  print(class_report)\n",
        "  print('Confusion Matrix:')\n",
        "  print(conf_matrix)"
      ],
      "execution_count": null,
      "outputs": []
    },
    {
      "cell_type": "markdown",
      "metadata": {
        "id": "jl9dnsQLZGLn"
      },
      "source": [
        "# Fine-tuning the pre-trained BERT model"
      ]
    },
    {
      "cell_type": "markdown",
      "metadata": {
        "id": "rNl7pPie9lX_"
      },
      "source": [
        "## Aggression dataset"
      ]
    },
    {
      "cell_type": "markdown",
      "metadata": {
        "id": "6cJI3DXneJug"
      },
      "source": [
        "### Loading the data from the pickle files"
      ]
    },
    {
      "cell_type": "code",
      "metadata": {
        "id": "ccjRBxY4B16r"
      },
      "source": [
        "input_ids, attention_masks, labels = load_vectors('aggression')"
      ],
      "execution_count": null,
      "outputs": []
    },
    {
      "cell_type": "markdown",
      "metadata": {
        "id": "MHfPfdmLeQkZ"
      },
      "source": [
        "### Spitting into train, test and validation set"
      ]
    },
    {
      "cell_type": "code",
      "metadata": {
        "id": "3wP5cfWVDp8L"
      },
      "source": [
        "train_inp, val_inp, test_inp, train_mask, val_mask, test_mask, train_label, val_label, test_label = train_test_val(input_ids, attention_masks, labels)"
      ],
      "execution_count": null,
      "outputs": []
    },
    {
      "cell_type": "markdown",
      "metadata": {
        "id": "_9QBjf6ZdmtU"
      },
      "source": [
        "### Setting up BERT"
      ]
    },
    {
      "cell_type": "markdown",
      "metadata": {
        "id": "AAz5WZbpe8at"
      },
      "source": [
        "Read about callbacks: https://keras.io/api/callbacks/"
      ]
    },
    {
      "cell_type": "code",
      "metadata": {
        "colab": {
          "base_uri": "https://localhost:8080/",
          "height": 206,
          "referenced_widgets": [
            "340b4563e5ee478c81280d79575e57b4",
            "76de4f3fbfba47239005b90353848c6c",
            "21a291d8ab9a47f19210a32312aa63e1",
            "e619e68022a54013b14ace9d8544ed96",
            "60e63032b5744fd5a9278d03561f8695",
            "2ba8d7a6d1774bdb823db497902aaaa8",
            "b10afc035f364f04bbdcc67c408d3d78",
            "541285b099b34140b68a8a556bbde72c",
            "88075fdb0d8045ebab6e8513835f64e4",
            "452a60388b91427abef6c8e942e8736c",
            "55935e840c384e2ab72f1a0199df6d64",
            "e7bf66c8b6884d74b1b7f5f06e6dd004",
            "69dccd60a33448cf953bd7dc971de2a1",
            "c8ab77a51e6b44e691ba9b737e2509c5",
            "f7aa62517f334834a60f6367ac93bf48",
            "48bf20f3be0642e1987013b633dfc8a3"
          ]
        },
        "id": "LRnxRsODQD1W",
        "outputId": "e159ccd3-431d-4c8d-b431-b85d938605ac"
      },
      "source": [
        "base_model = bert_setup()"
      ],
      "execution_count": null,
      "outputs": [
        {
          "output_type": "display_data",
          "data": {
            "application/vnd.jupyter.widget-view+json": {
              "model_id": "340b4563e5ee478c81280d79575e57b4",
              "version_minor": 0,
              "version_major": 2
            },
            "text/plain": [
              "HBox(children=(FloatProgress(value=0.0, description='Downloading', max=570.0, style=ProgressStyle(description_…"
            ]
          },
          "metadata": {
            "tags": []
          }
        },
        {
          "output_type": "stream",
          "text": [
            "\n"
          ],
          "name": "stdout"
        },
        {
          "output_type": "display_data",
          "data": {
            "application/vnd.jupyter.widget-view+json": {
              "model_id": "88075fdb0d8045ebab6e8513835f64e4",
              "version_minor": 0,
              "version_major": 2
            },
            "text/plain": [
              "HBox(children=(FloatProgress(value=0.0, description='Downloading', max=536063208.0, style=ProgressStyle(descri…"
            ]
          },
          "metadata": {
            "tags": []
          }
        },
        {
          "output_type": "stream",
          "text": [
            "\n"
          ],
          "name": "stdout"
        },
        {
          "output_type": "stream",
          "text": [
            "All model checkpoint layers were used when initializing TFBertForSequenceClassification.\n",
            "\n",
            "Some layers of TFBertForSequenceClassification were not initialized from the model checkpoint at bert-base-uncased and are newly initialized: ['classifier']\n",
            "You should probably TRAIN this model on a down-stream task to be able to use it for predictions and inference.\n"
          ],
          "name": "stderr"
        }
      ]
    },
    {
      "cell_type": "markdown",
      "metadata": {
        "id": "GnaOy4o3S2mf"
      },
      "source": [
        "### Training the model"
      ]
    },
    {
      "cell_type": "code",
      "metadata": {
        "colab": {
          "base_uri": "https://localhost:8080/"
        },
        "id": "hguXl0WFQHF9",
        "outputId": "5ae8c90f-215d-4a0c-b399-b23ab0a15c09"
      },
      "source": [
        "aggression_model = train_model(base_model=base_model, new_model_name='aggression_model', old_model_name='bert_model')"
      ],
      "execution_count": null,
      "outputs": [
        {
          "output_type": "stream",
          "text": [
            "\n",
            "New model will be saved at /content/gdrive/MyDrive/Cyber-bullying-project/models/aggression_model.h5\n",
            "\n",
            "Training on previous model bert_model\n",
            "\n",
            "Training starting...\n",
            "\n",
            "\n",
            "Epoch 1/4\n",
            "WARNING:tensorflow:The parameters `output_attentions`, `output_hidden_states` and `use_cache` cannot be updated when calling a model.They have to be set to True/False in the config object (i.e.: `config=XConfig.from_pretrained('name', output_attentions=True)`).\n",
            "WARNING:tensorflow:AutoGraph could not transform <bound method Socket.send of <zmq.sugar.socket.Socket object at 0x7fd95d79cd70>> and will run it as-is.\n",
            "Please report this to the TensorFlow team. When filing the bug, set the verbosity to 10 (on Linux, `export AUTOGRAPH_VERBOSITY=10`) and attach the full output.\n",
            "Cause: module, class, method, function, traceback, frame, or code object was expected, got cython_function_or_method\n",
            "To silence this warning, decorate the function with @tf.autograph.experimental.do_not_convert\n",
            "WARNING: AutoGraph could not transform <bound method Socket.send of <zmq.sugar.socket.Socket object at 0x7fd95d79cd70>> and will run it as-is.\n",
            "Please report this to the TensorFlow team. When filing the bug, set the verbosity to 10 (on Linux, `export AUTOGRAPH_VERBOSITY=10`) and attach the full output.\n",
            "Cause: module, class, method, function, traceback, frame, or code object was expected, got cython_function_or_method\n",
            "To silence this warning, decorate the function with @tf.autograph.experimental.do_not_convert\n",
            "WARNING:tensorflow:AutoGraph could not transform <function wrap at 0x7fd978951170> and will run it as-is.\n",
            "Cause: while/else statement not yet supported\n",
            "To silence this warning, decorate the function with @tf.autograph.experimental.do_not_convert\n",
            "WARNING: AutoGraph could not transform <function wrap at 0x7fd978951170> and will run it as-is.\n",
            "Cause: while/else statement not yet supported\n",
            "To silence this warning, decorate the function with @tf.autograph.experimental.do_not_convert\n",
            "WARNING:tensorflow:The parameter `return_dict` cannot be set in graph mode and will always be set to `True`.\n",
            "WARNING:tensorflow:From /usr/local/lib/python3.7/dist-packages/tensorflow/python/ops/array_ops.py:5049: calling gather (from tensorflow.python.ops.array_ops) with validate_indices is deprecated and will be removed in a future version.\n",
            "Instructions for updating:\n",
            "The `validate_indices` argument has no effect. Indices are always validated on CPU and never validated on GPU.\n",
            "WARNING:tensorflow:The parameters `output_attentions`, `output_hidden_states` and `use_cache` cannot be updated when calling a model.They have to be set to True/False in the config object (i.e.: `config=XConfig.from_pretrained('name', output_attentions=True)`).\n",
            "WARNING:tensorflow:The parameter `return_dict` cannot be set in graph mode and will always be set to `True`.\n",
            "2318/2318 [==============================] - ETA: 0s - loss: 0.1538 - accuracy: 0.9429WARNING:tensorflow:The parameters `output_attentions`, `output_hidden_states` and `use_cache` cannot be updated when calling a model.They have to be set to True/False in the config object (i.e.: `config=XConfig.from_pretrained('name', output_attentions=True)`).\n",
            "WARNING:tensorflow:The parameter `return_dict` cannot be set in graph mode and will always be set to `True`.\n",
            "2318/2318 [==============================] - 1607s 672ms/step - loss: 0.1538 - accuracy: 0.9429 - val_loss: 0.1370 - val_accuracy: 0.9477\n",
            "Epoch 2/4\n",
            "2318/2318 [==============================] - 1560s 673ms/step - loss: 0.1168 - accuracy: 0.9553 - val_loss: 0.1700 - val_accuracy: 0.9441\n",
            "Epoch 3/4\n",
            "2318/2318 [==============================] - 1560s 673ms/step - loss: 0.0775 - accuracy: 0.9712 - val_loss: 0.1739 - val_accuracy: 0.9437\n",
            "Epoch 4/4\n",
            "2318/2318 [==============================] - 1561s 673ms/step - loss: 0.0460 - accuracy: 0.9845 - val_loss: 0.2273 - val_accuracy: 0.9437\n"
          ],
          "name": "stdout"
        }
      ]
    },
    {
      "cell_type": "markdown",
      "metadata": {
        "id": "kLURLxKZS7ni"
      },
      "source": [
        "### Evaluating the model"
      ]
    },
    {
      "cell_type": "markdown",
      "metadata": {
        "id": "92LbimtqTAYT"
      },
      "source": [
        "#### With train data"
      ]
    },
    {
      "cell_type": "code",
      "metadata": {
        "colab": {
          "base_uri": "https://localhost:8080/"
        },
        "id": "ez7ykrDoFsph",
        "outputId": "f90096d9-987e-42ca-e12d-e4d44f8d1642"
      },
      "source": [
        "preds_train, pred_labels_train, f1_train, class_report_train, conf_matrix_train = evaluate_model(aggression_model, train_inp, train_mask, train_label)"
      ],
      "execution_count": null,
      "outputs": [
        {
          "output_type": "stream",
          "text": [
            "WARNING:tensorflow:The parameters `output_attentions`, `output_hidden_states` and `use_cache` cannot be updated when calling a model.They have to be set to True/False in the config object (i.e.: `config=XConfig.from_pretrained('name', output_attentions=True)`).\n",
            "WARNING:tensorflow:The parameter `return_dict` cannot be set in graph mode and will always be set to `True`.\n"
          ],
          "name": "stdout"
        }
      ]
    },
    {
      "cell_type": "code",
      "metadata": {
        "colab": {
          "base_uri": "https://localhost:8080/"
        },
        "id": "fpfzTSV0154d",
        "outputId": "a67d0965-3789-4cda-baff-12129800bc9a"
      },
      "source": [
        "print_eval(f1_train, class_report_train, conf_matrix_train)"
      ],
      "execution_count": null,
      "outputs": [
        {
          "output_type": "stream",
          "text": [
            "F1 score: 0.9821220776473077\n",
            "Classification Report:\n",
            "              precision    recall  f1-score   support\n",
            "\n",
            "           0       1.00      1.00      1.00     64691\n",
            "           1       0.98      0.98      0.98      9461\n",
            "\n",
            "    accuracy                           1.00     74152\n",
            "   macro avg       0.99      0.99      0.99     74152\n",
            "weighted avg       1.00      1.00      1.00     74152\n",
            "\n",
            "Confusion Matrix:\n",
            "[[64530   161]\n",
            " [  177  9284]]\n"
          ],
          "name": "stdout"
        }
      ]
    },
    {
      "cell_type": "markdown",
      "metadata": {
        "id": "dC_wXnIKSiRV"
      },
      "source": [
        "#### With test data"
      ]
    },
    {
      "cell_type": "code",
      "metadata": {
        "id": "YDURjwGTSiGj"
      },
      "source": [
        "preds_test, pred_labels_test, f1_test, class_report_test, conf_matrix_test = evaluate_model(aggression_model, test_inp, test_mask, test_label)"
      ],
      "execution_count": null,
      "outputs": []
    },
    {
      "cell_type": "code",
      "metadata": {
        "colab": {
          "base_uri": "https://localhost:8080/"
        },
        "id": "CK6sv_Jn3JC6",
        "outputId": "805906be-ff04-46a4-fa44-6774046fb2f8"
      },
      "source": [
        "print_eval(f1_test, class_report_test, conf_matrix_test)"
      ],
      "execution_count": null,
      "outputs": [
        {
          "output_type": "stream",
          "text": [
            "F1 score: 0.759124087591241\n",
            "Classification Report:\n",
            "              precision    recall  f1-score   support\n",
            "\n",
            "           0       0.96      0.98      0.97     20217\n",
            "           1       0.82      0.70      0.76      2956\n",
            "\n",
            "    accuracy                           0.94     23173\n",
            "   macro avg       0.89      0.84      0.86     23173\n",
            "weighted avg       0.94      0.94      0.94     23173\n",
            "\n",
            "Confusion Matrix:\n",
            "[[19773   444]\n",
            " [  876  2080]]\n"
          ],
          "name": "stdout"
        }
      ]
    },
    {
      "cell_type": "code",
      "metadata": {
        "id": "SasF60XtvFJg"
      },
      "source": [
        "# hacer gráfico "
      ],
      "execution_count": null,
      "outputs": []
    },
    {
      "cell_type": "code",
      "metadata": {
        "id": "GWO2j4B728KG"
      },
      "source": [
        ""
      ],
      "execution_count": null,
      "outputs": []
    }
  ]
}