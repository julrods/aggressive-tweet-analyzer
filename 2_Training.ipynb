{
  "nbformat": 4,
  "nbformat_minor": 0,
  "metadata": {
    "colab": {
      "name": "2_Training.ipynb",
      "provenance": [],
      "collapsed_sections": [],
      "toc_visible": true,
      "include_colab_link": true
    },
    "kernelspec": {
      "display_name": "Python 3",
      "name": "python3"
    },
    "language_info": {
      "name": "python"
    }
  },
  "cells": [
    {
      "cell_type": "markdown",
      "metadata": {
        "id": "view-in-github",
        "colab_type": "text"
      },
      "source": [
        "<a href=\"https://colab.research.google.com/github/julrods/cyber-bullying-detector/blob/main/2_Training.ipynb\" target=\"_parent\"><img src=\"https://colab.research.google.com/assets/colab-badge.svg\" alt=\"Open In Colab\"/></a>"
      ]
    },
    {
      "cell_type": "markdown",
      "metadata": {
        "id": "mWpayLDyjKBQ"
      },
      "source": [
        "REFERENCIA: https://swatimeena989.medium.com/bert-text-classification-using-keras-903671e0207d#011a\n",
        "\n",
        "- Javi: preguntar GCP\n",
        "- Probar binaria de nuevo, debería ir mejor\n",
        "- Este modelo es diferente al del ejemplo porque hay una Red densa metida en TFBErt for seq classification, no la ponemos manual. Por eso también le pasamos la máscara y el validation data de manera diferente al hacer fit\n",
        "\n",
        "\n",
        "Next steps:\n",
        "- 0. Conectar Jupyter a VM de GCP. \n",
        "- 0. Hacer predict con train para ver si hay overfitting\n",
        "- 1. Reentrenar con los mismo datos (aggression): Ver vector de losses (guardar) y añadir al nuevo vector cuando reentrene. \n",
        "- 2. Hacer epochs hasta que converja (llegue al mínimo). El modelo tiene un vector de losses y otro de accuracy. Buscar el mínimo de validation. \n",
        "- 3. Probar con todos los datos: usar los pesos que tengo y volverlo a entrenar con nuevos datos (cargar pesos antes de entrenar).\n",
        "- (4? Según cómo lo vea hacer resampling. )\n",
        "- 5. Productizarlo: Coger datos reales y clasificarlos. Buscar usuario de twitter con tweets ofensivos + usuario no ofensivo. Spider para scrappear IG. Dataset del https://projecte-equal.com/#dades\n",
        "\n",
        "Dudas: \n",
        "- Mirar el tema de la transformación al castellano\n",
        "- Pasa algo por haber cogido el código de la chica?\n",
        "- Cómo subo files tan grandes a github?\n",
        "\n",
        "VMs: \n",
        "- https://towardsdatascience.com/running-jupyter-notebook-in-google-cloud-platform-in-15-min-61e16da34d52\n",
        "- https://medium.com/swlh/how-to-use-google-cloud-and-gpu-build-simple-deep-learning-environment-c6eadff2a569\n",
        "\n",
        "Future improvements: \n",
        "- Reduce overfitting by increasing dropout and adding regularization. Build the model with TFBertModel instead of TFBertForSequenceClassification"
      ]
    },
    {
      "cell_type": "markdown",
      "metadata": {
        "id": "3vRX1i6WPD7Z"
      },
      "source": [
        "# Environment"
      ]
    },
    {
      "cell_type": "markdown",
      "metadata": {
        "id": "yymChyEhPccH"
      },
      "source": [
        "## Libraries"
      ]
    },
    {
      "cell_type": "code",
      "metadata": {
        "id": "d-4PXEPEPnkn"
      },
      "source": [
        "!pip install transformers"
      ],
      "execution_count": null,
      "outputs": []
    },
    {
      "cell_type": "code",
      "metadata": {
        "id": "zSCmn831Pesa"
      },
      "source": [
        "import os\n",
        "import tensorflow as tf\n",
        "import tensorflow_hub as hub\n",
        "import pandas as pd\n",
        "from sklearn.model_selection import train_test_split\n",
        "import numpy as np\n",
        "import keras\n",
        "import pickle\n",
        "from keras.models import Model\n",
        "import keras.backend as K\n",
        "from sklearn.metrics import confusion_matrix,f1_score,classification_report\n",
        "import matplotlib.pyplot as plt\n",
        "import matplotlib.ticker as ticker\n",
        "from keras.callbacks import ModelCheckpoint\n",
        "from keras.models import load_model\n",
        "from sklearn.utils import shuffle\n",
        "from transformers import BertTokenizer, TFBertModel, BertConfig, TFBertForSequenceClassification"
      ],
      "execution_count": 24,
      "outputs": []
    },
    {
      "cell_type": "code",
      "metadata": {
        "id": "WIesWUJsKtKg"
      },
      "source": [
        "os.environ['TF_CPP_MIN_LOG_LEVEL'] = '3'"
      ],
      "execution_count": 3,
      "outputs": []
    },
    {
      "cell_type": "code",
      "metadata": {
        "colab": {
          "base_uri": "https://localhost:8080/"
        },
        "id": "JZvvUxu0b-mD",
        "outputId": "46bab9bd-2b67-4596-e9cb-5859c34b0862"
      },
      "source": [
        "from google.colab import drive\n",
        "drive.mount('/content/gdrive')"
      ],
      "execution_count": 4,
      "outputs": [
        {
          "output_type": "stream",
          "text": [
            "Drive already mounted at /content/gdrive; to attempt to forcibly remount, call drive.mount(\"/content/gdrive\", force_remount=True).\n"
          ],
          "name": "stdout"
        }
      ]
    },
    {
      "cell_type": "markdown",
      "metadata": {
        "id": "yL1eRChsCCse"
      },
      "source": [
        "## Functions"
      ]
    },
    {
      "cell_type": "code",
      "metadata": {
        "id": "2GJtH0GuCEnB"
      },
      "source": [
        "def load_vectors(dataset_name):\n",
        "  pickle_inp_path = f'/content/gdrive/MyDrive/Cyber-bullying-project/data/3_tokenized_data/bert_inp_{dataset_name}.pkl'\n",
        "  pickle_mask_path = f'/content/gdrive/MyDrive/Cyber-bullying-project/data/3_tokenized_data/bert_mask_{dataset_name}.pkl'\n",
        "  pickle_label_path = f'/content/gdrive/MyDrive/Cyber-bullying-project/data/3_tokenized_data/bert_label_{dataset_name}.pkl'\n",
        "\n",
        "  input_ids = pickle.load(open(pickle_inp_path, 'rb'))\n",
        "  attention_masks = pickle.load(open(pickle_mask_path, 'rb'))\n",
        "  labels = pickle.load(open(pickle_label_path, 'rb'))\n",
        "\n",
        "  return input_ids, attention_masks, labels"
      ],
      "execution_count": 5,
      "outputs": []
    },
    {
      "cell_type": "code",
      "metadata": {
        "id": "Uy1nMl5SD_aU"
      },
      "source": [
        "def train_test_val(input_ids, attention_masks, labels):\n",
        "  train_inp, test_inp, train_mask, test_mask, train_label, test_label = train_test_split(input_ids,\n",
        "                                                                                         attention_masks,\n",
        "                                                                                         labels,\n",
        "                                                                                         test_size = 0.2,\n",
        "                                                                                         random_state = 42,\n",
        "                                                                                         stratify = labels)\n",
        "  \n",
        "  train_inp, val_inp, train_mask, val_mask, train_label, val_label = train_test_split(train_inp,\n",
        "                                                                                      train_mask,\n",
        "                                                                                      train_label,\n",
        "                                                                                      test_size = 0.2,\n",
        "                                                                                      random_state = 42,\n",
        "                                                                                      stratify = train_label)\n",
        "  \n",
        "  return train_inp, val_inp, test_inp, train_mask, val_mask, test_mask, train_label, val_label, test_label"
      ],
      "execution_count": 6,
      "outputs": []
    },
    {
      "cell_type": "code",
      "metadata": {
        "id": "RDCrMzkjSoBK"
      },
      "source": [
        "def bert_setup():\n",
        "  base_model = TFBertForSequenceClassification.from_pretrained('bert-base-uncased', num_labels=2)\n",
        "  \n",
        "  loss = tf.keras.losses.SparseCategoricalCrossentropy(from_logits=True)\n",
        "  metric = tf.keras.metrics.SparseCategoricalAccuracy('accuracy')\n",
        "  optimizer = tf.keras.optimizers.Adam(learning_rate=2e-5,\n",
        "                                       epsilon=1e-08)\n",
        "  \n",
        "  base_model.compile(loss = loss, optimizer = optimizer, metrics = [metric])\n",
        "  \n",
        "  return base_model"
      ],
      "execution_count": 7,
      "outputs": []
    },
    {
      "cell_type": "code",
      "metadata": {
        "id": "LnXYEXIlSoBL"
      },
      "source": [
        "def train_model(base_model, new_model_name, old_model_name=None, batch_size=32, epochs=4):\n",
        "\n",
        "  new_model = base_model\n",
        "  new_model_save_path = f'/content/gdrive/MyDrive/Cyber-bullying-project/models/{new_model_name}.h5'\n",
        "  print(f'\\nNew model will be saved at {new_model_save_path}')\n",
        "\n",
        "  callbacks = [tf.keras.callbacks.ModelCheckpoint(filepath = new_model_save_path,\n",
        "                                                  save_weights_only = True,\n",
        "                                                  monitor = 'val_loss',\n",
        "                                                  mode = 'min',\n",
        "                                                  save_best_only = True)]\n",
        "\n",
        "  if old_model_name: \n",
        "    old_model_save_path = f'/content/gdrive/MyDrive/Cyber-bullying-project/models/{old_model_name}.h5'\n",
        "    new_model.load_weights(old_model_save_path)\n",
        "    print(f'\\nTraining on previous model {old_model_name}')\n",
        "  else:\n",
        "    print('\\nTraining new model')\n",
        "  \n",
        "  print('\\nTraining starting...\\n\\n')\n",
        "  history = new_model.fit(x = [train_inp, train_mask],\n",
        "                           y = train_label,\n",
        "                           batch_size = batch_size,\n",
        "                           epochs = epochs,\n",
        "                           validation_data = ([val_inp, val_mask], val_label), \n",
        "                           callbacks = callbacks)\n",
        "  return new_model"
      ],
      "execution_count": 8,
      "outputs": []
    },
    {
      "cell_type": "code",
      "metadata": {
        "id": "kyPH_-OxSwmo"
      },
      "source": [
        "def evaluate_model(model_name, inputs, mask, labels, base_model=None):\n",
        "  if type(model_name) == str:\n",
        "    model_save_path = f'/content/gdrive/MyDrive/Cyber-bullying-project/models/{model_name}.h5'\n",
        "    trained_model = base_model.load_weights(model_save_path)\n",
        "  \n",
        "  else:\n",
        "    trained_model = model_name\n",
        "  \n",
        "  preds = trained_model.predict([inputs, mask],\n",
        "                                batch_size=32)\n",
        "  \n",
        "  pred_labels = [np.argmax(pred) for pred in preds[0]]\n",
        "  f1 = f1_score(labels, pred_labels)\n",
        "  class_report = classification_report(labels, pred_labels)\n",
        "  conf_matrix = confusion_matrix(labels, pred_labels)\n",
        "\n",
        "  return preds, pred_labels, f1, class_report, conf_matrix"
      ],
      "execution_count": 9,
      "outputs": []
    },
    {
      "cell_type": "code",
      "metadata": {
        "id": "E-BclTlh3mXt"
      },
      "source": [
        "def print_eval(f1, class_report, conf_matrix):\n",
        "  print('F1 score:', f1)\n",
        "  print('Classification Report:')\n",
        "  print(class_report)\n",
        "  print('Confusion Matrix:')\n",
        "  print(conf_matrix)"
      ],
      "execution_count": 10,
      "outputs": []
    },
    {
      "cell_type": "code",
      "metadata": {
        "id": "_WiS8jskwZUV"
      },
      "source": [
        "# uptading the train_model function to have it save history as well\n",
        "\n",
        "def train_model(base_model, new_model_name, old_model_name=None, batch_size=32, epochs=4):\n",
        "\n",
        "  new_model = base_model\n",
        "  new_model_save_path = f'/content/gdrive/MyDrive/Cyber-bullying-project/models/{new_model_name}.h5'\n",
        "  print(f'\\nNew model will be saved at {new_model_save_path}')\n",
        "\n",
        "  callbacks = [tf.keras.callbacks.ModelCheckpoint(filepath = new_model_save_path,\n",
        "                                                  save_weights_only = True,\n",
        "                                                  monitor = 'val_loss',\n",
        "                                                  mode = 'min',\n",
        "                                                  save_best_only = True)]\n",
        "\n",
        "  if old_model_name: \n",
        "    old_model_save_path = f'/content/gdrive/MyDrive/Cyber-bullying-project/models/{old_model_name}.h5'\n",
        "    new_model.load_weights(old_model_save_path)\n",
        "    print(f'\\nTraining on previous model {old_model_name}')\n",
        "  else:\n",
        "    print('\\nTraining new model')\n",
        "  \n",
        "  #Training\n",
        "  print('\\nTraining starting...\\n\\n')\n",
        "  history = new_model.fit(x = [train_inp, train_mask],\n",
        "                           y = train_label,\n",
        "                           batch_size = batch_size,\n",
        "                           epochs = epochs,\n",
        "                           validation_data = ([val_inp, val_mask], val_label), \n",
        "                           callbacks = callbacks)\n",
        "  \n",
        "  #Saving the history\n",
        "  history_save_path = f'/content/gdrive/MyDrive/Cyber-bullying-project/models/histories/{new_model_name}_hist.pkl'\n",
        "  print(f'\\nFinished training. Saving history at {history_save_path} ...')\n",
        "  pickle.dump((history.history), open(history_save_path,'wb'))\n",
        "\n",
        "\n",
        "  return new_model, history.history"
      ],
      "execution_count": 11,
      "outputs": []
    },
    {
      "cell_type": "code",
      "metadata": {
        "id": "NjGq1g-owPoA"
      },
      "source": [
        "def plot_history(history, metric='loss'):\n",
        "  # retrieve history\n",
        "  if type(history) == str:\n",
        "    history_path = f'/content/gdrive/MyDrive/Cyber-bullying-project/models/histories/{history}.pkl'\n",
        "    hist = pickle.load(open(history_path, 'rb'))\n",
        "\n",
        "  else:\n",
        "    hist = history\n",
        "\n",
        "  #plot: \n",
        "\n",
        "  plt.plot(np.arange(len(hist[f'{metric}'])) + 0.5, hist[f'{metric}'], 'b.', label=f'Training {metric}')\n",
        "  plt.plot(np.arange(len(hist[f'val_{metric}'])) + 1, hist[f'val_{metric}'], 'r-', label=f'Validation {metric}')\n",
        "  plt.gca().xaxis.set_major_locator(ticker.MaxNLocator(integer=True))\n",
        "  plt.legend(fontsize=14)\n",
        "  plt.xlabel('Epochs')\n",
        "  plt.ylabel(f'{metric.capitalize()}')\n",
        "  plt.grid(True)  \n",
        "  plt.show()"
      ],
      "execution_count": 25,
      "outputs": []
    },
    {
      "cell_type": "markdown",
      "metadata": {
        "id": "HOXbd0P2dyrT"
      },
      "source": [
        "# BERT model setup"
      ]
    },
    {
      "cell_type": "markdown",
      "metadata": {
        "id": "a41KsdcQeCuV"
      },
      "source": [
        "Read about callbacks: https://keras.io/api/callbacks/"
      ]
    },
    {
      "cell_type": "code",
      "metadata": {
        "colab": {
          "base_uri": "https://localhost:8080/"
        },
        "id": "PswEQPYNeCuV",
        "outputId": "4ff088fa-dfe4-49c2-ef32-c8d7244b5aba"
      },
      "source": [
        "base_model = bert_setup()"
      ],
      "execution_count": 13,
      "outputs": [
        {
          "output_type": "stream",
          "text": [
            "All model checkpoint layers were used when initializing TFBertForSequenceClassification.\n",
            "\n",
            "Some layers of TFBertForSequenceClassification were not initialized from the model checkpoint at bert-base-uncased and are newly initialized: ['classifier']\n",
            "You should probably TRAIN this model on a down-stream task to be able to use it for predictions and inference.\n"
          ],
          "name": "stderr"
        }
      ]
    },
    {
      "cell_type": "markdown",
      "metadata": {
        "id": "jl9dnsQLZGLn"
      },
      "source": [
        "# Fine-tuning the pre-trained BERT model"
      ]
    },
    {
      "cell_type": "markdown",
      "metadata": {
        "id": "rNl7pPie9lX_"
      },
      "source": [
        "## Aggression dataset"
      ]
    },
    {
      "cell_type": "markdown",
      "metadata": {
        "id": "6cJI3DXneJug"
      },
      "source": [
        "### Loading the data from the pickle files"
      ]
    },
    {
      "cell_type": "code",
      "metadata": {
        "id": "ccjRBxY4B16r"
      },
      "source": [
        "input_ids, attention_masks, labels = load_vectors('aggression')"
      ],
      "execution_count": null,
      "outputs": []
    },
    {
      "cell_type": "markdown",
      "metadata": {
        "id": "MHfPfdmLeQkZ"
      },
      "source": [
        "### Spitting into train, test and validation set"
      ]
    },
    {
      "cell_type": "code",
      "metadata": {
        "id": "3wP5cfWVDp8L"
      },
      "source": [
        "train_inp, val_inp, test_inp, train_mask, val_mask, test_mask, train_label, val_label, test_label = train_test_val(input_ids, attention_masks, labels)"
      ],
      "execution_count": null,
      "outputs": []
    },
    {
      "cell_type": "markdown",
      "metadata": {
        "id": "GnaOy4o3S2mf"
      },
      "source": [
        "### Training the model"
      ]
    },
    {
      "cell_type": "code",
      "metadata": {
        "colab": {
          "base_uri": "https://localhost:8080/"
        },
        "id": "hguXl0WFQHF9",
        "outputId": "5ae8c90f-215d-4a0c-b399-b23ab0a15c09"
      },
      "source": [
        "aggression_model = train_model(base_model=base_model, new_model_name='aggression_model', old_model_name='bert_model')"
      ],
      "execution_count": null,
      "outputs": [
        {
          "output_type": "stream",
          "text": [
            "\n",
            "New model will be saved at /content/gdrive/MyDrive/Cyber-bullying-project/models/aggression_model.h5\n",
            "\n",
            "Training on previous model bert_model\n",
            "\n",
            "Training starting...\n",
            "\n",
            "\n",
            "Epoch 1/4\n",
            "WARNING:tensorflow:The parameters `output_attentions`, `output_hidden_states` and `use_cache` cannot be updated when calling a model.They have to be set to True/False in the config object (i.e.: `config=XConfig.from_pretrained('name', output_attentions=True)`).\n",
            "WARNING:tensorflow:AutoGraph could not transform <bound method Socket.send of <zmq.sugar.socket.Socket object at 0x7fd95d79cd70>> and will run it as-is.\n",
            "Please report this to the TensorFlow team. When filing the bug, set the verbosity to 10 (on Linux, `export AUTOGRAPH_VERBOSITY=10`) and attach the full output.\n",
            "Cause: module, class, method, function, traceback, frame, or code object was expected, got cython_function_or_method\n",
            "To silence this warning, decorate the function with @tf.autograph.experimental.do_not_convert\n",
            "WARNING: AutoGraph could not transform <bound method Socket.send of <zmq.sugar.socket.Socket object at 0x7fd95d79cd70>> and will run it as-is.\n",
            "Please report this to the TensorFlow team. When filing the bug, set the verbosity to 10 (on Linux, `export AUTOGRAPH_VERBOSITY=10`) and attach the full output.\n",
            "Cause: module, class, method, function, traceback, frame, or code object was expected, got cython_function_or_method\n",
            "To silence this warning, decorate the function with @tf.autograph.experimental.do_not_convert\n",
            "WARNING:tensorflow:AutoGraph could not transform <function wrap at 0x7fd978951170> and will run it as-is.\n",
            "Cause: while/else statement not yet supported\n",
            "To silence this warning, decorate the function with @tf.autograph.experimental.do_not_convert\n",
            "WARNING: AutoGraph could not transform <function wrap at 0x7fd978951170> and will run it as-is.\n",
            "Cause: while/else statement not yet supported\n",
            "To silence this warning, decorate the function with @tf.autograph.experimental.do_not_convert\n",
            "WARNING:tensorflow:The parameter `return_dict` cannot be set in graph mode and will always be set to `True`.\n",
            "WARNING:tensorflow:From /usr/local/lib/python3.7/dist-packages/tensorflow/python/ops/array_ops.py:5049: calling gather (from tensorflow.python.ops.array_ops) with validate_indices is deprecated and will be removed in a future version.\n",
            "Instructions for updating:\n",
            "The `validate_indices` argument has no effect. Indices are always validated on CPU and never validated on GPU.\n",
            "WARNING:tensorflow:The parameters `output_attentions`, `output_hidden_states` and `use_cache` cannot be updated when calling a model.They have to be set to True/False in the config object (i.e.: `config=XConfig.from_pretrained('name', output_attentions=True)`).\n",
            "WARNING:tensorflow:The parameter `return_dict` cannot be set in graph mode and will always be set to `True`.\n",
            "2318/2318 [==============================] - ETA: 0s - loss: 0.1538 - accuracy: 0.9429WARNING:tensorflow:The parameters `output_attentions`, `output_hidden_states` and `use_cache` cannot be updated when calling a model.They have to be set to True/False in the config object (i.e.: `config=XConfig.from_pretrained('name', output_attentions=True)`).\n",
            "WARNING:tensorflow:The parameter `return_dict` cannot be set in graph mode and will always be set to `True`.\n",
            "2318/2318 [==============================] - 1607s 672ms/step - loss: 0.1538 - accuracy: 0.9429 - val_loss: 0.1370 - val_accuracy: 0.9477\n",
            "Epoch 2/4\n",
            "2318/2318 [==============================] - 1560s 673ms/step - loss: 0.1168 - accuracy: 0.9553 - val_loss: 0.1700 - val_accuracy: 0.9441\n",
            "Epoch 3/4\n",
            "2318/2318 [==============================] - 1560s 673ms/step - loss: 0.0775 - accuracy: 0.9712 - val_loss: 0.1739 - val_accuracy: 0.9437\n",
            "Epoch 4/4\n",
            "2318/2318 [==============================] - 1561s 673ms/step - loss: 0.0460 - accuracy: 0.9845 - val_loss: 0.2273 - val_accuracy: 0.9437\n"
          ],
          "name": "stdout"
        }
      ]
    },
    {
      "cell_type": "markdown",
      "metadata": {
        "id": "kLURLxKZS7ni"
      },
      "source": [
        "### Evaluating the model"
      ]
    },
    {
      "cell_type": "markdown",
      "metadata": {
        "id": "92LbimtqTAYT"
      },
      "source": [
        "#### With train data"
      ]
    },
    {
      "cell_type": "code",
      "metadata": {
        "colab": {
          "base_uri": "https://localhost:8080/"
        },
        "id": "ez7ykrDoFsph",
        "outputId": "f90096d9-987e-42ca-e12d-e4d44f8d1642"
      },
      "source": [
        "preds_train, pred_labels_train, f1_train, class_report_train, conf_matrix_train = evaluate_model(aggression_model, train_inp, train_mask, train_label)"
      ],
      "execution_count": null,
      "outputs": [
        {
          "output_type": "stream",
          "text": [
            "WARNING:tensorflow:The parameters `output_attentions`, `output_hidden_states` and `use_cache` cannot be updated when calling a model.They have to be set to True/False in the config object (i.e.: `config=XConfig.from_pretrained('name', output_attentions=True)`).\n",
            "WARNING:tensorflow:The parameter `return_dict` cannot be set in graph mode and will always be set to `True`.\n"
          ],
          "name": "stdout"
        }
      ]
    },
    {
      "cell_type": "code",
      "metadata": {
        "colab": {
          "base_uri": "https://localhost:8080/"
        },
        "id": "fpfzTSV0154d",
        "outputId": "a67d0965-3789-4cda-baff-12129800bc9a"
      },
      "source": [
        "print_eval(f1_train, class_report_train, conf_matrix_train)"
      ],
      "execution_count": null,
      "outputs": [
        {
          "output_type": "stream",
          "text": [
            "F1 score: 0.9821220776473077\n",
            "Classification Report:\n",
            "              precision    recall  f1-score   support\n",
            "\n",
            "           0       1.00      1.00      1.00     64691\n",
            "           1       0.98      0.98      0.98      9461\n",
            "\n",
            "    accuracy                           1.00     74152\n",
            "   macro avg       0.99      0.99      0.99     74152\n",
            "weighted avg       1.00      1.00      1.00     74152\n",
            "\n",
            "Confusion Matrix:\n",
            "[[64530   161]\n",
            " [  177  9284]]\n"
          ],
          "name": "stdout"
        }
      ]
    },
    {
      "cell_type": "markdown",
      "metadata": {
        "id": "dC_wXnIKSiRV"
      },
      "source": [
        "#### With test data"
      ]
    },
    {
      "cell_type": "code",
      "metadata": {
        "id": "YDURjwGTSiGj"
      },
      "source": [
        "preds_test, pred_labels_test, f1_test, class_report_test, conf_matrix_test = evaluate_model(aggression_model, test_inp, test_mask, test_label)"
      ],
      "execution_count": null,
      "outputs": []
    },
    {
      "cell_type": "code",
      "metadata": {
        "colab": {
          "base_uri": "https://localhost:8080/"
        },
        "id": "CK6sv_Jn3JC6",
        "outputId": "805906be-ff04-46a4-fa44-6774046fb2f8"
      },
      "source": [
        "print_eval(f1_test, class_report_test, conf_matrix_test)"
      ],
      "execution_count": null,
      "outputs": [
        {
          "output_type": "stream",
          "text": [
            "F1 score: 0.759124087591241\n",
            "Classification Report:\n",
            "              precision    recall  f1-score   support\n",
            "\n",
            "           0       0.96      0.98      0.97     20217\n",
            "           1       0.82      0.70      0.76      2956\n",
            "\n",
            "    accuracy                           0.94     23173\n",
            "   macro avg       0.89      0.84      0.86     23173\n",
            "weighted avg       0.94      0.94      0.94     23173\n",
            "\n",
            "Confusion Matrix:\n",
            "[[19773   444]\n",
            " [  876  2080]]\n"
          ],
          "name": "stdout"
        }
      ]
    },
    {
      "cell_type": "code",
      "metadata": {
        "id": "SasF60XtvFJg"
      },
      "source": [
        "# hacer gráfico "
      ],
      "execution_count": null,
      "outputs": []
    },
    {
      "cell_type": "markdown",
      "metadata": {
        "id": "GWO2j4B728KG"
      },
      "source": [
        "## Aggression dataset - training from scratch"
      ]
    },
    {
      "cell_type": "markdown",
      "metadata": {
        "id": "8zqXWwmAIwmq"
      },
      "source": [
        "### Training the model"
      ]
    },
    {
      "cell_type": "code",
      "metadata": {
        "id": "eAhiIU8f0k1u"
      },
      "source": [
        "load_vectors(dataset_name)"
      ],
      "execution_count": null,
      "outputs": []
    },
    {
      "cell_type": "code",
      "metadata": {
        "colab": {
          "base_uri": "https://localhost:8080/"
        },
        "id": "5UhsDOXRIwm1",
        "outputId": "26c546b1-0982-4254-ed86-1ad03da0bf67"
      },
      "source": [
        "aggression_model_new = train_model(base_model=base_model, new_model_name='aggression_model_new')"
      ],
      "execution_count": null,
      "outputs": [
        {
          "output_type": "stream",
          "text": [
            "\n",
            "New model will be saved at /content/gdrive/MyDrive/Cyber-bullying-project/models/aggression_model_new.h5\n",
            "\n",
            "Training new model\n",
            "\n",
            "Training starting...\n",
            "\n",
            "\n",
            "Epoch 1/4\n",
            "WARNING:tensorflow:The parameters `output_attentions`, `output_hidden_states` and `use_cache` cannot be updated when calling a model.They have to be set to True/False in the config object (i.e.: `config=XConfig.from_pretrained('name', output_attentions=True)`).\n",
            "WARNING:tensorflow:AutoGraph could not transform <bound method Socket.send of <zmq.sugar.socket.Socket object at 0x7f578ffb1d70>> and will run it as-is.\n",
            "Please report this to the TensorFlow team. When filing the bug, set the verbosity to 10 (on Linux, `export AUTOGRAPH_VERBOSITY=10`) and attach the full output.\n",
            "Cause: module, class, method, function, traceback, frame, or code object was expected, got cython_function_or_method\n",
            "To silence this warning, decorate the function with @tf.autograph.experimental.do_not_convert\n",
            "WARNING: AutoGraph could not transform <bound method Socket.send of <zmq.sugar.socket.Socket object at 0x7f578ffb1d70>> and will run it as-is.\n",
            "Please report this to the TensorFlow team. When filing the bug, set the verbosity to 10 (on Linux, `export AUTOGRAPH_VERBOSITY=10`) and attach the full output.\n",
            "Cause: module, class, method, function, traceback, frame, or code object was expected, got cython_function_or_method\n",
            "To silence this warning, decorate the function with @tf.autograph.experimental.do_not_convert\n",
            "WARNING:tensorflow:AutoGraph could not transform <function wrap at 0x7f57ab166170> and will run it as-is.\n",
            "Cause: while/else statement not yet supported\n",
            "To silence this warning, decorate the function with @tf.autograph.experimental.do_not_convert\n",
            "WARNING: AutoGraph could not transform <function wrap at 0x7f57ab166170> and will run it as-is.\n",
            "Cause: while/else statement not yet supported\n",
            "To silence this warning, decorate the function with @tf.autograph.experimental.do_not_convert\n",
            "WARNING:tensorflow:The parameter `return_dict` cannot be set in graph mode and will always be set to `True`.\n",
            "WARNING:tensorflow:From /usr/local/lib/python3.7/dist-packages/tensorflow/python/ops/array_ops.py:5049: calling gather (from tensorflow.python.ops.array_ops) with validate_indices is deprecated and will be removed in a future version.\n",
            "Instructions for updating:\n",
            "The `validate_indices` argument has no effect. Indices are always validated on CPU and never validated on GPU.\n",
            "WARNING:tensorflow:The parameters `output_attentions`, `output_hidden_states` and `use_cache` cannot be updated when calling a model.They have to be set to True/False in the config object (i.e.: `config=XConfig.from_pretrained('name', output_attentions=True)`).\n",
            "WARNING:tensorflow:The parameter `return_dict` cannot be set in graph mode and will always be set to `True`.\n",
            "2318/2318 [==============================] - ETA: 0s - loss: 0.1670 - accuracy: 0.9365WARNING:tensorflow:The parameters `output_attentions`, `output_hidden_states` and `use_cache` cannot be updated when calling a model.They have to be set to True/False in the config object (i.e.: `config=XConfig.from_pretrained('name', output_attentions=True)`).\n",
            "WARNING:tensorflow:The parameter `return_dict` cannot be set in graph mode and will always be set to `True`.\n",
            "2318/2318 [==============================] - 1583s 661ms/step - loss: 0.1670 - accuracy: 0.9365 - val_loss: 0.1392 - val_accuracy: 0.9460\n",
            "Epoch 2/4\n",
            "2318/2318 [==============================] - 1535s 662ms/step - loss: 0.1225 - accuracy: 0.9530 - val_loss: 0.1595 - val_accuracy: 0.9427\n",
            "Epoch 3/4\n",
            "2318/2318 [==============================] - 1534s 662ms/step - loss: 0.0787 - accuracy: 0.9700 - val_loss: 0.1698 - val_accuracy: 0.9361\n",
            "Epoch 4/4\n",
            "2318/2318 [==============================] - 1534s 662ms/step - loss: 0.0429 - accuracy: 0.9846 - val_loss: 0.2620 - val_accuracy: 0.9347\n"
          ],
          "name": "stdout"
        }
      ]
    },
    {
      "cell_type": "markdown",
      "metadata": {
        "id": "tP8tOGkDsvM0"
      },
      "source": [
        "We can see that we have the best results (lowest loss and highest accuracy) for the validation set in the first epoch. After that, the model starts overfitting, as the results improve for the training set but they get worse for the validation set. Therefore we will limit the training to one epoch and see if we have better results with the test set. "
      ]
    },
    {
      "cell_type": "markdown",
      "metadata": {
        "id": "cah3mrqHIwm1"
      },
      "source": [
        "### Evaluating the model"
      ]
    },
    {
      "cell_type": "markdown",
      "metadata": {
        "id": "s-agL_yUIwm1"
      },
      "source": [
        "#### With train data"
      ]
    },
    {
      "cell_type": "code",
      "metadata": {
        "colab": {
          "base_uri": "https://localhost:8080/"
        },
        "id": "9owu2aWxIwm2",
        "outputId": "3fffb827-a15f-4e0c-e2ff-89b72325644c"
      },
      "source": [
        "preds_train, pred_labels_train, f1_train, class_report_train, conf_matrix_train = evaluate_model(aggression_model_new, train_inp, train_mask, train_label)"
      ],
      "execution_count": null,
      "outputs": [
        {
          "output_type": "stream",
          "text": [
            "WARNING:tensorflow:The parameters `output_attentions`, `output_hidden_states` and `use_cache` cannot be updated when calling a model.They have to be set to True/False in the config object (i.e.: `config=XConfig.from_pretrained('name', output_attentions=True)`).\n",
            "WARNING:tensorflow:The parameter `return_dict` cannot be set in graph mode and will always be set to `True`.\n"
          ],
          "name": "stdout"
        }
      ]
    },
    {
      "cell_type": "code",
      "metadata": {
        "colab": {
          "base_uri": "https://localhost:8080/"
        },
        "id": "3cptXQ_MIwm2",
        "outputId": "e5649d6b-f1fc-45fb-c9b3-516949ffe2bc"
      },
      "source": [
        "print_eval(f1_train, class_report_train, conf_matrix_train)"
      ],
      "execution_count": null,
      "outputs": [
        {
          "output_type": "stream",
          "text": [
            "F1 score: 0.980590629239278\n",
            "Classification Report:\n",
            "              precision    recall  f1-score   support\n",
            "\n",
            "           0       1.00      1.00      1.00     64691\n",
            "           1       0.97      0.99      0.98      9461\n",
            "\n",
            "    accuracy                           0.99     74152\n",
            "   macro avg       0.98      0.99      0.99     74152\n",
            "weighted avg       1.00      0.99      1.00     74152\n",
            "\n",
            "Confusion Matrix:\n",
            "[[64383   308]\n",
            " [   64  9397]]\n"
          ],
          "name": "stdout"
        }
      ]
    },
    {
      "cell_type": "markdown",
      "metadata": {
        "id": "t7LMYyaLIwm2"
      },
      "source": [
        "#### With test data"
      ]
    },
    {
      "cell_type": "code",
      "metadata": {
        "id": "Wb3V23-RIwm2"
      },
      "source": [
        "preds_test, pred_labels_test, f1_test, class_report_test, conf_matrix_test = evaluate_model(aggression_model_new, test_inp, test_mask, test_label)"
      ],
      "execution_count": null,
      "outputs": []
    },
    {
      "cell_type": "code",
      "metadata": {
        "colab": {
          "base_uri": "https://localhost:8080/"
        },
        "id": "DsXzBw0fIwm2",
        "outputId": "b392da13-0602-4f3a-ccdb-3a9ffa64cb45"
      },
      "source": [
        "print_eval(f1_test, class_report_test, conf_matrix_test)"
      ],
      "execution_count": null,
      "outputs": [
        {
          "output_type": "stream",
          "text": [
            "F1 score: 0.7467543138866065\n",
            "Classification Report:\n",
            "              precision    recall  f1-score   support\n",
            "\n",
            "           0       0.97      0.96      0.96     20217\n",
            "           1       0.73      0.77      0.75      2956\n",
            "\n",
            "    accuracy                           0.93     23173\n",
            "   macro avg       0.85      0.86      0.85     23173\n",
            "weighted avg       0.94      0.93      0.93     23173\n",
            "\n",
            "Confusion Matrix:\n",
            "[[19360   857]\n",
            " [  684  2272]]\n"
          ],
          "name": "stdout"
        }
      ]
    },
    {
      "cell_type": "code",
      "metadata": {
        "id": "5I9rvtvaIwm2"
      },
      "source": [
        "# hacer gráfico de cuando converge y quedarme con esas epochs\n",
        "# how to handle overfitting?\n",
        "# falta subir datos al repo"
      ],
      "execution_count": null,
      "outputs": []
    },
    {
      "cell_type": "code",
      "metadata": {
        "id": "zgPhTLEiwWeg"
      },
      "source": [
        ""
      ],
      "execution_count": null,
      "outputs": []
    },
    {
      "cell_type": "markdown",
      "metadata": {
        "id": "Q-aEK0IPz2ld"
      },
      "source": [
        "## Aggression dataset - 1 epoch"
      ]
    },
    {
      "cell_type": "markdown",
      "metadata": {
        "id": "KyCMarn20x7z"
      },
      "source": [
        "### Loading the data from the pickle files"
      ]
    },
    {
      "cell_type": "code",
      "metadata": {
        "id": "luL9b1Wj0x7z"
      },
      "source": [
        "input_ids, attention_masks, labels = load_vectors('aggression')"
      ],
      "execution_count": 14,
      "outputs": []
    },
    {
      "cell_type": "markdown",
      "metadata": {
        "id": "N-HuK6Zn0x70"
      },
      "source": [
        "### Spitting into train, test and validation set"
      ]
    },
    {
      "cell_type": "code",
      "metadata": {
        "id": "cURGLk-d0x70"
      },
      "source": [
        "train_inp, val_inp, test_inp, train_mask, val_mask, test_mask, train_label, val_label, test_label = train_test_val(\n",
        "    input_ids, attention_masks, labels)"
      ],
      "execution_count": 15,
      "outputs": []
    },
    {
      "cell_type": "markdown",
      "metadata": {
        "id": "kErP1xBUz2le"
      },
      "source": [
        "### Training the model"
      ]
    },
    {
      "cell_type": "code",
      "metadata": {
        "colab": {
          "base_uri": "https://localhost:8080/"
        },
        "id": "yylkFQxkz2le",
        "outputId": "0dc3bb9c-92f4-44c5-8718-897418126c47"
      },
      "source": [
        "aggression_model_1epoch, history = train_model(\n",
        "    base_model=base_model, new_model_name='aggression_model_1epoch', epochs=1)"
      ],
      "execution_count": 16,
      "outputs": [
        {
          "output_type": "stream",
          "text": [
            "\n",
            "New model will be saved at /content/gdrive/MyDrive/Cyber-bullying-project/models/aggression_model_1epoch.h5\n",
            "\n",
            "Training new model\n",
            "\n",
            "Training starting...\n",
            "\n",
            "\n",
            "WARNING:tensorflow:The parameters `output_attentions`, `output_hidden_states` and `use_cache` cannot be updated when calling a model.They have to be set to True/False in the config object (i.e.: `config=XConfig.from_pretrained('name', output_attentions=True)`).\n",
            "WARNING:tensorflow:AutoGraph could not transform <bound method Socket.send of <zmq.sugar.socket.Socket object at 0x7f28e1a43d70>> and will run it as-is.\n",
            "Please report this to the TensorFlow team. When filing the bug, set the verbosity to 10 (on Linux, `export AUTOGRAPH_VERBOSITY=10`) and attach the full output.\n",
            "Cause: module, class, method, function, traceback, frame, or code object was expected, got cython_function_or_method\n",
            "To silence this warning, decorate the function with @tf.autograph.experimental.do_not_convert\n",
            "WARNING: AutoGraph could not transform <bound method Socket.send of <zmq.sugar.socket.Socket object at 0x7f28e1a43d70>> and will run it as-is.\n",
            "Please report this to the TensorFlow team. When filing the bug, set the verbosity to 10 (on Linux, `export AUTOGRAPH_VERBOSITY=10`) and attach the full output.\n",
            "Cause: module, class, method, function, traceback, frame, or code object was expected, got cython_function_or_method\n",
            "To silence this warning, decorate the function with @tf.autograph.experimental.do_not_convert\n",
            "WARNING:tensorflow:AutoGraph could not transform <function wrap at 0x7f28fcbf5170> and will run it as-is.\n",
            "Cause: while/else statement not yet supported\n",
            "To silence this warning, decorate the function with @tf.autograph.experimental.do_not_convert\n",
            "WARNING: AutoGraph could not transform <function wrap at 0x7f28fcbf5170> and will run it as-is.\n",
            "Cause: while/else statement not yet supported\n",
            "To silence this warning, decorate the function with @tf.autograph.experimental.do_not_convert\n",
            "WARNING:tensorflow:The parameter `return_dict` cannot be set in graph mode and will always be set to `True`.\n",
            "WARNING:tensorflow:From /usr/local/lib/python3.7/dist-packages/tensorflow/python/ops/array_ops.py:5049: calling gather (from tensorflow.python.ops.array_ops) with validate_indices is deprecated and will be removed in a future version.\n",
            "Instructions for updating:\n",
            "The `validate_indices` argument has no effect. Indices are always validated on CPU and never validated on GPU.\n",
            "WARNING:tensorflow:The parameters `output_attentions`, `output_hidden_states` and `use_cache` cannot be updated when calling a model.They have to be set to True/False in the config object (i.e.: `config=XConfig.from_pretrained('name', output_attentions=True)`).\n",
            "WARNING:tensorflow:The parameter `return_dict` cannot be set in graph mode and will always be set to `True`.\n",
            "2318/2318 [==============================] - ETA: 0s - loss: 0.1677 - accuracy: 0.9371WARNING:tensorflow:The parameters `output_attentions`, `output_hidden_states` and `use_cache` cannot be updated when calling a model.They have to be set to True/False in the config object (i.e.: `config=XConfig.from_pretrained('name', output_attentions=True)`).\n",
            "WARNING:tensorflow:The parameter `return_dict` cannot be set in graph mode and will always be set to `True`.\n",
            "2318/2318 [==============================] - 1639s 684ms/step - loss: 0.1677 - accuracy: 0.9371 - val_loss: 0.1395 - val_accuracy: 0.9461\n",
            "\n",
            "Finished training. Saving history at /content/gdrive/MyDrive/Cyber-bullying-project/models/histories/aggression_model_1epoch_hist.pkl ...\n"
          ],
          "name": "stdout"
        }
      ]
    },
    {
      "cell_type": "markdown",
      "metadata": {
        "id": "UM-rsXXSz2lg"
      },
      "source": [
        "### Evaluating the model"
      ]
    },
    {
      "cell_type": "markdown",
      "metadata": {
        "id": "9zXp1wj7z2lg"
      },
      "source": [
        "#### With train data"
      ]
    },
    {
      "cell_type": "code",
      "metadata": {
        "colab": {
          "base_uri": "https://localhost:8080/"
        },
        "id": "CzqI3FIkz2lg",
        "outputId": "4d6f819b-c73b-4334-d4c4-6891080ed3ee"
      },
      "source": [
        "preds_train, pred_labels_train, f1_train, class_report_train, conf_matrix_train = evaluate_model(\n",
        "    aggression_model_1epoch, train_inp, train_mask, train_label)"
      ],
      "execution_count": 17,
      "outputs": [
        {
          "output_type": "stream",
          "text": [
            "WARNING:tensorflow:The parameters `output_attentions`, `output_hidden_states` and `use_cache` cannot be updated when calling a model.They have to be set to True/False in the config object (i.e.: `config=XConfig.from_pretrained('name', output_attentions=True)`).\n",
            "WARNING:tensorflow:The parameter `return_dict` cannot be set in graph mode and will always be set to `True`.\n"
          ],
          "name": "stdout"
        }
      ]
    },
    {
      "cell_type": "code",
      "metadata": {
        "colab": {
          "base_uri": "https://localhost:8080/"
        },
        "id": "GbsmUrafz2lg",
        "outputId": "8bb1f23b-39e1-4851-e6c4-45ca628b22ba"
      },
      "source": [
        "print_eval(f1_train, class_report_train, conf_matrix_train)"
      ],
      "execution_count": 18,
      "outputs": [
        {
          "output_type": "stream",
          "text": [
            "F1 score: 0.830719131614654\n",
            "Classification Report:\n",
            "              precision    recall  f1-score   support\n",
            "\n",
            "           0       0.97      0.98      0.98     64691\n",
            "           1       0.85      0.81      0.83      9461\n",
            "\n",
            "    accuracy                           0.96     74152\n",
            "   macro avg       0.91      0.89      0.90     74152\n",
            "weighted avg       0.96      0.96      0.96     74152\n",
            "\n",
            "Confusion Matrix:\n",
            "[[63380  1311]\n",
            " [ 1808  7653]]\n"
          ],
          "name": "stdout"
        }
      ]
    },
    {
      "cell_type": "markdown",
      "metadata": {
        "id": "WOAD63Hdz2lh"
      },
      "source": [
        "#### With test data"
      ]
    },
    {
      "cell_type": "code",
      "metadata": {
        "id": "lgs_CPbgz2lh"
      },
      "source": [
        "preds_test, pred_labels_test, f1_test, class_report_test, conf_matrix_test = evaluate_model(\n",
        "    aggression_model_1epoch, test_inp, test_mask, test_label)"
      ],
      "execution_count": 20,
      "outputs": []
    },
    {
      "cell_type": "code",
      "metadata": {
        "colab": {
          "base_uri": "https://localhost:8080/"
        },
        "id": "anh_o1mtz2lh",
        "outputId": "efaf5833-51e1-4446-ed1d-061d53b44398"
      },
      "source": [
        "print_eval(f1_test, class_report_test, conf_matrix_test)"
      ],
      "execution_count": 21,
      "outputs": [
        {
          "output_type": "stream",
          "text": [
            "F1 score: 0.7775453277545327\n",
            "Classification Report:\n",
            "              precision    recall  f1-score   support\n",
            "\n",
            "           0       0.96      0.97      0.97     20217\n",
            "           1       0.80      0.75      0.78      2956\n",
            "\n",
            "    accuracy                           0.94     23173\n",
            "   macro avg       0.88      0.86      0.87     23173\n",
            "weighted avg       0.94      0.94      0.94     23173\n",
            "\n",
            "Confusion Matrix:\n",
            "[[19667   550]\n",
            " [  726  2230]]\n"
          ],
          "name": "stdout"
        }
      ]
    },
    {
      "cell_type": "markdown",
      "metadata": {
        "id": "Tq62wr6OA3e5"
      },
      "source": [
        "## Kaggle dataset - 1 epoch"
      ]
    },
    {
      "cell_type": "markdown",
      "metadata": {
        "id": "H5irrYs2A3e6"
      },
      "source": [
        "### Loading the data from the pickle files"
      ]
    },
    {
      "cell_type": "code",
      "metadata": {
        "id": "fSGw7dd0A3e6"
      },
      "source": [
        "input_ids, attention_masks, labels = load_vectors('kaggle')"
      ],
      "execution_count": 28,
      "outputs": []
    },
    {
      "cell_type": "markdown",
      "metadata": {
        "id": "MPlzesQ_A3e6"
      },
      "source": [
        "### Spitting into train, test and validation set"
      ]
    },
    {
      "cell_type": "code",
      "metadata": {
        "id": "z9JO4cToA3e6"
      },
      "source": [
        "train_inp, val_inp, test_inp, train_mask, val_mask, test_mask, train_label, val_label, test_label = train_test_val(\n",
        "    input_ids, attention_masks, labels)"
      ],
      "execution_count": 29,
      "outputs": []
    },
    {
      "cell_type": "markdown",
      "metadata": {
        "id": "qR0L52cDA3e6"
      },
      "source": [
        "### Training the model"
      ]
    },
    {
      "cell_type": "code",
      "metadata": {
        "colab": {
          "base_uri": "https://localhost:8080/"
        },
        "id": "XvHcMjtgA3e6",
        "outputId": "3add1c27-2a27-43a5-a129-6a91663930d2"
      },
      "source": [
        "kaggle_model_1epoch, history = train_model(\n",
        "    base_model=base_model, \n",
        "    old_model_name='aggression_model_1epoch', \n",
        "    new_model_name='kaggle_model_1epoch', \n",
        "    epochs=1)"
      ],
      "execution_count": 31,
      "outputs": [
        {
          "output_type": "stream",
          "text": [
            "\n",
            "New model will be saved at /content/gdrive/MyDrive/Cyber-bullying-project/models/kaggle_model_1epoch.h5\n",
            "\n",
            "Training on previous model aggression_model_1epoch\n",
            "\n",
            "Training starting...\n",
            "\n",
            "\n",
            "176/176 [==============================] - ETA: 0s - loss: 0.4239 - accuracy: 0.8105WARNING:tensorflow:The parameters `output_attentions`, `output_hidden_states` and `use_cache` cannot be updated when calling a model.They have to be set to True/False in the config object (i.e.: `config=XConfig.from_pretrained('name', output_attentions=True)`).\n",
            "WARNING:tensorflow:The parameter `return_dict` cannot be set in graph mode and will always be set to `True`.\n",
            "176/176 [==============================] - 122s 694ms/step - loss: 0.4239 - accuracy: 0.8105 - val_loss: 0.3969 - val_accuracy: 0.8239\n",
            "\n",
            "Finished training. Saving history at /content/gdrive/MyDrive/Cyber-bullying-project/models/histories/kaggle_model_1epoch_hist.pkl ...\n"
          ],
          "name": "stdout"
        }
      ]
    },
    {
      "cell_type": "markdown",
      "metadata": {
        "id": "Q1gjTIj1A3e7"
      },
      "source": [
        "### Evaluating the model"
      ]
    },
    {
      "cell_type": "markdown",
      "metadata": {
        "id": "uuiuNQBCA3e7"
      },
      "source": [
        "#### With Kaggle train data"
      ]
    },
    {
      "cell_type": "code",
      "metadata": {
        "id": "vwQB0Zg1A3e7"
      },
      "source": [
        "preds_train_kaggle, pred_labels_train_kaggle, f1_train_kaggle, class_report_train_kaggle, conf_matrix_train_kaggle = evaluate_model(\n",
        "    kaggle_model_1epoch, train_inp, train_mask, train_label)"
      ],
      "execution_count": 32,
      "outputs": []
    },
    {
      "cell_type": "code",
      "metadata": {
        "colab": {
          "base_uri": "https://localhost:8080/"
        },
        "id": "m6bzSgrdA3e7",
        "outputId": "7b20b641-1f6a-43c2-a53c-f145c195b9f9"
      },
      "source": [
        "print_eval(f1_train_kaggle, class_report_train_kaggle, conf_matrix_train_kaggle)"
      ],
      "execution_count": 33,
      "outputs": [
        {
          "output_type": "stream",
          "text": [
            "F1 score: 0.8232265446224255\n",
            "Classification Report:\n",
            "              precision    recall  f1-score   support\n",
            "\n",
            "           0       0.91      0.93      0.92      3835\n",
            "           1       0.85      0.80      0.82      1796\n",
            "\n",
            "    accuracy                           0.89      5631\n",
            "   macro avg       0.88      0.87      0.87      5631\n",
            "weighted avg       0.89      0.89      0.89      5631\n",
            "\n",
            "Confusion Matrix:\n",
            "[[3574  261]\n",
            " [ 357 1439]]\n"
          ],
          "name": "stdout"
        }
      ]
    },
    {
      "cell_type": "markdown",
      "metadata": {
        "id": "gKL4kgtgA3e7"
      },
      "source": [
        "#### With Kaggle test data"
      ]
    },
    {
      "cell_type": "code",
      "metadata": {
        "colab": {
          "base_uri": "https://localhost:8080/"
        },
        "id": "mq99w-ANA3e7",
        "outputId": "e627a9ff-7ab3-486c-f408-c7e68fd88fc6"
      },
      "source": [
        "preds_test_kaggle, pred_labels_test_kaggle, f1_test_kaggle, class_report_test_kaggle, conf_matrix_test_kaggle = evaluate_model(\n",
        "    kaggle_model_1epoch, test_inp, test_mask, test_label)"
      ],
      "execution_count": 34,
      "outputs": [
        {
          "output_type": "stream",
          "text": [
            "WARNING:tensorflow:The parameters `output_attentions`, `output_hidden_states` and `use_cache` cannot be updated when calling a model.They have to be set to True/False in the config object (i.e.: `config=XConfig.from_pretrained('name', output_attentions=True)`).\n",
            "WARNING:tensorflow:The parameter `return_dict` cannot be set in graph mode and will always be set to `True`.\n"
          ],
          "name": "stdout"
        }
      ]
    },
    {
      "cell_type": "code",
      "metadata": {
        "colab": {
          "base_uri": "https://localhost:8080/"
        },
        "id": "FPoKSWeEA3e7",
        "outputId": "cb56cf5a-9cc8-476d-8933-587e50c7fb5f"
      },
      "source": [
        "print_eval(f1_test_kaggle, class_report_test_kaggle, conf_matrix_test_kaggle)"
      ],
      "execution_count": 35,
      "outputs": [
        {
          "output_type": "stream",
          "text": [
            "F1 score: 0.7281105990783411\n",
            "Classification Report:\n",
            "              precision    recall  f1-score   support\n",
            "\n",
            "           0       0.87      0.89      0.88      1199\n",
            "           1       0.75      0.70      0.73       561\n",
            "\n",
            "    accuracy                           0.83      1760\n",
            "   macro avg       0.81      0.80      0.80      1760\n",
            "weighted avg       0.83      0.83      0.83      1760\n",
            "\n",
            "Confusion Matrix:\n",
            "[[1070  129]\n",
            " [ 166  395]]\n"
          ],
          "name": "stdout"
        }
      ]
    },
    {
      "cell_type": "code",
      "metadata": {
        "id": "j40woP0nC5-G"
      },
      "source": [
        ""
      ],
      "execution_count": null,
      "outputs": []
    },
    {
      "cell_type": "code",
      "metadata": {
        "id": "RXVShpYOC9Pu"
      },
      "source": [
        ""
      ],
      "execution_count": null,
      "outputs": []
    },
    {
      "cell_type": "markdown",
      "metadata": {
        "id": "c4cQ-IZSDCt6"
      },
      "source": [
        "## Kaggle dataset - 10 epochs"
      ]
    },
    {
      "cell_type": "markdown",
      "metadata": {
        "id": "eyHPe607DCt7"
      },
      "source": [
        "### Training the model"
      ]
    },
    {
      "cell_type": "code",
      "metadata": {
        "colab": {
          "base_uri": "https://localhost:8080/"
        },
        "id": "RbdZWUc-DCt7",
        "outputId": "dbb6de78-3a7f-436a-c025-6dfbf7e36fef"
      },
      "source": [
        "kaggle_model_10epochs, history = train_model(\n",
        "    base_model=base_model, \n",
        "    old_model_name='kaggle_model_1epoch', \n",
        "    new_model_name='kaggle_model_10epochs', \n",
        "    epochs=9)"
      ],
      "execution_count": 37,
      "outputs": [
        {
          "output_type": "stream",
          "text": [
            "\n",
            "New model will be saved at /content/gdrive/MyDrive/Cyber-bullying-project/models/kaggle_model_10epochs.h5\n",
            "\n",
            "Training on previous model kaggle_model_1epoch\n",
            "\n",
            "Training starting...\n",
            "\n",
            "\n",
            "Epoch 1/9\n",
            "176/176 [==============================] - 120s 683ms/step - loss: 0.2915 - accuracy: 0.8718 - val_loss: 0.4574 - val_accuracy: 0.8253\n",
            "Epoch 2/9\n",
            "176/176 [==============================] - 119s 675ms/step - loss: 0.1587 - accuracy: 0.9410 - val_loss: 0.5656 - val_accuracy: 0.7891\n",
            "Epoch 3/9\n",
            "176/176 [==============================] - 119s 676ms/step - loss: 0.0738 - accuracy: 0.9755 - val_loss: 0.7335 - val_accuracy: 0.8040\n",
            "Epoch 4/9\n",
            "176/176 [==============================] - 119s 678ms/step - loss: 0.0491 - accuracy: 0.9822 - val_loss: 0.8115 - val_accuracy: 0.8139\n",
            "Epoch 5/9\n",
            "176/176 [==============================] - 119s 676ms/step - loss: 0.0345 - accuracy: 0.9877 - val_loss: 0.9669 - val_accuracy: 0.8061\n",
            "Epoch 6/9\n",
            "176/176 [==============================] - 119s 676ms/step - loss: 0.0295 - accuracy: 0.9909 - val_loss: 0.8954 - val_accuracy: 0.8153\n",
            "Epoch 7/9\n",
            "176/176 [==============================] - 119s 675ms/step - loss: 0.0247 - accuracy: 0.9920 - val_loss: 0.9058 - val_accuracy: 0.8089\n",
            "Epoch 8/9\n",
            "176/176 [==============================] - 119s 675ms/step - loss: 0.0171 - accuracy: 0.9943 - val_loss: 1.0830 - val_accuracy: 0.7891\n",
            "Epoch 9/9\n",
            "176/176 [==============================] - 119s 674ms/step - loss: 0.0261 - accuracy: 0.9911 - val_loss: 0.8858 - val_accuracy: 0.8089\n",
            "\n",
            "Finished training. Saving history at /content/gdrive/MyDrive/Cyber-bullying-project/models/histories/kaggle_model_10epochs_hist.pkl ...\n"
          ],
          "name": "stdout"
        }
      ]
    },
    {
      "cell_type": "markdown",
      "metadata": {
        "id": "xVBS6YdUDCt7"
      },
      "source": [
        "### Evaluating the model"
      ]
    },
    {
      "cell_type": "markdown",
      "metadata": {
        "id": "hU4QJdZzDCt7"
      },
      "source": [
        "#### With Kaggle train data"
      ]
    },
    {
      "cell_type": "code",
      "metadata": {
        "id": "xLM3h5FUDCt7"
      },
      "source": [
        "preds_train_kaggle, pred_labels_train_kaggle, f1_train_kaggle, class_report_train_kaggle, conf_matrix_train_kaggle = evaluate_model(\n",
        "    kaggle_model_1epoch, train_inp, train_mask, train_label)"
      ],
      "execution_count": 38,
      "outputs": []
    },
    {
      "cell_type": "code",
      "metadata": {
        "colab": {
          "base_uri": "https://localhost:8080/"
        },
        "id": "mW8HwMQ9DCt7",
        "outputId": "64acd12d-38d5-4586-e294-d134b6bffdf2"
      },
      "source": [
        "print_eval(f1_train_kaggle, class_report_train_kaggle, conf_matrix_train_kaggle)"
      ],
      "execution_count": 39,
      "outputs": [
        {
          "output_type": "stream",
          "text": [
            "F1 score: 0.9944227551589515\n",
            "Classification Report:\n",
            "              precision    recall  f1-score   support\n",
            "\n",
            "           0       1.00      1.00      1.00      3835\n",
            "           1       1.00      0.99      0.99      1796\n",
            "\n",
            "    accuracy                           1.00      5631\n",
            "   macro avg       1.00      1.00      1.00      5631\n",
            "weighted avg       1.00      1.00      1.00      5631\n",
            "\n",
            "Confusion Matrix:\n",
            "[[3828    7]\n",
            " [  13 1783]]\n"
          ],
          "name": "stdout"
        }
      ]
    },
    {
      "cell_type": "markdown",
      "metadata": {
        "id": "CoVVOv5VDCt8"
      },
      "source": [
        "#### With Kaggle test data"
      ]
    },
    {
      "cell_type": "code",
      "metadata": {
        "id": "PXWfEhzgDCt8"
      },
      "source": [
        "preds_test_kaggle, pred_labels_test_kaggle, f1_test_kaggle, class_report_test_kaggle, conf_matrix_test_kaggle = evaluate_model(\n",
        "    kaggle_model_1epoch, test_inp, test_mask, test_label)"
      ],
      "execution_count": 40,
      "outputs": []
    },
    {
      "cell_type": "code",
      "metadata": {
        "colab": {
          "base_uri": "https://localhost:8080/"
        },
        "id": "JH9GMqVrDCt8",
        "outputId": "918d8a0e-7989-42b3-f0cd-2a0d31ec6059"
      },
      "source": [
        "print_eval(f1_test_kaggle, class_report_test_kaggle, conf_matrix_test_kaggle)"
      ],
      "execution_count": 41,
      "outputs": [
        {
          "output_type": "stream",
          "text": [
            "F1 score: 0.7174721189591077\n",
            "Classification Report:\n",
            "              precision    recall  f1-score   support\n",
            "\n",
            "           0       0.86      0.89      0.88      1199\n",
            "           1       0.75      0.69      0.72       561\n",
            "\n",
            "    accuracy                           0.83      1760\n",
            "   macro avg       0.80      0.79      0.80      1760\n",
            "weighted avg       0.82      0.83      0.83      1760\n",
            "\n",
            "Confusion Matrix:\n",
            "[[1070  129]\n",
            " [ 175  386]]\n"
          ],
          "name": "stdout"
        }
      ]
    },
    {
      "cell_type": "markdown",
      "metadata": {
        "id": "Spyn-PQaDCt8"
      },
      "source": [
        "#### Plotting the accuracy and loss curves"
      ]
    },
    {
      "cell_type": "code",
      "metadata": {
        "colab": {
          "base_uri": "https://localhost:8080/",
          "height": 279
        },
        "id": "c3vJfI4fC9DE",
        "outputId": "7d2fdb45-a4f1-421a-c360-17429aba0bd5"
      },
      "source": [
        "plot_history(history, metric='loss')"
      ],
      "execution_count": 42,
      "outputs": [
        {
          "output_type": "display_data",
          "data": {
            "image/png": "[encoded data removed]",
            "text/plain": [
              "<Figure size 432x288 with 1 Axes>"
            ]
          },
          "metadata": {
            "tags": [],
            "needs_background": "light"
          }
        }
      ]
    },
    {
      "cell_type": "code",
      "metadata": {
        "colab": {
          "base_uri": "https://localhost:8080/",
          "height": 279
        },
        "id": "uYngecamC834",
        "outputId": "b355fe82-0b12-4ec8-9251-31ed2bb4436c"
      },
      "source": [
        "plot_history(history, metric='accuracy')"
      ],
      "execution_count": 43,
      "outputs": [
        {
          "output_type": "display_data",
          "data": {
            "image/png": "[encoded data removed]",
            "text/plain": [
              "<Figure size 432x288 with 1 Axes>"
            ]
          },
          "metadata": {
            "tags": [],
            "needs_background": "light"
          }
        }
      ]
    },
    {
      "cell_type": "code",
      "metadata": {
        "id": "I1wc-vlEC8sf"
      },
      "source": [
        "# hacer plot de los dos concatenando los dos histories\n",
        "history_df = pd.concat([pd.DataFrame(history)])"
      ],
      "execution_count": null,
      "outputs": []
    },
    {
      "cell_type": "code",
      "metadata": {
        "id": "yvoP_wzGC75Q"
      },
      "source": [
        ""
      ],
      "execution_count": null,
      "outputs": []
    },
    {
      "cell_type": "code",
      "metadata": {
        "id": "iY4qW4ymC7ua"
      },
      "source": [
        ""
      ],
      "execution_count": null,
      "outputs": []
    },
    {
      "cell_type": "markdown",
      "metadata": {
        "id": "5RY_kPPzA3e7"
      },
      "source": [
        "#### With Aggression train data"
      ]
    },
    {
      "cell_type": "code",
      "metadata": {
        "colab": {
          "base_uri": "https://localhost:8080/"
        },
        "id": "k4DWhm6fCA2S",
        "outputId": "8bb1f23b-39e1-4851-e6c4-45ca628b22ba"
      },
      "source": [
        "print_eval(f1_train, class_report_train, conf_matrix_train)"
      ],
      "execution_count": null,
      "outputs": [
        {
          "output_type": "stream",
          "text": [
            "F1 score: 0.830719131614654\n",
            "Classification Report:\n",
            "              precision    recall  f1-score   support\n",
            "\n",
            "           0       0.97      0.98      0.98     64691\n",
            "           1       0.85      0.81      0.83      9461\n",
            "\n",
            "    accuracy                           0.96     74152\n",
            "   macro avg       0.91      0.89      0.90     74152\n",
            "weighted avg       0.96      0.96      0.96     74152\n",
            "\n",
            "Confusion Matrix:\n",
            "[[63380  1311]\n",
            " [ 1808  7653]]\n"
          ],
          "name": "stdout"
        }
      ]
    },
    {
      "cell_type": "markdown",
      "metadata": {
        "id": "TB0FDIBXCA2a"
      },
      "source": [
        "#### With Aggression test data"
      ]
    },
    {
      "cell_type": "code",
      "metadata": {
        "colab": {
          "base_uri": "https://localhost:8080/"
        },
        "id": "Myz-3cpwCA2a",
        "outputId": "efaf5833-51e1-4446-ed1d-061d53b44398"
      },
      "source": [
        "print_eval(f1_test, class_report_test, conf_matrix_test)"
      ],
      "execution_count": null,
      "outputs": [
        {
          "output_type": "stream",
          "text": [
            "F1 score: 0.7775453277545327\n",
            "Classification Report:\n",
            "              precision    recall  f1-score   support\n",
            "\n",
            "           0       0.96      0.97      0.97     20217\n",
            "           1       0.80      0.75      0.78      2956\n",
            "\n",
            "    accuracy                           0.94     23173\n",
            "   macro avg       0.88      0.86      0.87     23173\n",
            "weighted avg       0.94      0.94      0.94     23173\n",
            "\n",
            "Confusion Matrix:\n",
            "[[19667   550]\n",
            " [  726  2230]]\n"
          ],
          "name": "stdout"
        }
      ]
    }
  ]
}